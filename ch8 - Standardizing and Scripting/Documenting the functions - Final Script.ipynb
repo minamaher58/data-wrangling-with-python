{
 "cells": [
  {
   "cell_type": "markdown",
   "id": "ebb7184f",
   "metadata": {},
   "source": [
    "## Documenting Our Functions"
   ]
  },
  {
   "cell_type": "markdown",
   "id": "5da5971c",
   "metadata": {},
   "source": [
    "### Now let's put some work into documenting our code. We're going to add some docstrings to our functions, some inline notes so we can easily read the more complex bits of our script, and a larger explanation at the top of the script that we might move to a Readme.md file:"
   ]
  },
  {
   "cell_type": "code",
   "execution_count": 4,
   "id": "eb42748c",
   "metadata": {},
   "outputs": [],
   "source": [
    "\"\"\"\n",
    "This script is used to intake the male survey data from UNICEF and save it to a simple database file after it has been checked \n",
    "for duplicates and missing data and after the headers have been properly matched with the data. It expects there to be a \n",
    "'mn.csv' file with the data and the 'mn_updated_headers.csv' file. It also expects there to be a SQLite file \n",
    "called 'data_wrangling.db' in the data directory. Finally, it expects to utilize the dataset library\n",
    "(http://dataset.readthedocs.org/en/latest/).\n",
    "\n",
    "if the script runs without finding any errors, it will save the cleaned data to the 'unicef_survey' table in the SQLite.\n",
    "The saved data will have the following structure:\n",
    "    - question: string\n",
    "    - question_code: string\n",
    "    - answer: string\n",
    "    - response_number: integer\n",
    "    - survey: string\n",
    "    \n",
    "The response number can later be used to join entire responses together (i.e., all of response_number 3 come from the same \n",
    "interview, etc.).\n",
    "\n",
    "If you have any questions, please feel free to contact me via ...\n",
    "\"\"\"\n",
    "from csv import reader\n",
    "import pickle\n",
    "import dataset"
   ]
  },
  {
   "cell_type": "code",
   "execution_count": 5,
   "id": "71724fed",
   "metadata": {},
   "outputs": [],
   "source": [
    "def get_rows(file_name):\n",
    "    \"\"\"Return a list of rows from a given csv filename.\"\"\"\n",
    "    rdr = reader(open(file_name, 'r', encoding='utf-8'))\n",
    "    return [row for row in rdr]"
   ]
  },
  {
   "cell_type": "code",
   "execution_count": 6,
   "id": "0b21a61f",
   "metadata": {},
   "outputs": [],
   "source": [
    "def eliminate_mismatches(header_rows, data_rows):\n",
    "    \"\"\"\n",
    "    Return index numbers to skip in a list and final header rows in a list when given header rows and data rows from a\n",
    "    UNICEF dataset. This function assumes the data_rows object has headers in the first element. It assumes those headers are\n",
    "    the shortened UNICEF form. It also assumes the first element of each header row in the header data is the shortened UNICEF\n",
    "    form. It will return the list of indexes to skip in the data rows (ones that don't match properly with headers) as the first\n",
    "    element and will return the final cleaned header rows as the second element.\n",
    "    \"\"\"\n",
    "    all_short_headers = [h[0] for h in header_rows]\n",
    "    skip_index = []\n",
    "    final_header_rows = []\n",
    "\n",
    "    for header in data_rows[0]:\n",
    "        if header not in all_short_headers:\n",
    "            index = data_rows[0].index(header)\n",
    "            if index not in skip_index:\n",
    "                skip_index.append(index)\n",
    "        else:\n",
    "            for head in header_rows:\n",
    "                if head[0] == header:\n",
    "                    final_header_rows.append(head)\n",
    "                    break\n",
    "    return skip_index, final_header_rows"
   ]
  },
  {
   "cell_type": "code",
   "execution_count": 7,
   "id": "495f4dce",
   "metadata": {},
   "outputs": [],
   "source": [
    "def zip_data(headers, data):\n",
    "    \"\"\"\n",
    "    Return a list of zipped data when given a header list and data list. Assumes the length of data elements per row and the\n",
    "    length of headers are the same.\n",
    "    \n",
    "    example output: [(['question code', 'question summary', 'question text'], 'resp'), ...]\n",
    "    \"\"\"\n",
    "    zipped_data = []\n",
    "    for drow in data:\n",
    "        zipped_data.append(zip(headers, drow))\n",
    "    return zipped_data"
   ]
  },
  {
   "cell_type": "code",
   "execution_count": 8,
   "id": "40f7fd55",
   "metadata": {},
   "outputs": [],
   "source": [
    "def create_zipped_data(final_header_rows, data_rows, skip_index):\n",
    "    \"\"\"\n",
    "    Returns a list of zipped data rows (matching header and data) when given a list of final header rows, a list of data rows,\n",
    "    and a list of indexes on those data rows to skip as they don't match properly. The function assumes the first row in the\n",
    "    data rows contains the original data header values, and will remove those values from the final list.\n",
    "    \"\"\"\n",
    "    new_data = []\n",
    "\n",
    "    for row in data_rows[1:]:\n",
    "        new_row = []\n",
    "\n",
    "        for index, data in enumerate(row):\n",
    "            if index not in skip_index:\n",
    "                new_row.append(data)\n",
    "        new_data.append(new_row)\n",
    "    zipped_data = zip_data(final_header_rows, new_data)\n",
    "    # Save the list to a file\n",
    "    with open('zipped_data.pkl', 'wb') as file:\n",
    "        pickle.dump(zipped_data, file)\n",
    "        \n",
    "    return zipped_data"
   ]
  },
  {
   "cell_type": "code",
   "execution_count": 9,
   "id": "4bf55179",
   "metadata": {},
   "outputs": [],
   "source": [
    "# Load the list from the file\n",
    "def load_zipped_data():\n",
    "    \"\"\"retrives the list of zipped_data that was previously had been saved in a .pkl file.\"\"\"\n",
    "    with open('zipped_data.pkl', 'rb') as file:\n",
    "        zipped_data = pickle.load(file)\n",
    "        return zipped_data"
   ]
  },
  {
   "cell_type": "code",
   "execution_count": 11,
   "id": "e0c4cf84",
   "metadata": {},
   "outputs": [],
   "source": [
    "def find_missing_data(zipped_data):\n",
    "    \"\"\"\n",
    "    Returns a count of how many answers are missing in an entire set of zipped data. This function assumes all responses are\n",
    "    stored as the second element. It also assumes every response is stored in a list of these matched question, \n",
    "    answer groupings. It returns an integer.\n",
    "    \"\"\"\n",
    "    missing_count = 0\n",
    "    for response in zipped_data:\n",
    "        for question, answer in response:\n",
    "            if not answer:\n",
    "                missing_count += 1\n",
    "    return missing_count"
   ]
  },
  {
   "cell_type": "code",
   "execution_count": 12,
   "id": "2156c72d",
   "metadata": {},
   "outputs": [],
   "source": [
    "def find_duplicate_data(zipped_data):\n",
    "    \"\"\"\n",
    "    Returns a list of unique elements and a number of duplicates found when given a UNICEF zipped_data list. This function \n",
    "    assumes that the first three rows of data are structured to have the house, cluster, and line number of the interview and\n",
    "    uses these values to create a unique key that should not be repeated.\n",
    "    \"\"\"\n",
    "    set_of_keys = set()\n",
    "    for x in zipped_data:\n",
    "        unique_key = ''\n",
    "        for i, row in enumerate(x):\n",
    "            if i in [0, 1, 2]:\n",
    "                unique_key += str(row[1])+'-'\n",
    "        set_of_keys.add(unique_key[:-1])\n",
    "\n",
    "    uniques = []\n",
    "    zipped_data = load_zipped_data()\n",
    "    for x in zipped_data:\n",
    "        unique_key = ''\n",
    "        for i, row in enumerate(x):\n",
    "            if i in [0, 1, 2]:\n",
    "                unique_key += str(row[1])+'-'\n",
    "        if not set_of_keys.remove(unique_key[:-1]):\n",
    "            uniques.append(x)\n",
    "\n",
    "    return uniques, len(set_of_keys)"
   ]
  },
  {
   "cell_type": "code",
   "execution_count": 13,
   "id": "89812bf0",
   "metadata": {},
   "outputs": [],
   "source": [
    "def save_to_sqlitedb(db_file, zipped_data, survey_type):\n",
    "    \"\"\"\n",
    "    When given a path to a SQLite file, the cleaned zipped_data, and the UNICEF survey type that was used, saves the data to\n",
    "    SQLite in a table called 'unicef_survey' with the following attributes:\n",
    "        question, question_code, answer, response_number, survey\n",
    "    \"\"\"\n",
    "    db = dataset.connect(db_file)\n",
    "    table = db['unicef_survey']\n",
    "    all_rows = []\n",
    "\n",
    "    for row_num, data in enumerate(zipped_data):\n",
    "        for question, answer in data:\n",
    "            data_dict = {\n",
    "                'question': question[1],\n",
    "                'question_code': question[0],\n",
    "                'answer': answer,\n",
    "                'response_number': row_num,\n",
    "                'survery': 'mn',\n",
    "            }\n",
    "            all_rows.append(data_dict)\n",
    "            \n",
    "    table.insert_many(all_rows)"
   ]
  },
  {
   "cell_type": "code",
   "execution_count": 14,
   "id": "4e92cb26",
   "metadata": {},
   "outputs": [],
   "source": [
    "def main():\n",
    "    \"\"\"\n",
    "    Import all data into rows, clean it, and then if no errors are found, save it to SQLite. If there are errors found,\n",
    "    print out details so developers can begin work on fixing the script or seeing if there is an error in the data.\n",
    "    \"\"\"\n",
    "    data_rows = get_rows('mn.csv')\n",
    "    header_rows = get_rows('mn_headers_updated.csv')\n",
    "    skip_index, final_header_rows = eliminate_mismatches(header_rows, data_rows)\n",
    "    zipped_data = create_zipped_data(final_header_rows, data_rows, skip_index)\n",
    "    num_missing = find_missing_data(zipped_data)\n",
    "    uniques, num_dupes = find_duplicate_data(load_zipped_data())\n",
    "    if num_missing == 0 and num_dupes == 0:\n",
    "        save_to_sqlitedb('sqlite:///database/data_wrangling.db', load_zipped_data(), 'mn')\n",
    "    else:\n",
    "        error_msg = ''\n",
    "        if num_missing:\n",
    "            error_msg += 'We are missing {} values. '.format(num_missing)\n",
    "        if num_dupes:\n",
    "            error_msg += 'We have {} duplicates. '.format(num_dupes)\n",
    "        error_msg += 'Please have a look and fix!'\n",
    "        print(error_msg)"
   ]
  },
  {
   "cell_type": "code",
   "execution_count": 15,
   "id": "8c54064d",
   "metadata": {},
   "outputs": [],
   "source": [
    "main()"
   ]
  }
 ],
 "metadata": {
  "kernelspec": {
   "display_name": "data-wrangling",
   "language": "python",
   "name": "data-wrangling"
  },
  "language_info": {
   "codemirror_mode": {
    "name": "ipython",
    "version": 3
   },
   "file_extension": ".py",
   "mimetype": "text/x-python",
   "name": "python",
   "nbconvert_exporter": "python",
   "pygments_lexer": "ipython3",
   "version": "3.11.5"
  }
 },
 "nbformat": 4,
 "nbformat_minor": 5
}
