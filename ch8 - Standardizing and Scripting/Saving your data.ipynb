{
 "cells": [
  {
   "cell_type": "code",
   "execution_count": 5,
   "id": "c10284a7",
   "metadata": {},
   "outputs": [],
   "source": [
    "from datetime import datetime\n",
    "from csv import reader\n",
    "import pandas as pd\n",
    "import pickle\n",
    "import pprint\n",
    "import dataset\n",
    "from csv import writer"
   ]
  },
  {
   "cell_type": "code",
   "execution_count": 2,
   "id": "eb9916fe",
   "metadata": {},
   "outputs": [],
   "source": [
    "# Load the list from the file\n",
    "def load_zipped_data():\n",
    "    with open('zipped_data.pkl', 'rb') as file:\n",
    "        zipped_data = pickle.load(file)\n",
    "        return zipped_data"
   ]
  },
  {
   "cell_type": "code",
   "execution_count": 4,
   "id": "6c6db1b6",
   "metadata": {},
   "outputs": [],
   "source": [
    "# saving the new clean data into a database.\n",
    "zipped_data = load_zipped_data()\n",
    "db = dataset.connect('sqlite:///data_wrangling.db')\n",
    "table = db['unicef_survey']\n",
    "\n",
    "for row_num, data in enumerate(zipped_data):\n",
    "    for question, answer in data:\n",
    "        data_dict = {\n",
    "            'question': question[1],\n",
    "            'question_code': question[0],\n",
    "            'answer': answer,\n",
    "            'response_number': row_num,\n",
    "            'survey': 'mn',\n",
    "        }\n",
    "    table.insert(data_dict)"
   ]
  },
  {
   "cell_type": "code",
   "execution_count": 17,
   "id": "f36275a6",
   "metadata": {},
   "outputs": [],
   "source": [
    "# export the cleaned data to a simple file.\n",
    "zipped_data = load_zipped_data()\n",
    "\n",
    "def write_file(zipped_data, file_name):\n",
    "    with open(file_name, 'w', encoding='utf-8') as new_csv_file:\n",
    "        wrtr = writer(new_csv_file)\n",
    "        titles = [row[0][1] for row in zipped_data[0]]\n",
    "        wrtr.writerow(titles)\n",
    "        for row in zipped_data:\n",
    "            answers = [resp[1] for resp in row]\n",
    "            wrtr.writerow(answers)\n",
    "\n",
    "write_file(zipped_data, 'cleaned_unicef_data.csv')"
   ]
  },
  {
   "cell_type": "code",
   "execution_count": null,
   "id": "cafea032",
   "metadata": {},
   "outputs": [],
   "source": []
  }
 ],
 "metadata": {
  "kernelspec": {
   "display_name": "data-wrangling",
   "language": "python",
   "name": "data-wrangling"
  },
  "language_info": {
   "codemirror_mode": {
    "name": "ipython",
    "version": 3
   },
   "file_extension": ".py",
   "mimetype": "text/x-python",
   "name": "python",
   "nbconvert_exporter": "python",
   "pygments_lexer": "ipython3",
   "version": "3.11.5"
  }
 },
 "nbformat": 4,
 "nbformat_minor": 5
}
