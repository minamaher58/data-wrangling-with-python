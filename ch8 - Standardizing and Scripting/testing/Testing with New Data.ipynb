{
 "cells": [
  {
   "cell_type": "code",
   "execution_count": 1,
   "id": "e470975b",
   "metadata": {},
   "outputs": [],
   "source": [
    "import dataset\n",
    "from final_script import *"
   ]
  },
  {
   "cell_type": "code",
   "execution_count": 2,
   "id": "0d03d250",
   "metadata": {},
   "outputs": [],
   "source": [
    "def main():\n",
    "    \"\"\"\n",
    "    Import all data into rows, clean it, and then if no errors are found, save it to SQLite. If there are errors found,\n",
    "    print out details so developers can begin work on fixing the script or seeing if there is an error in the data.\n",
    "    \"\"\"\n",
    "    data_rows = get_rows('wm.csv')\n",
    "    header_rows = get_rows('wm_headers.csv')\n",
    "    skip_index, final_header_rows = eliminate_mismatches(header_rows, data_rows)\n",
    "    zipped_data = create_zipped_data(final_header_rows, data_rows, skip_index)\n",
    "    num_missing = find_missing_data(zipped_data)\n",
    "    uniques, num_dupes = find_duplicate_data(load_zipped_data())\n",
    "    if num_missing == 0 and num_dupes == 0:\n",
    "        save_to_sqlitedb('sqlite:///data_wrangling.db', load_zipped_data(), 'wm')\n",
    "    else:\n",
    "        error_msg = ''\n",
    "        if num_missing:\n",
    "            error_msg += 'We are missing {} values. '.format(num_missing)\n",
    "        if num_dupes:\n",
    "            error_msg += 'We have {} duplicates. '.format(num_dupes)\n",
    "        error_msg += 'Please have a look and fix!'\n",
    "        print(error_msg)"
   ]
  },
  {
   "cell_type": "code",
   "execution_count": 3,
   "id": "e6d0a3ee",
   "metadata": {},
   "outputs": [],
   "source": [
    "main()"
   ]
  },
  {
   "cell_type": "code",
   "execution_count": 4,
   "id": "6c4e7059",
   "metadata": {},
   "outputs": [
    {
     "name": "stdout",
     "output_type": "stream",
     "text": [
      "OrderedDict([('count(*)', 3613360)])\n"
     ]
    }
   ],
   "source": [
    "db = dataset.connect('sqlite:///data_wrangling.db')\n",
    "\n",
    "wm_count = db.query('select count(*) from unicef_survey where survey=\"wm\"')\n",
    "\n",
    "count_result = wm_count.next()\n",
    "\n",
    "print(count_result)"
   ]
  }
 ],
 "metadata": {
  "kernelspec": {
   "display_name": "data-wrangling",
   "language": "python",
   "name": "data-wrangling"
  },
  "language_info": {
   "codemirror_mode": {
    "name": "ipython",
    "version": 3
   },
   "file_extension": ".py",
   "mimetype": "text/x-python",
   "name": "python",
   "nbconvert_exporter": "python",
   "pygments_lexer": "ipython3",
   "version": "3.11.5"
  }
 },
 "nbformat": 4,
 "nbformat_minor": 5
}
