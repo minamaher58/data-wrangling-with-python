{
 "cells": [
  {
   "cell_type": "code",
   "execution_count": 1,
   "id": "71fc0d31",
   "metadata": {},
   "outputs": [],
   "source": [
    "import dataset"
   ]
  },
  {
   "cell_type": "code",
   "execution_count": 2,
   "id": "3e2d0927",
   "metadata": {},
   "outputs": [],
   "source": [
    "db = dataset.connect('sqlite:///data_wrangling.db')"
   ]
  },
  {
   "cell_type": "code",
   "execution_count": 3,
   "id": "95e60114",
   "metadata": {},
   "outputs": [],
   "source": [
    "my_data_source = {\n",
    "    'url' : 'http://www.tsmplug.com/football/premier-league-player-salaries-club-by-club/',\n",
    "    'description' : 'Premier League Club Salaries',\n",
    "    'topic' : 'football',\n",
    "    'verified' : False,\n",
    "}"
   ]
  },
  {
   "cell_type": "code",
   "execution_count": 4,
   "id": "574777dd",
   "metadata": {},
   "outputs": [
    {
     "data": {
      "text/plain": [
       "1"
      ]
     },
     "execution_count": 4,
     "metadata": {},
     "output_type": "execute_result"
    }
   ],
   "source": [
    "table = db['data_sources']\n",
    "table.insert(my_data_source)"
   ]
  },
  {
   "cell_type": "code",
   "execution_count": 5,
   "id": "7ea93590",
   "metadata": {},
   "outputs": [],
   "source": [
    "another_data_source = {\n",
    "    'url' : 'http://www.premierleague.com/content/premierleague/en-gb/players/index.html',\n",
    "    'description' : 'Premier League Stats',\n",
    "    'topic' : 'football',\n",
    "    'verified' : True,\n",
    "}"
   ]
  },
  {
   "cell_type": "code",
   "execution_count": 6,
   "id": "18c0b053",
   "metadata": {},
   "outputs": [
    {
     "data": {
      "text/plain": [
       "2"
      ]
     },
     "execution_count": 6,
     "metadata": {},
     "output_type": "execute_result"
    }
   ],
   "source": [
    "table.insert(another_data_source)"
   ]
  },
  {
   "cell_type": "code",
   "execution_count": 7,
   "id": "fb99ec9e",
   "metadata": {},
   "outputs": [
    {
     "name": "stdout",
     "output_type": "stream",
     "text": [
      "<dataset.util.ResultIter object at 0x00000296208A2750>\n"
     ]
    }
   ],
   "source": [
    "sources = db['data_sources'].all()\n",
    "print(sources)"
   ]
  }
 ],
 "metadata": {
  "kernelspec": {
   "display_name": "data-wrangling",
   "language": "python",
   "name": "data-wrangling"
  },
  "language_info": {
   "codemirror_mode": {
    "name": "ipython",
    "version": 3
   },
   "file_extension": ".py",
   "mimetype": "text/x-python",
   "name": "python",
   "nbconvert_exporter": "python",
   "pygments_lexer": "ipython3",
   "version": "3.11.5"
  }
 },
 "nbformat": 4,
 "nbformat_minor": 5
}
