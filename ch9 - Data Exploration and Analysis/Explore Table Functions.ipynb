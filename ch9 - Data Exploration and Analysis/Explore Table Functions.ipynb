{
 "cells": [
  {
   "cell_type": "code",
   "execution_count": 14,
   "id": "82f8eb45",
   "metadata": {},
   "outputs": [],
   "source": [
    "import agate"
   ]
  },
  {
   "cell_type": "code",
   "execution_count": 15,
   "id": "4c92db80",
   "metadata": {},
   "outputs": [],
   "source": [
    "%store -r table"
   ]
  },
  {
   "cell_type": "code",
   "execution_count": 16,
   "id": "6f78278f",
   "metadata": {},
   "outputs": [
    {
     "data": {
      "text/plain": [
       "<agate.table.Table at 0x1f0bc9b1010>"
      ]
     },
     "execution_count": 16,
     "metadata": {},
     "output_type": "execute_result"
    }
   ],
   "source": [
    "table"
   ]
  },
  {
   "cell_type": "code",
   "execution_count": 17,
   "id": "c72902d7",
   "metadata": {
    "scrolled": true
   },
   "outputs": [
    {
     "data": {
      "text/plain": [
       "('Countries and areas',\n",
       " 'Total (%)',\n",
       " 'c',\n",
       " 'Sex (%) Male',\n",
       " 'Female',\n",
       " 'Place of residence (%) Urban',\n",
       " 'Rural',\n",
       " 'Household wealth quintile (%) Poorest',\n",
       " 'Second',\n",
       " 'Middle',\n",
       " 'Fourth',\n",
       " 'Richest',\n",
       " 'Reference Year',\n",
       " 'Data Source')"
      ]
     },
     "execution_count": 17,
     "metadata": {},
     "output_type": "execute_result"
    }
   ],
   "source": [
    "table.column_names"
   ]
  },
  {
   "cell_type": "code",
   "execution_count": 18,
   "id": "7455abb8",
   "metadata": {},
   "outputs": [
    {
     "name": "stdout",
     "output_type": "stream",
     "text": [
      "<agate.Row: ('Somalia', Decimal('49.0'), None, Decimal('44.5'), Decimal('53.6'), ...)>\n",
      "<agate.Row: ('Cameroon', Decimal('41.7'), None, Decimal('43.1'), Decimal('40.2'), ...)>\n",
      "<agate.Row: ('Zambia', Decimal('40.6'), 'y', Decimal('41.6'), Decimal('39.5'), ...)>\n",
      "<agate.Row: ('Burkina Faso', Decimal('39.2'), None, Decimal('42.3'), Decimal('36.0'), ...)>\n",
      "<agate.Row: ('Guinea-Bissau', Decimal('38.0'), None, Decimal('39.5'), Decimal('36.4'), ...)>\n",
      "<agate.Row: ('Ghana', Decimal('33.9'), None, Decimal('33.8'), Decimal('34.0'), ...)>\n",
      "<agate.Row: ('Nepal', Decimal('33.9'), 'y', Decimal('30.2'), Decimal('37.8'), ...)>\n",
      "<agate.Row: ('Peru', Decimal('33.5'), 'y', Decimal('30.6'), Decimal('36.3'), ...)>\n",
      "<agate.Row: ('Niger', Decimal('30.5'), None, Decimal('30.8'), Decimal('30.1'), ...)>\n",
      "<agate.Row: ('Central African Republic', Decimal('28.5'), None, Decimal('27.2'), Decimal('29.9'), ...)>\n"
     ]
    }
   ],
   "source": [
    "# returns a list of the 10 countries with the highest incidence of child labor, in terms of percentages.\n",
    "most_egregious = table.order_by('Total (%)', reverse = True).limit(10)\n",
    "\n",
    "for r in most_egregious.rows:\n",
    "    print(r)"
   ]
  },
  {
   "cell_type": "code",
   "execution_count": 19,
   "id": "214bc65f",
   "metadata": {},
   "outputs": [
    {
     "name": "stdout",
     "output_type": "stream",
     "text": [
      "Cabo Verde: None%\n",
      "Chile: None%\n",
      "Ecuador: None%\n",
      "Somalia: 53.6%\n",
      "Cameroon: 40.2%\n",
      "Zambia: 39.5%\n",
      "Nepal: 37.8%\n",
      "Guinea-Bissau: 36.4%\n",
      "Peru: 36.3%\n",
      "Burkina Faso: 36.0%\n"
     ]
    }
   ],
   "source": [
    "# returns a list of the 10 countries with the most girls working.\n",
    "most_females = table.order_by('Female', reverse=True).limit(10)\n",
    "for r in most_females.rows:\n",
    "    print('{}: {}%'.format(r['Countries and areas'], r['Female']))"
   ]
  },
  {
   "cell_type": "code",
   "execution_count": 20,
   "id": "d745e83a",
   "metadata": {},
   "outputs": [
    {
     "name": "stdout",
     "output_type": "stream",
     "text": [
      "Somalia: 53.6%\n",
      "Cameroon: 40.2%\n",
      "Zambia: 39.5%\n",
      "Nepal: 37.8%\n",
      "Guinea-Bissau: 36.4%\n",
      "Peru: 36.3%\n",
      "Burkina Faso: 36.0%\n",
      "Ghana: 34.0%\n",
      "Rwanda: 30.4%\n",
      "Niger: 30.1%\n"
     ]
    }
   ],
   "source": [
    "# removing the None using the agate table's where method\n",
    "female_data = table.where(lambda r: r['Female'] is not None)\n",
    "most_females = female_data.order_by('Female', reverse=True).limit(10)\n",
    "\n",
    "for r in most_females.rows:\n",
    "    print('{}: {}%'.format(r['Countries and areas'], r['Female']))"
   ]
  },
  {
   "cell_type": "code",
   "execution_count": 21,
   "id": "40a95b01",
   "metadata": {},
   "outputs": [
    {
     "name": "stderr",
     "output_type": "stream",
     "text": [
      "C:\\Users\\mina maher\\.conda\\envs\\data-wrangling\\Lib\\site-packages\\agate\\aggregations\\mean.py:35: NullCalculationWarning: Column \"Place of residence (%) Urban\" contains nulls. These will be excluded from Mean calculation.\n"
     ]
    },
    {
     "data": {
      "text/plain": [
       "Decimal('10.41204819277108433734939759')"
      ]
     },
     "execution_count": 21,
     "metadata": {},
     "output_type": "execute_result"
    }
   ],
   "source": [
    "# finding the average percentage of child labor\n",
    "table.aggregate(agate.Mean('Place of residence (%) Urban'))"
   ]
  },
  {
   "cell_type": "code",
   "execution_count": 22,
   "id": "b40514bc",
   "metadata": {},
   "outputs": [
    {
     "data": {
      "text/plain": [
       "Decimal('10.41204819277108433734939759')"
      ]
     },
     "execution_count": 22,
     "metadata": {},
     "output_type": "execute_result"
    }
   ],
   "source": [
    "# we got the same value, because agate just does the same thing(removing null columns and computing the average of what's left)\n",
    "has_por = table.where(lambda r: r['Place of residence (%) Urban'] is not None)\n",
    "\n",
    "has_por.aggregate(agate.Mean('Place of residence (%) Urban'))"
   ]
  },
  {
   "cell_type": "code",
   "execution_count": 23,
   "id": "ab12b834",
   "metadata": {},
   "outputs": [
    {
     "data": {
      "text/plain": [
       "'Bolivia (Plurinational State of)'"
      ]
     },
     "execution_count": 23,
     "metadata": {},
     "output_type": "execute_result"
    }
   ],
   "source": [
    "# finding one of the rows with more than 50% of rural child labor.\n",
    "first_match = has_por.find(lambda x: x['Rural'] > 50)\n",
    "first_match['Countries and areas']"
   ]
  },
  {
   "cell_type": "code",
   "execution_count": 24,
   "id": "bdb8bc98",
   "metadata": {},
   "outputs": [
    {
     "name": "stdout",
     "output_type": "stream",
     "text": [
      "49.0 1\n",
      "41.7 2\n",
      "40.6 3\n",
      "39.2 4\n",
      "38.0 5\n",
      "33.9 6\n",
      "33.9 6\n",
      "33.5 8\n",
      "30.5 9\n",
      "28.5 10\n",
      "28.5 10\n",
      "28.3 12\n",
      "28.3 12\n",
      "27.8 14\n",
      "27.6 15\n",
      "27.4 16\n",
      "26.4 17\n",
      "26.4 17\n",
      "26.3 19\n",
      "26.1 20\n"
     ]
    }
   ],
   "source": [
    "ranked = table.compute([('Total Child Labor Rank', agate.Rank('Total (%)', reverse=True))])\n",
    "\n",
    "for row in ranked.order_by('Total (%)', reverse=True).limit(20).rows:\n",
    "    print(row['Total (%)'], row['Total Child Labor Rank'])"
   ]
  },
  {
   "cell_type": "code",
   "execution_count": 27,
   "id": "04986575",
   "metadata": {},
   "outputs": [
    {
     "name": "stdout",
     "output_type": "stream",
     "text": [
      "| column                                | data_type |\n",
      "| ------------------------------------- | --------- |\n",
      "| Countries and areas                   | Text      |\n",
      "| Total (%)                             | Number    |\n",
      "| c                                     | Text      |\n",
      "| Sex (%) Male                          | Number    |\n",
      "| Female                                | Number    |\n",
      "| Place of residence (%) Urban          | Number    |\n",
      "| Rural                                 | Number    |\n",
      "| Household wealth quintile (%) Poorest | Number    |\n",
      "| Second                                | Number    |\n",
      "| Middle                                | Number    |\n",
      "| Fourth                                | Number    |\n",
      "| Richest                               | Number    |\n",
      "| Reference Year                        | Text      |\n",
      "| Data Source                           | Text      |\n",
      "| Total Child Labor Rank                | Number    |\n",
      "\n"
     ]
    }
   ],
   "source": [
    "print(ranked)"
   ]
  },
  {
   "cell_type": "code",
   "execution_count": 32,
   "id": "54f18bf8",
   "metadata": {},
   "outputs": [
    {
     "name": "stdout",
     "output_type": "stream",
     "text": [
      "49.0 1\n",
      "41.7 2\n",
      "40.6 3\n",
      "39.2 4\n",
      "38.0 5\n",
      "33.9 6\n",
      "33.9 6\n",
      "33.5 8\n",
      "30.5 9\n",
      "28.5 10\n",
      "28.5 10\n",
      "28.3 12\n",
      "28.3 12\n",
      "27.8 14\n",
      "27.6 15\n",
      "27.4 16\n",
      "26.4 17\n",
      "26.4 17\n",
      "26.3 19\n",
      "26.1 20\n"
     ]
    }
   ],
   "source": [
    "# calculate the rank in another way, creating a column with the inverse percentages.\n",
    "def reverse_percent(row):\n",
    "    return 100 - row['Total (%)']\n",
    "\n",
    "ranked = table.compute([('Children not working (%)', agate.Formula(agate.Number(), reverse_percent))])\n",
    "\n",
    "ranked = ranked.compute([('Total Child Labor Rank', agate.Rank('Children not working (%)'))])\n",
    "\n",
    "for row in ranked.order_by('Total (%)', reverse = True).limit(20).rows:\n",
    "    print(row['Total (%)'], row['Total Child Labor Rank'])"
   ]
  },
  {
   "cell_type": "code",
   "execution_count": null,
   "id": "1ffa81d8",
   "metadata": {},
   "outputs": [],
   "source": []
  }
 ],
 "metadata": {
  "kernelspec": {
   "display_name": "data-wrangling",
   "language": "python",
   "name": "data-wrangling"
  },
  "language_info": {
   "codemirror_mode": {
    "name": "ipython",
    "version": 3
   },
   "file_extension": ".py",
   "mimetype": "text/x-python",
   "name": "python",
   "nbconvert_exporter": "python",
   "pygments_lexer": "ipython3",
   "version": "3.11.5"
  }
 },
 "nbformat": 4,
 "nbformat_minor": 5
}
