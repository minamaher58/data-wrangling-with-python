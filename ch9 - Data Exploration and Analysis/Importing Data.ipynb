{
 "cells": [
  {
   "cell_type": "code",
   "execution_count": 1,
   "id": "93ebaeb1",
   "metadata": {},
   "outputs": [],
   "source": [
    "import xlrd\n",
    "import agate"
   ]
  },
  {
   "cell_type": "code",
   "execution_count": 2,
   "id": "164c9537",
   "metadata": {},
   "outputs": [
    {
     "name": "stdout",
     "output_type": "stream",
     "text": [
      "1\n",
      "['Child labour  ']\n"
     ]
    }
   ],
   "source": [
    "workbook = xlrd.open_workbook('unicef_oct_2014.xls')\n",
    "print(workbook.nsheets)\n",
    "print(workbook.sheet_names())"
   ]
  },
  {
   "cell_type": "code",
   "execution_count": 3,
   "id": "e2e5f766",
   "metadata": {},
   "outputs": [
    {
     "name": "stdout",
     "output_type": "stream",
     "text": [
      "134\n"
     ]
    }
   ],
   "source": [
    "sheet = workbook.sheets()[0]\n",
    "print(sheet.nrows)"
   ]
  },
  {
   "cell_type": "code",
   "execution_count": 4,
   "id": "a818e436",
   "metadata": {},
   "outputs": [
    {
     "name": "stdout",
     "output_type": "stream",
     "text": [
      "['UNICEF global databases', '', '', '', '', '', '', '', '', '', '', '', '', '']\n"
     ]
    }
   ],
   "source": [
    "print(sheet.row_values(0))"
   ]
  },
  {
   "cell_type": "code",
   "execution_count": 5,
   "id": "8ffe5e70",
   "metadata": {},
   "outputs": [
    {
     "name": "stdout",
     "output_type": "stream",
     "text": [
      "0 [text:'UNICEF global databases', empty:'', empty:'', empty:'', empty:'', empty:'', empty:'', empty:'', empty:'', empty:'', empty:'', empty:'', empty:'', empty:'']\n",
      "1 [text:'Child labour', empty:'', empty:'', empty:'', empty:'', empty:'', empty:'', empty:'', empty:'', empty:'', empty:'', empty:'', empty:'', empty:'']\n",
      "2 [text:'Updated November 2014', empty:'', empty:'', empty:'', empty:'', empty:'', empty:'', empty:'', empty:'', empty:'', empty:'', empty:'', empty:'', empty:'']\n",
      "3 [empty:'', empty:'', empty:'', empty:'', empty:'', empty:'', empty:'', empty:'', empty:'', empty:'', empty:'', empty:'', empty:'', empty:'']\n",
      "4 [empty:'', text:'Total (%)', empty:'', text:'Sex (%)', empty:'', text:'Place of residence (%)', empty:'', text:'Household wealth quintile (%)', empty:'', empty:'', empty:'', empty:'', text:'Reference Year', text:'Data Source']\n",
      "5 [text:'Countries and areas', empty:'', empty:'', text:'Male', text:'Female', text:'Urban', text:'Rural', text:'Poorest', text:'Second', text:'Middle', text:'Fourth', text:'Richest', empty:'', empty:'']\n",
      "6 [text:'Afghanistan', number:10.3, empty:'', number:11.0, number:9.6, number:7.9, number:10.8, number:11.9, number:11.8, number:10.1, number:9.7, number:7.8, text:'2010-2011', text:'MICS']\n",
      "7 [text:'Albania', number:5.1, text:'y', number:6.2, number:3.9, text:'-', text:'-', text:'-', text:'-', text:'-', text:'-', text:'-', number:2010.0, text:'National Child Labour Survey']\n",
      "8 [text:'Algeria', number:4.7, text:'y', number:5.5, number:3.9, number:3.9, number:5.6, number:7.3, number:4.5, number:4.1, number:3.1, number:3.8, number:2006.0, text:'MICS']\n",
      "9 [text:'Angola', number:23.5, empty:'', number:22.1, number:24.8, text:'-', text:'-', text:'-', text:'-', text:'-', text:'-', text:'-', number:2001.0, text:'MICS']\n",
      "10 [text:'Argentina', number:4.4, empty:'', number:4.8, number:3.9, text:'-', text:'-', number:6.8, number:3.9, number:3.3, number:3.7, number:3.1, text:'2011/2012', text:'MICS']\n",
      "11 [text:'Armenia', number:3.9, empty:'', number:4.7, number:2.9, number:2.4, number:6.0, number:6.9, number:4.1, number:3.2, number:2.4, number:2.4, number:2010.0, text:'ARM_DHS _2010']\n",
      "12 [text:'Azerbaijan', number:6.5, text:'y', number:7.5, number:5.4, number:2.1, number:10.7, text:'-', text:'-', text:'-', text:'-', text:'-', number:2005.0, text:'Dayioglu, Meltem. 2007. Working children in Azerbaijan: An analysis of the 2005 child labour and labouring children surveys. State Statistical Committee of Azerbaijan and ILO']\n",
      "13 [text:'Bahrain', number:4.6, empty:'', number:6.3, number:3.0, text:'-', text:'-', text:'-', text:'-', text:'-', text:'-', text:'-', number:2000.0, text:'MICS']\n",
      "14 [text:'Bangladesh', number:12.8, empty:'', number:17.5, number:8.1, number:11.2, number:13.4, number:16.0, number:14.7, number:13.0, number:10.5, number:8.2, number:2006.0, text:'MICS']\n",
      "15 [text:'Belarus', number:1.4, empty:'', number:1.4, number:1.5, number:1.3, number:1.8, number:1.0, number:2.4, number:1.2, number:1.7, number:1.0, number:2012.0, text:'MICS']\n",
      "16 [text:'Belize', number:5.8, empty:'', number:6.7, number:5.0, number:3.2, number:7.4, number:8.4, number:8.4, number:4.9, number:2.8, number:3.1, number:2011.0, text:'MICS']\n",
      "17 [text:'Benin', number:15.3, empty:'', number:14.9, number:15.6, number:10.5, number:18.1, number:19.6, number:19.9, number:16.8, number:10.9, number:6.0, text:'2011-2012', text:'DHS']\n",
      "18 [text:'Bhutan', number:2.9, empty:'', number:2.6, number:3.1, number:1.7, number:3.3, number:4.5, number:3.2, number:2.2, number:2.4, number:2.2, number:2010.0, text:'MICS']\n",
      "19 [text:'Bolivia (Plurinational State of)', number:26.4, text:'y', number:28.2, number:24.4, number:15.1, number:64.6, text:'-', text:'-', text:'-', text:'-', text:'-', number:2008.0, text:'ETI']\n",
      "20 [text:'Bosnia and Herzegovina', number:5.3, empty:'', number:6.6, number:3.9, number:3.2, number:6.4, number:4.5, number:11.1, number:5.0, number:2.8, number:3.6, number:2006.0, text:'MICS']\n",
      "21 [text:'Botswana', number:9.0, text:'y', number:10.9, number:7.0, number:11.3, number:12.6, text:'-', text:'-', text:'-', text:'-', text:'-', text:'2005-2006', text:'Botswana Labour Force Survey']\n",
      "22 [text:'Brazil', number:8.3, text:'y', number:10.6, number:6.0, text:'-', text:'-', text:'-', text:'-', text:'-', text:'-', text:'-', number:2012.0, text:'IBGE PNAD']\n",
      "23 [text:'Burkina Faso', number:39.2, empty:'', number:42.3, number:36.0, number:17.3, number:44.0, number:48.0, number:44.6, number:42.5, number:37.9, number:18.1, number:2010.0, text:'DHS']\n",
      "24 [text:'Burundi', number:26.3, empty:'', number:25.5, number:27.1, number:14.5, number:27.4, number:26.8, number:28.0, number:28.4, number:26.8, number:21.1, number:2010.0, text:'DHS']\n",
      "25 [text:'Cabo Verde', number:6.4, text:'y', text:'-', text:'-', text:'-', text:'-', text:'-', text:'-', text:'-', text:'-', text:'-', number:2012.0, text:'Inquerito Multi-Objectivo Continuo (prelim)']\n",
      "26 [text:'Cambodia', number:18.3, text:'y', number:19.2, number:17.4, text:'-', text:'-', text:'-', text:'-', text:'-', text:'-', text:'-', number:2013.0, text:'CSES']\n",
      "27 [text:'Cameroon', number:41.7, empty:'', number:43.1, number:40.2, number:27.2, number:52.8, number:55.9, number:52.9, number:42.5, number:31.9, number:17.6, number:2011.0, text:'DHS']\n",
      "28 [text:'Central African Republic', number:28.5, empty:'', number:27.2, number:29.9, number:21.2, number:33.0, number:35.8, number:36.0, number:32.2, number:21.8, number:17.0, number:2010.0, text:'MICS']\n",
      "29 [text:'Chad', number:26.1, empty:'', number:24.5, number:27.8, number:23.6, number:26.8, number:27.0, number:26.1, number:28.4, number:27.2, number:21.5, number:2010.0, text:'MICS']\n",
      "30 [text:'Chile', number:6.6, text:'y', text:'-', text:'-', text:'-', text:'-', text:'-', text:'-', text:'-', text:'-', text:'-', number:2012.0, text:'EANNA']\n",
      "31 [text:'Colombia', number:9.7, text:'y', number:12.5, number:6.6, number:7.4, number:15.8, text:'-', text:'-', text:'-', text:'-', text:'-', number:2013.0, text:'ENTI']\n",
      "32 [text:'Comoros', number:22.0, empty:'', number:20.2, number:23.8, number:16.5, number:24.3, number:29.6, number:25.1, number:20.8, number:18.4, number:10.8, number:2012.0, text:'DHS']\n",
      "33 [text:'Congo', number:18.4, empty:'', number:17.7, number:19.0, number:13.5, number:25.7, number:29.1, number:21.9, number:13.4, number:15.9, number:9.5, text:'2011-2012', text:'DHS']\n",
      "34 [text:'Costa Rica', number:4.1, empty:'', number:3.5, number:4.6, number:4.0, number:4.2, number:6.2, number:3.0, number:2.2, number:4.7, number:3.6, number:2011.0, text:'MICS']\n",
      "35 [text:\"Côte d'Ivoire\", number:26.4, empty:'', number:25.4, number:27.5, number:15.6, number:33.9, number:36.9, number:30.2, number:30.3, number:20.4, number:12.5, text:'2011-2012', text:'DHS']\n",
      "36 [text:'Democratic Republic of the Congo', number:15.0, empty:'', number:13.1, number:16.8, number:10.3, number:16.9, number:16.3, number:16.2, number:15.9, number:16.9, number:9.2, number:2010.0, text:'MICS']\n",
      "37 [text:'Djibouti', number:7.7, empty:'', number:7.6, number:7.7, number:7.6, number:9.7, text:'-', text:'-', text:'-', text:'-', text:'-', number:2006.0, text:'MICS']\n",
      "38 [text:'Dominican Republic', number:12.9, empty:'', number:17.5, number:7.9, number:10.6, number:17.1, number:18.5, number:17.6, number:10.4, number:10.1, number:5.1, text:'2009-2010', text:'ENHOGAR']\n",
      "39 [text:'Ecuador', number:8.6, text:'y', text:'-', text:'-', number:4.3, number:15.5, text:'-', text:'-', text:'-', text:'-', text:'-', number:2012.0, text:'ENTI']\n",
      "40 [text:'Egypt', number:9.3, text:'y', number:14.3, number:4.0, text:'-', text:'-', text:'-', text:'-', text:'-', text:'-', text:'-', number:2010.0, text:'National Child Labour Survey']\n",
      "41 [text:'El Salvador', number:8.5, text:'y', number:12.7, number:4.2, number:5.7, number:12.4, number:8.2, number:6.7, number:8.1, number:9.9, number:9.3, number:2013.0, text:'EHPM']\n",
      "42 [text:'Equatorial Guinea', number:27.8, empty:'', number:27.9, number:27.6, text:'-', text:'-', text:'-', text:'-', text:'-', text:'-', text:'-', number:2000.0, text:'MICS']\n",
      "43 [text:'Ethiopia', number:27.4, empty:'', number:31.1, number:23.5, number:13.3, number:29.7, number:31.3, number:30.8, number:30.2, number:27.0, number:14.7, number:2011.0, text:'DHS']\n",
      "44 [text:'Gabon', number:13.4, empty:'', number:15.4, number:11.6, number:11.0, number:26.6, number:26.4, number:12.5, number:12.3, number:7.9, number:7.5, number:2012.0, text:'DHS']\n",
      "45 [text:'Gambia', number:19.2, empty:'', number:20.9, number:17.5, number:9.5, number:26.0, number:28.1, number:20.7, number:18.8, number:16.6, number:8.6, number:2010.0, text:'MICS']\n",
      "46 [text:'Georgia', number:18.4, empty:'', number:20.0, number:16.6, number:16.1, number:20.4, number:17.8, number:21.5, number:19.7, number:17.8, number:15.0, number:2005.0, text:'MICS']\n",
      "47 [text:'Ghana', number:33.9, empty:'', number:33.8, number:34.0, number:19.7, number:42.5, number:47.9, number:46.1, number:30.8, number:24.0, number:13.7, number:2006.0, text:'MICS']\n",
      "48 [text:'Guatemala', number:25.8, text:'y', number:35.1, number:16.1, number:20.7, number:32.6, text:'-', text:'-', text:'-', text:'-', text:'-', number:2012.0, text:'ENEI']\n",
      "49 [text:'Guinea', number:28.3, empty:'', number:29.2, number:27.4, number:11.9, number:35.2, number:40.0, number:34.3, number:32.3, number:22.6, number:8.8, number:2012.0, text:'DHS']\n",
      "50 [text:'Guinea-Bissau', number:38.0, empty:'', number:39.5, number:36.4, number:23.0, number:47.6, number:50.7, number:48.7, number:41.7, number:23.4, number:15.4, number:2010.0, text:'MICS']\n",
      "51 [text:'Guyana', number:16.4, empty:'', number:17.3, number:15.5, number:9.0, number:19.0, number:29.4, number:17.3, number:13.1, number:11.5, number:3.9, number:2006.0, text:'MICS']\n",
      "52 [text:'Haiti', number:24.4, empty:'', number:24.5, number:24.3, number:15.8, number:29.2, number:33.7, number:29.9, number:23.8, number:18.5, number:10.6, number:2012.0, text:'DHS']\n",
      "53 [text:'Honduras', number:14.0, text:'y', number:22.1, number:5.9, number:9.1, number:17.1, text:'-', text:'-', text:'-', text:'-', text:'-', number:2013.0, text:'Encuesta Permanente de Hogares de Propositos Multiples, UCW calculations']\n",
      "54 [text:'India', number:11.8, empty:'', number:11.6, number:11.9, number:8.6, number:12.9, number:14.2, number:14.0, number:12.2, number:9.3, number:6.4, text:'2005-2006', text:'NFHS']\n",
      "55 [text:'Indonesia', number:6.9, text:'y', number:7.9, number:5.8, text:'-', text:'-', text:'-', text:'-', text:'-', text:'-', text:'-', number:2009.0, text:' Indonesia Child Labour Survey']\n",
      "56 [text:'Iran (Islamic Republic of)', number:11.4, text:'y', number:12.5, number:10.2, number:9.5, number:15.0, text:'-', text:'-', text:'-', text:'-', text:'-', number:2010.0, text:'MIDHS']\n",
      "57 [text:'Iraq', number:4.7, empty:'', number:5.4, number:4.0, number:3.3, number:7.6, number:7.9, number:5.0, number:3.7, number:3.8, number:1.8, number:2011.0, text:'MICS']\n",
      "58 [text:'Jamaica', number:3.3, empty:'', number:3.5, number:3.2, number:3.9, number:2.7, number:4.4, number:4.7, number:2.2, number:3.1, number:1.6, number:2011.0, text:'MICS']\n",
      "59 [text:'Jordan', number:1.6, text:'y', number:2.8, number:0.3, text:'-', text:'-', text:'-', text:'-', text:'-', text:'-', text:'-', number:2007.0, text:'Child Labour Survey']\n",
      "60 [text:'Kazakhstan', number:2.2, empty:'', number:2.4, number:2.1, number:2.5, number:1.9, number:1.8, number:2.1, number:2.8, number:2.4, number:2.2, number:2006.0, text:'MICS']\n",
      "61 [text:'Kenya', number:25.9, empty:'', number:26.5, number:25.2, text:'-', text:'-', text:'-', text:'-', text:'-', text:'-', text:'-', number:2000.0, text:'MICS']\n",
      "62 [text:'Kyrgyzstan', number:3.6, empty:'', number:4.3, number:2.9, number:1.9, number:4.5, number:1.9, number:3.7, number:4.7, number:5.0, number:2.8, number:2006.0, text:'MICS']\n",
      "63 [text:\"Lao People's Democratic Republic\", number:10.1, text:'y', number:9.0, number:11.2, text:'-', text:'-', text:'-', text:'-', text:'-', text:'-', text:'-', number:2010.0, text:'National Child Labour Survey ']\n",
      "64 [text:'Lebanon', number:1.9, empty:'', number:2.7, number:0.9, text:'-', text:'-', text:'-', text:'-', text:'-', text:'-', text:'-', number:2009.0, text:'MICS']\n",
      "65 [text:'Lesotho', number:22.9, empty:'', number:25.0, number:20.7, text:'-', text:'-', text:'-', text:'-', text:'-', text:'-', text:'-', number:2000.0, text:'MICS']\n",
      "66 [text:'Liberia', number:20.8, empty:'', number:21.1, number:20.5, number:15.7, number:24.0, number:26.9, number:25.3, number:21.2, number:18.4, number:13.5, number:2007.0, text:'DHS']\n",
      "67 [text:'Madagascar', number:22.9, text:'y', number:23.2, number:22.6, number:15.2, number:24.6, number:27.0, number:25.9, number:23.6, number:20.8, number:13.4, text:'2012-2013', text:'ENSOMD']\n",
      "68 [text:'Malawi', number:25.7, empty:'', number:25.3, number:26.2, number:13.9, number:27.7, number:26.3, number:29.8, number:29.3, number:26.2, number:18.0, number:2006.0, text:'MICS']\n",
      "69 [text:'Mali', number:21.4, empty:'', number:22.0, number:20.7, number:17.7, number:22.6, number:21.1, number:23.5, number:22.8, number:21.4, number:17.2, number:2010.0, text:'MICS']\n",
      "70 [text:'Mauritania', number:14.6, empty:'', number:14.3, number:14.9, number:7.5, number:16.6, number:25.3, number:18.3, number:10.9, number:8.6, number:4.8, number:2011.0, text:'MICS']\n",
      "71 [text:'Mexico', number:6.3, text:'y', number:7.3, number:5.3, number:5.1, number:8.0, text:'-', text:'-', text:'-', text:'-', text:'-', number:2011.0, text:'Modulo de Trabajo Infantil de la ENOE']\n",
      "72 [text:'Mongolia', number:10.4, empty:'', number:10.3, number:10.6, number:8.8, number:16.0, number:14.9, number:11.9, number:11.4, number:8.8, number:3.1, number:2010.0, text:'MICS']\n",
      "73 [text:'Montenegro', number:9.9, empty:'', number:11.7, number:7.8, number:5.5, number:16.5, number:23.7, number:8.7, number:4.8, number:6.4, number:3.2, number:2005.0, text:'MICS']\n",
      "74 [text:'Morocco', number:8.3, empty:'', number:9.1, number:7.5, number:3.5, number:13.3, number:17.7, number:9.6, number:5.0, number:3.2, number:1.9, text:'2006-2007', text:'ENIMSJ']\n",
      "75 [text:'Mozambique', number:22.2, empty:'', number:20.5, number:23.8, number:15.1, number:25.3, number:24.0, number:22.8, number:25.4, number:23.6, number:14.3, number:2008.0, text:'MICS']\n",
      "76 [text:'Nepal', number:33.9, text:'y', number:30.2, number:37.8, number:14.4, number:36.7, text:'-', text:'-', text:'-', text:'-', text:'-', number:2008.0, text:'Nepal Labour Force Survey']\n",
      "77 [text:'Nicaragua', number:14.5, empty:'', number:17.6, number:11.2, text:'-', text:'-', text:'-', text:'-', text:'-', text:'-', text:'-', number:2001.0, text:'DHS']\n",
      "78 [text:'Niger', number:30.5, empty:'', number:30.8, number:30.1, number:18.1, number:32.6, number:28.8, number:33.3, number:32.9, number:33.6, number:23.0, number:2012.0, text:'DHS']\n",
      "79 [text:'Nigeria', number:24.7, empty:'', number:24.1, number:25.3, number:18.7, number:27.6, number:28.5, number:28.2, number:25.3, number:22.3, number:17.8, number:2011.0, text:'MICS']\n",
      "80 [text:'Panama', number:5.6, text:'y', number:8.0, number:3.0, number:2.5, number:8.6, text:'-', text:'-', text:'-', text:'-', text:'-', number:2012.0, text:'ETI']\n",
      "81 [text:'Paraguay', number:27.6, text:'y', number:31.8, number:23.5, number:20.2, number:36.7, number:29.6, number:29.0, number:28.5, number:25.1, number:23.7, number:2011.0, text:'EANA']\n",
      "82 [text:'Peru', number:33.5, text:'y', number:30.6, number:36.3, number:18.2, number:60.9, text:'-', text:'-', text:'-', text:'-', text:'-', number:2007.0, text:'ESTI']\n",
      "83 [text:'Philippines', number:11.1, text:'y', number:14.1, number:7.9, text:'-', text:'-', text:'-', text:'-', text:'-', text:'-', text:'-', number:2011.0, text:'Survey on Children (prelim)']\n",
      "84 [text:'Portugal', number:3.4, text:'y', number:4.2, number:2.5, text:'-', text:'-', text:'-', text:'-', text:'-', text:'-', text:'-', number:2001.0, text:'Labour Force Survey, UCW calculations']\n",
      "85 [text:'Republic of Moldova', number:16.3, empty:'', number:20.2, number:12.3, text:'-', text:'-', text:'-', text:'-', text:'-', text:'-', text:'-', number:2009.0, text:\"Children''s Activities Survey\"]\n",
      "86 [text:'Romania', number:0.9, empty:'', number:1.2, number:0.7, text:'-', text:'-', text:'-', text:'-', text:'-', text:'-', text:'-', number:2000.0, text:'Household Labour Force Survey, UCW calculations']\n",
      "87 [text:'Rwanda', number:28.5, empty:'', number:26.7, number:30.4, number:18.7, number:29.8, number:33.3, number:30.9, number:29.4, number:29.4, number:18.3, number:2010.0, text:'DHS']\n",
      "88 [text:'Saint Lucia', number:3.9, empty:'', number:4.9, number:2.9, number:3.8, number:3.9, text:'-', text:'-', text:'-', text:'-', text:'-', number:2012.0, text:'MICS']\n",
      "89 [text:'Sao Tome and Principe', number:7.5, empty:'', number:7.7, number:7.2, number:5.7, number:9.7, number:8.3, number:9.4, number:8.8, number:6.7, number:3.9, number:2006.0, text:'MICS']\n",
      "90 [text:'Senegal', number:14.5, empty:'', number:19.0, number:10.0, number:5.1, number:19.8, number:29.7, number:18.8, number:8.8, number:6.3, number:4.5, text:'2012-2013', text:'Continuous DHS']\n",
      "91 [text:'Serbia', number:4.4, empty:'', number:4.5, number:4.4, number:3.3, number:5.7, number:8.4, number:5.5, number:2.9, number:2.7, number:2.6, number:2005.0, text:'MICS']\n",
      "92 [text:'Sierra Leone', number:26.0, empty:'', number:27.0, number:25.0, number:18.2, number:29.3, number:29.4, number:32.7, number:30.8, number:24.3, number:11.3, number:2010.0, text:'MICS']\n",
      "93 [text:'Somalia', number:49.0, empty:'', number:44.5, number:53.6, number:36.1, number:56.6, number:62.1, number:59.9, number:50.7, number:39.0, number:31.5, number:2006.0, text:'MICS']\n",
      "94 [text:'State of Palestine', number:5.7, empty:'', number:7.4, number:4.0, number:4.8, number:10.1, number:8.0, number:5.2, number:5.2, number:5.2, number:4.8, number:2010.0, text:'MICS']\n",
      "95 [text:'Suriname', number:4.1, empty:'', number:4.1, number:4.1, number:2.5, number:6.9, number:7.9, number:2.7, number:3.5, number:2.1, number:1.6, number:2010.0, text:'MICS']\n",
      "96 [text:'Swaziland', number:7.3, empty:'', number:7.7, number:6.9, number:6.6, number:7.5, number:9.9, number:6.9, number:8.1, number:5.4, number:5.2, number:2010.0, text:'MICS']\n",
      "97 [text:'Syrian Arab Republic', number:4.0, empty:'', number:5.0, number:3.0, number:2.6, number:5.5, number:6.7, number:5.2, number:3.3, number:2.9, number:1.6, number:2006.0, text:'MICS']\n",
      "98 [text:'Tajikistan', number:10.0, empty:'', number:9.4, number:10.6, number:8.1, number:10.6, number:13.6, number:12.2, number:9.0, number:8.0, number:6.0, number:2005.0, text:'MICS']\n",
      "99 [text:'Thailand', number:8.3, empty:'', number:8.3, number:8.2, number:8.0, number:8.4, number:8.6, number:8.5, number:9.0, number:8.1, number:7.0, number:2006.0, text:'MICS']\n",
      "100 [text:'The former Yugoslav Republic of Macedonia', number:12.5, empty:'', number:12.1, number:13.0, number:8.4, number:16.8, number:20.4, number:12.5, number:14.4, number:8.0, number:6.6, number:2011.0, text:'MICS']\n",
      "101 [text:'Timor-Leste', number:4.2, empty:'', number:4.1, number:4.4, text:'-', text:'-', text:'-', text:'-', text:'-', text:'-', text:'-', number:2002.0, text:'MICS']\n",
      "102 [text:'Togo', number:28.3, empty:'', number:27.7, number:28.9, number:18.3, number:32.7, number:35.1, number:31.6, number:32.7, number:18.8, number:17.5, number:2010.0, text:'MICS']\n",
      "103 [text:'Trinidad and Tobago', number:0.7, empty:'', number:0.7, number:0.6, text:'-', text:'-', number:1.2, number:0.6, number:0.9, number:0.4, number:0.0, number:2006.0, text:'MICS']\n",
      "104 [text:'Tunisia', number:2.1, empty:'', number:2.6, number:1.6, number:1.5, number:3.3, number:2.7, number:2.6, number:1.1, number:1.5, number:2.6, text:'2011-2012', text:'MICS']\n",
      "105 [text:'Turkey', number:5.9, text:'y', number:7.9, number:3.7, number:3.9, number:9.7, text:'-', text:'-', text:'-', text:'-', text:'-', number:2012.0, text:'Child Labour Force Survey']\n",
      "106 [text:'Uganda', number:16.3, text:'y', number:16.9, number:15.6, number:8.8, number:17.4, text:'-', text:'-', text:'-', text:'-', text:'-', text:'2011/2012', text:'National Labour Force and Child Activities Survey']\n",
      "107 [text:'Ukraine', number:2.4, empty:'', number:2.5, number:2.4, number:1.6, number:4.3, number:4.6, number:3.3, number:1.9, number:2.5, number:0.2, number:2012.0, text:'MICS']\n",
      "108 [text:'United Republic of Tanzania', number:21.1, text:'y', number:23.3, number:18.8, number:14.8, number:25.2, text:'-', text:'-', text:'-', text:'-', text:'-', number:2006.0, text:'Integrated Labour Force Survey']\n",
      "109 [text:'Uruguay', number:7.9, text:'y', number:8.3, number:7.5, text:'-', text:'-', text:'-', text:'-', text:'-', text:'-', text:'-', number:2006.0, text:'ENHA']\n",
      "110 [text:'Venezuela (Bolivarian Republic of)', number:7.7, empty:'', number:9.2, number:6.2, text:'-', text:'-', text:'-', text:'-', text:'-', text:'-', text:'-', number:2000.0, text:'MICS']\n",
      "111 [text:'Viet Nam', number:6.9, empty:'', number:6.5, number:7.4, number:4.1, number:7.9, number:11.9, number:9.6, number:5.1, number:3.7, number:2.3, number:2011.0, text:'MICS']\n",
      "112 [text:'Yemen', number:22.7, empty:'', number:21.1, number:24.4, number:8.1, number:28.6, number:36.8, number:28.5, number:22.7, number:13.6, number:10.2, number:2006.0, text:'MICS']\n",
      "113 [text:'Zambia', number:40.6, text:'y', number:41.6, number:39.5, number:9.2, number:56.0, text:'-', text:'-', text:'-', text:'-', text:'-', number:2005.0, text:'Other National Survey, UCW calculations']\n",
      "114 [empty:'', empty:'', empty:'', empty:'', empty:'', empty:'', empty:'', empty:'', empty:'', empty:'', empty:'', empty:'', empty:'', empty:'']\n",
      "115 [text:'Sub-Saharan Africa', number:24.971247439998038, empty:'', number:25.360921492010025, number:24.54592292310616, text:'–', text:'–', text:'–', text:'–', text:'–', text:'–', text:'–', empty:'', empty:'']\n",
      "116 [text:'Eastern and Southern Africa', number:25.260535889918042, empty:'', number:26.52655776473469, number:23.914511793758958, text:'–', text:'–', text:'–', text:'–', text:'–', text:'–', text:'–', empty:'', empty:'']\n",
      "117 [text:'West and Central Africa', number:24.79921828162676, empty:'', number:24.593858857812133, number:25.01060717034784, text:'–', text:'–', text:'–', text:'–', text:'–', text:'–', text:'–', empty:'', empty:'']\n",
      "118 [text:'Middle East and North Africa', number:8.908409240697537, empty:'', number:10.601358130447883, number:7.139944708092362, text:'–', text:'–', text:'–', text:'–', text:'–', text:'–', text:'–', empty:'', empty:'']\n",
      "119 [text:'South Asia', number:12.367478968427415, empty:'', number:12.62776670207997, number:12.00494487622905, text:'–', text:'–', text:'–', text:'–', text:'–', text:'–', text:'–', empty:'', empty:'']\n",
      "120 [text:'East Asia and Pacific', number:8.395057888152063, text:'**', number:9.517664037077507, number:7.178416066469366, text:'–', text:'–', text:'–', text:'–', text:'–', text:'–', text:'–', empty:'', empty:'']\n",
      "121 [text:'Latin America and Caribbean', number:10.977444542743939, empty:'', number:13.125494516092125, number:9.131198495063732, text:'–', text:'–', text:'–', text:'–', text:'–', text:'–', text:'–', empty:'', empty:'']\n",
      "122 [text:'CEE/CIS', number:5.420397937973456, empty:'', number:6.539194669306934, number:4.213870248951129, text:'–', text:'–', text:'–', text:'–', text:'–', text:'–', text:'–', empty:'', empty:'']\n",
      "123 [text:'Least developed countries', number:21.6656626531534, empty:'', number:22.785449314907545, number:20.51783765989917, text:'–', text:'–', text:'–', text:'–', text:'–', text:'–', text:'–', empty:'', empty:'']\n",
      "124 [text:'World', number:12.631385083612308, text:'**', number:13.468450007390524, number:11.74769381493197, text:'–', text:'–', text:'–', text:'–', text:'–', text:'–', text:'–', empty:'', empty:'']\n",
      "125 [empty:'', empty:'', empty:'', empty:'', empty:'', empty:'', empty:'', empty:'', empty:'', empty:'', empty:'', empty:'', empty:'', empty:'']\n",
      "126 [text:'– Data not available', empty:'', empty:'', empty:'', empty:'', empty:'', empty:'', empty:'', empty:'', empty:'', empty:'', empty:'', empty:'', empty:'']\n",
      "127 [text:'y Data differ from the standard definition or refer to only part of a country. ', empty:'', empty:'', empty:'', empty:'', empty:'', empty:'', empty:'', empty:'', empty:'', empty:'', empty:'', empty:'', empty:'']\n",
      "128 [text:'** Excludes China.', empty:'', empty:'', empty:'', empty:'', empty:'', empty:'', empty:'', empty:'', empty:'', empty:'', empty:'', empty:'', empty:'']\n",
      "129 [empty:'', empty:'', empty:'', empty:'', empty:'', empty:'', empty:'', empty:'', empty:'', empty:'', empty:'', empty:'', empty:'', empty:'']\n",
      "130 [text:'Indicator definition: Percentage of children 5–14 years old involved in child labour at the moment of the survey. A child is considered to be involved in child labour under the following conditions: (a) children 5–11 years old who, during the reference week, did at least one hour of economic activity or at least 28 hours of household chores, or (b) children 12–14 years old who, during the reference week, did at least 14 hours of economic activity or at least 28 hours of household chores.', empty:'', empty:'', empty:'', empty:'', empty:'', empty:'', empty:'', empty:'', empty:'', empty:'', empty:'', empty:'', empty:'']\n",
      "131 [empty:'', empty:'', empty:'', empty:'', empty:'', empty:'', empty:'', empty:'', empty:'', empty:'', empty:'', empty:'', empty:'', empty:'']\n",
      "132 [text:'Notes: Data from the fourth round of MICS (MICS4, 2009–2012) included in the table have been recalculated according to the indicator definition used in MICS3 surveys, to ensure cross-country comparability. In this definition, the activities of fetching water or collecting firewood are classified as household chores rather than as an economic activity. Under this approach, a child between the ages of 5–14 years old would have to be engaged in fetching water or collecting firewood for at least 28 hours per week to be considered as a child labourer.', empty:'', empty:'', empty:'', empty:'', empty:'', empty:'', empty:'', empty:'', empty:'', empty:'', empty:'', empty:'', empty:'']\n",
      "133 [text:'Source: UNICEF global databases, 2014, based on DHS, MICS and other nationally representative surveys.', empty:'', empty:'', empty:'', empty:'', empty:'', empty:'', empty:'', empty:'', empty:'', empty:'', empty:'', empty:'', empty:'']\n"
     ]
    }
   ],
   "source": [
    "for r in range(sheet.nrows):\n",
    "    print(r, sheet.row(r))"
   ]
  },
  {
   "cell_type": "code",
   "execution_count": 6,
   "id": "e1bcf905",
   "metadata": {},
   "outputs": [
    {
     "name": "stdout",
     "output_type": "stream",
     "text": [
      "<zip object at 0x000001912E818680>\n"
     ]
    }
   ],
   "source": [
    "title_rows = zip(sheet.row_values(4), sheet.row_values(5))\n",
    "print(title_rows)"
   ]
  },
  {
   "cell_type": "code",
   "execution_count": 7,
   "id": "aef90ae4",
   "metadata": {},
   "outputs": [],
   "source": [
    "title_rows_list = list(title_rows)"
   ]
  },
  {
   "cell_type": "code",
   "execution_count": 8,
   "id": "d7498596",
   "metadata": {},
   "outputs": [
    {
     "name": "stdout",
     "output_type": "stream",
     "text": [
      "[('', 'Countries and areas'), ('Total (%)', ''), ('', ''), ('Sex (%)', 'Male'), ('', 'Female'), ('Place of residence (%)', 'Urban'), ('', 'Rural'), ('Household wealth quintile (%)', 'Poorest'), ('', 'Second'), ('', 'Middle'), ('', 'Fourth'), ('', 'Richest'), ('Reference Year', ''), ('Data Source', '')]\n"
     ]
    }
   ],
   "source": [
    "print(title_rows_list)"
   ]
  },
  {
   "cell_type": "code",
   "execution_count": 9,
   "id": "b5c4c9eb",
   "metadata": {},
   "outputs": [
    {
     "name": "stdout",
     "output_type": "stream",
     "text": [
      "[' Countries and areas', 'Total (%) ', ' ', 'Sex (%) Male', ' Female', 'Place of residence (%) Urban', ' Rural', 'Household wealth quintile (%) Poorest', ' Second', ' Middle', ' Fourth', ' Richest', 'Reference Year ', 'Data Source ']\n",
      "['Countries and areas', 'Total (%)', '', 'Sex (%) Male', 'Female', 'Place of residence (%) Urban', 'Rural', 'Household wealth quintile (%) Poorest', 'Second', 'Middle', 'Fourth', 'Richest', 'Reference Year', 'Data Source']\n"
     ]
    }
   ],
   "source": [
    "titles = [t[0] + ' ' + t[1] for t in title_rows_list]\n",
    "print(titles)\n",
    "titles = [t.strip() for t in titles]\n",
    "print(titles)"
   ]
  },
  {
   "cell_type": "code",
   "execution_count": 10,
   "id": "2826f470",
   "metadata": {},
   "outputs": [
    {
     "name": "stdout",
     "output_type": "stream",
     "text": [
      "[['Afghanistan', 10.3, '', 11.0, 9.6, 7.9, 10.8, 11.9, 11.8, 10.1, 9.7, 7.8, '2010-2011', 'MICS'], ['Albania', 5.1, 'y', 6.2, 3.9, '-', '-', '-', '-', '-', '-', '-', 2010.0, 'National Child Labour Survey'], ['Algeria', 4.7, 'y', 5.5, 3.9, 3.9, 5.6, 7.3, 4.5, 4.1, 3.1, 3.8, 2006.0, 'MICS'], ['Angola', 23.5, '', 22.1, 24.8, '-', '-', '-', '-', '-', '-', '-', 2001.0, 'MICS'], ['Argentina', 4.4, '', 4.8, 3.9, '-', '-', 6.8, 3.9, 3.3, 3.7, 3.1, '2011/2012', 'MICS'], ['Armenia', 3.9, '', 4.7, 2.9, 2.4, 6.0, 6.9, 4.1, 3.2, 2.4, 2.4, 2010.0, 'ARM_DHS _2010'], ['Azerbaijan', 6.5, 'y', 7.5, 5.4, 2.1, 10.7, '-', '-', '-', '-', '-', 2005.0, 'Dayioglu, Meltem. 2007. Working children in Azerbaijan: An analysis of the 2005 child labour and labouring children surveys. State Statistical Committee of Azerbaijan and ILO'], ['Bahrain', 4.6, '', 6.3, 3.0, '-', '-', '-', '-', '-', '-', '-', 2000.0, 'MICS'], ['Bangladesh', 12.8, '', 17.5, 8.1, 11.2, 13.4, 16.0, 14.7, 13.0, 10.5, 8.2, 2006.0, 'MICS'], ['Belarus', 1.4, '', 1.4, 1.5, 1.3, 1.8, 1.0, 2.4, 1.2, 1.7, 1.0, 2012.0, 'MICS'], ['Belize', 5.8, '', 6.7, 5.0, 3.2, 7.4, 8.4, 8.4, 4.9, 2.8, 3.1, 2011.0, 'MICS'], ['Benin', 15.3, '', 14.9, 15.6, 10.5, 18.1, 19.6, 19.9, 16.8, 10.9, 6.0, '2011-2012', 'DHS'], ['Bhutan', 2.9, '', 2.6, 3.1, 1.7, 3.3, 4.5, 3.2, 2.2, 2.4, 2.2, 2010.0, 'MICS'], ['Bolivia (Plurinational State of)', 26.4, 'y', 28.2, 24.4, 15.1, 64.6, '-', '-', '-', '-', '-', 2008.0, 'ETI'], ['Bosnia and Herzegovina', 5.3, '', 6.6, 3.9, 3.2, 6.4, 4.5, 11.1, 5.0, 2.8, 3.6, 2006.0, 'MICS'], ['Botswana', 9.0, 'y', 10.9, 7.0, 11.3, 12.6, '-', '-', '-', '-', '-', '2005-2006', 'Botswana Labour Force Survey'], ['Brazil', 8.3, 'y', 10.6, 6.0, '-', '-', '-', '-', '-', '-', '-', 2012.0, 'IBGE PNAD'], ['Burkina Faso', 39.2, '', 42.3, 36.0, 17.3, 44.0, 48.0, 44.6, 42.5, 37.9, 18.1, 2010.0, 'DHS'], ['Burundi', 26.3, '', 25.5, 27.1, 14.5, 27.4, 26.8, 28.0, 28.4, 26.8, 21.1, 2010.0, 'DHS'], ['Cabo Verde', 6.4, 'y', '-', '-', '-', '-', '-', '-', '-', '-', '-', 2012.0, 'Inquerito Multi-Objectivo Continuo (prelim)'], ['Cambodia', 18.3, 'y', 19.2, 17.4, '-', '-', '-', '-', '-', '-', '-', 2013.0, 'CSES'], ['Cameroon', 41.7, '', 43.1, 40.2, 27.2, 52.8, 55.9, 52.9, 42.5, 31.9, 17.6, 2011.0, 'DHS'], ['Central African Republic', 28.5, '', 27.2, 29.9, 21.2, 33.0, 35.8, 36.0, 32.2, 21.8, 17.0, 2010.0, 'MICS'], ['Chad', 26.1, '', 24.5, 27.8, 23.6, 26.8, 27.0, 26.1, 28.4, 27.2, 21.5, 2010.0, 'MICS'], ['Chile', 6.6, 'y', '-', '-', '-', '-', '-', '-', '-', '-', '-', 2012.0, 'EANNA'], ['Colombia', 9.7, 'y', 12.5, 6.6, 7.4, 15.8, '-', '-', '-', '-', '-', 2013.0, 'ENTI'], ['Comoros', 22.0, '', 20.2, 23.8, 16.5, 24.3, 29.6, 25.1, 20.8, 18.4, 10.8, 2012.0, 'DHS'], ['Congo', 18.4, '', 17.7, 19.0, 13.5, 25.7, 29.1, 21.9, 13.4, 15.9, 9.5, '2011-2012', 'DHS'], ['Costa Rica', 4.1, '', 3.5, 4.6, 4.0, 4.2, 6.2, 3.0, 2.2, 4.7, 3.6, 2011.0, 'MICS'], [\"Côte d'Ivoire\", 26.4, '', 25.4, 27.5, 15.6, 33.9, 36.9, 30.2, 30.3, 20.4, 12.5, '2011-2012', 'DHS'], ['Democratic Republic of the Congo', 15.0, '', 13.1, 16.8, 10.3, 16.9, 16.3, 16.2, 15.9, 16.9, 9.2, 2010.0, 'MICS'], ['Djibouti', 7.7, '', 7.6, 7.7, 7.6, 9.7, '-', '-', '-', '-', '-', 2006.0, 'MICS'], ['Dominican Republic', 12.9, '', 17.5, 7.9, 10.6, 17.1, 18.5, 17.6, 10.4, 10.1, 5.1, '2009-2010', 'ENHOGAR'], ['Ecuador', 8.6, 'y', '-', '-', 4.3, 15.5, '-', '-', '-', '-', '-', 2012.0, 'ENTI'], ['Egypt', 9.3, 'y', 14.3, 4.0, '-', '-', '-', '-', '-', '-', '-', 2010.0, 'National Child Labour Survey'], ['El Salvador', 8.5, 'y', 12.7, 4.2, 5.7, 12.4, 8.2, 6.7, 8.1, 9.9, 9.3, 2013.0, 'EHPM'], ['Equatorial Guinea', 27.8, '', 27.9, 27.6, '-', '-', '-', '-', '-', '-', '-', 2000.0, 'MICS'], ['Ethiopia', 27.4, '', 31.1, 23.5, 13.3, 29.7, 31.3, 30.8, 30.2, 27.0, 14.7, 2011.0, 'DHS'], ['Gabon', 13.4, '', 15.4, 11.6, 11.0, 26.6, 26.4, 12.5, 12.3, 7.9, 7.5, 2012.0, 'DHS'], ['Gambia', 19.2, '', 20.9, 17.5, 9.5, 26.0, 28.1, 20.7, 18.8, 16.6, 8.6, 2010.0, 'MICS'], ['Georgia', 18.4, '', 20.0, 16.6, 16.1, 20.4, 17.8, 21.5, 19.7, 17.8, 15.0, 2005.0, 'MICS'], ['Ghana', 33.9, '', 33.8, 34.0, 19.7, 42.5, 47.9, 46.1, 30.8, 24.0, 13.7, 2006.0, 'MICS'], ['Guatemala', 25.8, 'y', 35.1, 16.1, 20.7, 32.6, '-', '-', '-', '-', '-', 2012.0, 'ENEI'], ['Guinea', 28.3, '', 29.2, 27.4, 11.9, 35.2, 40.0, 34.3, 32.3, 22.6, 8.8, 2012.0, 'DHS'], ['Guinea-Bissau', 38.0, '', 39.5, 36.4, 23.0, 47.6, 50.7, 48.7, 41.7, 23.4, 15.4, 2010.0, 'MICS'], ['Guyana', 16.4, '', 17.3, 15.5, 9.0, 19.0, 29.4, 17.3, 13.1, 11.5, 3.9, 2006.0, 'MICS'], ['Haiti', 24.4, '', 24.5, 24.3, 15.8, 29.2, 33.7, 29.9, 23.8, 18.5, 10.6, 2012.0, 'DHS'], ['Honduras', 14.0, 'y', 22.1, 5.9, 9.1, 17.1, '-', '-', '-', '-', '-', 2013.0, 'Encuesta Permanente de Hogares de Propositos Multiples, UCW calculations'], ['India', 11.8, '', 11.6, 11.9, 8.6, 12.9, 14.2, 14.0, 12.2, 9.3, 6.4, '2005-2006', 'NFHS'], ['Indonesia', 6.9, 'y', 7.9, 5.8, '-', '-', '-', '-', '-', '-', '-', 2009.0, ' Indonesia Child Labour Survey'], ['Iran (Islamic Republic of)', 11.4, 'y', 12.5, 10.2, 9.5, 15.0, '-', '-', '-', '-', '-', 2010.0, 'MIDHS'], ['Iraq', 4.7, '', 5.4, 4.0, 3.3, 7.6, 7.9, 5.0, 3.7, 3.8, 1.8, 2011.0, 'MICS'], ['Jamaica', 3.3, '', 3.5, 3.2, 3.9, 2.7, 4.4, 4.7, 2.2, 3.1, 1.6, 2011.0, 'MICS'], ['Jordan', 1.6, 'y', 2.8, 0.3, '-', '-', '-', '-', '-', '-', '-', 2007.0, 'Child Labour Survey'], ['Kazakhstan', 2.2, '', 2.4, 2.1, 2.5, 1.9, 1.8, 2.1, 2.8, 2.4, 2.2, 2006.0, 'MICS'], ['Kenya', 25.9, '', 26.5, 25.2, '-', '-', '-', '-', '-', '-', '-', 2000.0, 'MICS'], ['Kyrgyzstan', 3.6, '', 4.3, 2.9, 1.9, 4.5, 1.9, 3.7, 4.7, 5.0, 2.8, 2006.0, 'MICS'], [\"Lao People's Democratic Republic\", 10.1, 'y', 9.0, 11.2, '-', '-', '-', '-', '-', '-', '-', 2010.0, 'National Child Labour Survey '], ['Lebanon', 1.9, '', 2.7, 0.9, '-', '-', '-', '-', '-', '-', '-', 2009.0, 'MICS'], ['Lesotho', 22.9, '', 25.0, 20.7, '-', '-', '-', '-', '-', '-', '-', 2000.0, 'MICS'], ['Liberia', 20.8, '', 21.1, 20.5, 15.7, 24.0, 26.9, 25.3, 21.2, 18.4, 13.5, 2007.0, 'DHS'], ['Madagascar', 22.9, 'y', 23.2, 22.6, 15.2, 24.6, 27.0, 25.9, 23.6, 20.8, 13.4, '2012-2013', 'ENSOMD'], ['Malawi', 25.7, '', 25.3, 26.2, 13.9, 27.7, 26.3, 29.8, 29.3, 26.2, 18.0, 2006.0, 'MICS'], ['Mali', 21.4, '', 22.0, 20.7, 17.7, 22.6, 21.1, 23.5, 22.8, 21.4, 17.2, 2010.0, 'MICS'], ['Mauritania', 14.6, '', 14.3, 14.9, 7.5, 16.6, 25.3, 18.3, 10.9, 8.6, 4.8, 2011.0, 'MICS'], ['Mexico', 6.3, 'y', 7.3, 5.3, 5.1, 8.0, '-', '-', '-', '-', '-', 2011.0, 'Modulo de Trabajo Infantil de la ENOE'], ['Mongolia', 10.4, '', 10.3, 10.6, 8.8, 16.0, 14.9, 11.9, 11.4, 8.8, 3.1, 2010.0, 'MICS'], ['Montenegro', 9.9, '', 11.7, 7.8, 5.5, 16.5, 23.7, 8.7, 4.8, 6.4, 3.2, 2005.0, 'MICS'], ['Morocco', 8.3, '', 9.1, 7.5, 3.5, 13.3, 17.7, 9.6, 5.0, 3.2, 1.9, '2006-2007', 'ENIMSJ'], ['Mozambique', 22.2, '', 20.5, 23.8, 15.1, 25.3, 24.0, 22.8, 25.4, 23.6, 14.3, 2008.0, 'MICS'], ['Nepal', 33.9, 'y', 30.2, 37.8, 14.4, 36.7, '-', '-', '-', '-', '-', 2008.0, 'Nepal Labour Force Survey'], ['Nicaragua', 14.5, '', 17.6, 11.2, '-', '-', '-', '-', '-', '-', '-', 2001.0, 'DHS'], ['Niger', 30.5, '', 30.8, 30.1, 18.1, 32.6, 28.8, 33.3, 32.9, 33.6, 23.0, 2012.0, 'DHS'], ['Nigeria', 24.7, '', 24.1, 25.3, 18.7, 27.6, 28.5, 28.2, 25.3, 22.3, 17.8, 2011.0, 'MICS'], ['Panama', 5.6, 'y', 8.0, 3.0, 2.5, 8.6, '-', '-', '-', '-', '-', 2012.0, 'ETI'], ['Paraguay', 27.6, 'y', 31.8, 23.5, 20.2, 36.7, 29.6, 29.0, 28.5, 25.1, 23.7, 2011.0, 'EANA'], ['Peru', 33.5, 'y', 30.6, 36.3, 18.2, 60.9, '-', '-', '-', '-', '-', 2007.0, 'ESTI'], ['Philippines', 11.1, 'y', 14.1, 7.9, '-', '-', '-', '-', '-', '-', '-', 2011.0, 'Survey on Children (prelim)'], ['Portugal', 3.4, 'y', 4.2, 2.5, '-', '-', '-', '-', '-', '-', '-', 2001.0, 'Labour Force Survey, UCW calculations'], ['Republic of Moldova', 16.3, '', 20.2, 12.3, '-', '-', '-', '-', '-', '-', '-', 2009.0, \"Children''s Activities Survey\"], ['Romania', 0.9, '', 1.2, 0.7, '-', '-', '-', '-', '-', '-', '-', 2000.0, 'Household Labour Force Survey, UCW calculations'], ['Rwanda', 28.5, '', 26.7, 30.4, 18.7, 29.8, 33.3, 30.9, 29.4, 29.4, 18.3, 2010.0, 'DHS'], ['Saint Lucia', 3.9, '', 4.9, 2.9, 3.8, 3.9, '-', '-', '-', '-', '-', 2012.0, 'MICS'], ['Sao Tome and Principe', 7.5, '', 7.7, 7.2, 5.7, 9.7, 8.3, 9.4, 8.8, 6.7, 3.9, 2006.0, 'MICS'], ['Senegal', 14.5, '', 19.0, 10.0, 5.1, 19.8, 29.7, 18.8, 8.8, 6.3, 4.5, '2012-2013', 'Continuous DHS'], ['Serbia', 4.4, '', 4.5, 4.4, 3.3, 5.7, 8.4, 5.5, 2.9, 2.7, 2.6, 2005.0, 'MICS'], ['Sierra Leone', 26.0, '', 27.0, 25.0, 18.2, 29.3, 29.4, 32.7, 30.8, 24.3, 11.3, 2010.0, 'MICS'], ['Somalia', 49.0, '', 44.5, 53.6, 36.1, 56.6, 62.1, 59.9, 50.7, 39.0, 31.5, 2006.0, 'MICS'], ['State of Palestine', 5.7, '', 7.4, 4.0, 4.8, 10.1, 8.0, 5.2, 5.2, 5.2, 4.8, 2010.0, 'MICS'], ['Suriname', 4.1, '', 4.1, 4.1, 2.5, 6.9, 7.9, 2.7, 3.5, 2.1, 1.6, 2010.0, 'MICS'], ['Swaziland', 7.3, '', 7.7, 6.9, 6.6, 7.5, 9.9, 6.9, 8.1, 5.4, 5.2, 2010.0, 'MICS'], ['Syrian Arab Republic', 4.0, '', 5.0, 3.0, 2.6, 5.5, 6.7, 5.2, 3.3, 2.9, 1.6, 2006.0, 'MICS'], ['Tajikistan', 10.0, '', 9.4, 10.6, 8.1, 10.6, 13.6, 12.2, 9.0, 8.0, 6.0, 2005.0, 'MICS'], ['Thailand', 8.3, '', 8.3, 8.2, 8.0, 8.4, 8.6, 8.5, 9.0, 8.1, 7.0, 2006.0, 'MICS'], ['The former Yugoslav Republic of Macedonia', 12.5, '', 12.1, 13.0, 8.4, 16.8, 20.4, 12.5, 14.4, 8.0, 6.6, 2011.0, 'MICS'], ['Timor-Leste', 4.2, '', 4.1, 4.4, '-', '-', '-', '-', '-', '-', '-', 2002.0, 'MICS'], ['Togo', 28.3, '', 27.7, 28.9, 18.3, 32.7, 35.1, 31.6, 32.7, 18.8, 17.5, 2010.0, 'MICS'], ['Trinidad and Tobago', 0.7, '', 0.7, 0.6, '-', '-', 1.2, 0.6, 0.9, 0.4, 0.0, 2006.0, 'MICS'], ['Tunisia', 2.1, '', 2.6, 1.6, 1.5, 3.3, 2.7, 2.6, 1.1, 1.5, 2.6, '2011-2012', 'MICS'], ['Turkey', 5.9, 'y', 7.9, 3.7, 3.9, 9.7, '-', '-', '-', '-', '-', 2012.0, 'Child Labour Force Survey'], ['Uganda', 16.3, 'y', 16.9, 15.6, 8.8, 17.4, '-', '-', '-', '-', '-', '2011/2012', 'National Labour Force and Child Activities Survey'], ['Ukraine', 2.4, '', 2.5, 2.4, 1.6, 4.3, 4.6, 3.3, 1.9, 2.5, 0.2, 2012.0, 'MICS'], ['United Republic of Tanzania', 21.1, 'y', 23.3, 18.8, 14.8, 25.2, '-', '-', '-', '-', '-', 2006.0, 'Integrated Labour Force Survey'], ['Uruguay', 7.9, 'y', 8.3, 7.5, '-', '-', '-', '-', '-', '-', '-', 2006.0, 'ENHA'], ['Venezuela (Bolivarian Republic of)', 7.7, '', 9.2, 6.2, '-', '-', '-', '-', '-', '-', '-', 2000.0, 'MICS'], ['Viet Nam', 6.9, '', 6.5, 7.4, 4.1, 7.9, 11.9, 9.6, 5.1, 3.7, 2.3, 2011.0, 'MICS'], ['Yemen', 22.7, '', 21.1, 24.4, 8.1, 28.6, 36.8, 28.5, 22.7, 13.6, 10.2, 2006.0, 'MICS'], ['Zambia', 40.6, 'y', 41.6, 39.5, 9.2, 56.0, '-', '-', '-', '-', '-', 2005.0, 'Other National Survey, UCW calculations']]\n"
     ]
    }
   ],
   "source": [
    "country_rows = [sheet.row_values(r) for r in range(6, 114)]\n",
    "print(country_rows)"
   ]
  },
  {
   "cell_type": "code",
   "execution_count": 11,
   "id": "e8cba860",
   "metadata": {},
   "outputs": [
    {
     "name": "stdout",
     "output_type": "stream",
     "text": [
      "['Afghanistan', 10.3, '', 11.0, 9.6, 7.9, 10.8, 11.9, 11.8, 10.1, 9.7, 7.8, '2010-2011', 'MICS'] \n",
      "\n",
      "[text:'Afghanistan', number:10.3, empty:'', number:11.0, number:9.6, number:7.9, number:10.8, number:11.9, number:11.8, number:10.1, number:9.7, number:7.8, text:'2010-2011', text:'MICS'] \n",
      "\n",
      "1\n",
      "Afghanistan\n",
      "{0: 'empty', 1: 'text', 2: 'number', 3: 'xldate', 4: 'bool', 5: 'error', 6: 'blank'}\n"
     ]
    }
   ],
   "source": [
    "# functions we can use to investigate Excel column types.\n",
    "from xlrd.sheet import ctype_text\n",
    "\n",
    "print(sheet.row_values(6), '\\n')\n",
    "\n",
    "example_row = sheet.row(6)\n",
    "print(example_row, '\\n')\n",
    "print(example_row[0].ctype)\n",
    "print(example_row[0].value)\n",
    "print(ctype_text)"
   ]
  },
  {
   "cell_type": "code",
   "execution_count": 12,
   "id": "60f7a3f3",
   "metadata": {},
   "outputs": [],
   "source": [
    "# we need to try to make a list of types for our agate library. we will need to iterate over our example row and use\n",
    "# ctype to match the column types:\n",
    "import agate\n",
    "\n",
    "text_type = agate.Text()\n",
    "number_type = agate.Number()\n",
    "boolean_type = agate.Boolean()\n",
    "date_type = agate.Date()\n",
    "\n",
    "types = []\n",
    "for v in example_row:\n",
    "    value_type = ctype_text[v.ctype]\n",
    "    if value_type == 'text':\n",
    "        types.append(text_type)\n",
    "    elif value_type == 'number':\n",
    "        types.append(number_type)\n",
    "    elif value_type == 'xldate':\n",
    "        types.append(date_type)\n",
    "    else:\n",
    "        types.append(text_type)"
   ]
  },
  {
   "cell_type": "code",
   "execution_count": 13,
   "id": "7e80ef30",
   "metadata": {},
   "outputs": [
    {
     "name": "stderr",
     "output_type": "stream",
     "text": [
      "C:\\ProgramData\\anaconda3\\envs\\data-wrangling\\Lib\\site-packages\\agate\\utils.py:272: UnnamedColumnWarning: Column 2 has no name. Using \"c\".\n"
     ]
    },
    {
     "ename": "CastError",
     "evalue": "Can not parse value \"\" as Decimal. Error at row 1 column Place of residence (%) Urban.",
     "output_type": "error",
     "traceback": [
      "\u001b[1;31m---------------------------------------------------------------------------\u001b[0m",
      "\u001b[1;31mCastError\u001b[0m                                 Traceback (most recent call last)",
      "File \u001b[1;32mC:\\ProgramData\\anaconda3\\envs\\data-wrangling\\Lib\\site-packages\\agate\\table\\__init__.py:129\u001b[0m, in \u001b[0;36mTable.__init__\u001b[1;34m(self, rows, column_names, column_types, row_names, _is_fork)\u001b[0m\n\u001b[0;32m    128\u001b[0m \u001b[38;5;28;01mtry\u001b[39;00m:\n\u001b[1;32m--> 129\u001b[0m     row_values\u001b[38;5;241m.\u001b[39mappend(cast_funcs[j](d))\n\u001b[0;32m    130\u001b[0m \u001b[38;5;28;01mexcept\u001b[39;00m CastError \u001b[38;5;28;01mas\u001b[39;00m e:\n",
      "File \u001b[1;32mC:\\ProgramData\\anaconda3\\envs\\data-wrangling\\Lib\\site-packages\\agate\\data_types\\number.py:98\u001b[0m, in \u001b[0;36mNumber.cast\u001b[1;34m(self, d)\u001b[0m\n\u001b[0;32m     96\u001b[0m     \u001b[38;5;28;01mpass\u001b[39;00m\n\u001b[1;32m---> 98\u001b[0m \u001b[38;5;28;01mraise\u001b[39;00m CastError(\u001b[38;5;124m'\u001b[39m\u001b[38;5;124mCan not parse value \u001b[39m\u001b[38;5;124m\"\u001b[39m\u001b[38;5;132;01m%s\u001b[39;00m\u001b[38;5;124m\"\u001b[39m\u001b[38;5;124m as Decimal.\u001b[39m\u001b[38;5;124m'\u001b[39m \u001b[38;5;241m%\u001b[39m d)\n",
      "\u001b[1;31mCastError\u001b[0m: Can not parse value \"\" as Decimal.",
      "\nDuring handling of the above exception, another exception occurred:\n",
      "\u001b[1;31mCastError\u001b[0m                                 Traceback (most recent call last)",
      "Cell \u001b[1;32mIn[13], line 1\u001b[0m\n\u001b[1;32m----> 1\u001b[0m table \u001b[38;5;241m=\u001b[39m agate\u001b[38;5;241m.\u001b[39mTable(country_rows, titles, types)\n",
      "File \u001b[1;32mC:\\ProgramData\\anaconda3\\envs\\data-wrangling\\Lib\\site-packages\\agate\\table\\__init__.py:131\u001b[0m, in \u001b[0;36mTable.__init__\u001b[1;34m(self, rows, column_names, column_types, row_names, _is_fork)\u001b[0m\n\u001b[0;32m    129\u001b[0m                 row_values\u001b[38;5;241m.\u001b[39mappend(cast_funcs[j](d))\n\u001b[0;32m    130\u001b[0m             \u001b[38;5;28;01mexcept\u001b[39;00m CastError \u001b[38;5;28;01mas\u001b[39;00m e:\n\u001b[1;32m--> 131\u001b[0m                 \u001b[38;5;28;01mraise\u001b[39;00m CastError(\u001b[38;5;28mstr\u001b[39m(e) \u001b[38;5;241m+\u001b[39m \u001b[38;5;124mf\u001b[39m\u001b[38;5;124m'\u001b[39m\u001b[38;5;124m Error at row \u001b[39m\u001b[38;5;132;01m{\u001b[39;00mi\u001b[38;5;132;01m}\u001b[39;00m\u001b[38;5;124m column \u001b[39m\u001b[38;5;132;01m{\u001b[39;00m\u001b[38;5;28mself\u001b[39m\u001b[38;5;241m.\u001b[39m_column_names[j]\u001b[38;5;132;01m}\u001b[39;00m\u001b[38;5;124m.\u001b[39m\u001b[38;5;124m'\u001b[39m)\n\u001b[0;32m    133\u001b[0m         new_rows\u001b[38;5;241m.\u001b[39mappend(Row(row_values, \u001b[38;5;28mself\u001b[39m\u001b[38;5;241m.\u001b[39m_column_names))\n\u001b[0;32m    134\u001b[0m \u001b[38;5;28;01melse\u001b[39;00m:\n",
      "\u001b[1;31mCastError\u001b[0m: Can not parse value \"\" as Decimal. Error at row 1 column Place of residence (%) Urban."
     ]
    }
   ],
   "source": [
    "table = agate.Table(country_rows, titles, types)"
   ]
  },
  {
   "cell_type": "code",
   "execution_count": 14,
   "id": "ccb55db6",
   "metadata": {},
   "outputs": [],
   "source": [
    "# this functions returns None instead of '-'\n",
    "def remove_bad_chars(val):\n",
    "    if val == '-':\n",
    "        return None\n",
    "    return val\n",
    "\n",
    "cleaned_rows = []\n",
    "\n",
    "for row in country_rows:\n",
    "    cleaned_row = [remove_bad_chars(rv) for rv in row]\n",
    "    cleaned_rows.append(cleaned_row)"
   ]
  },
  {
   "cell_type": "code",
   "execution_count": 15,
   "id": "b60cac41",
   "metadata": {},
   "outputs": [],
   "source": [
    "# let's convert last function into more abstract and generic helper function.\n",
    "def get_new_array(old_array, function_to_clean):\n",
    "    new_arr = []\n",
    "    for row in old_array:\n",
    "        cleaned_row = [function_to_clean(rv) for rv in row]\n",
    "        new_arr.append(cleaned_row)\n",
    "    return new_arr\n",
    "\n",
    "cleaned_rows = get_new_array(country_rows, remove_bad_chars)"
   ]
  },
  {
   "cell_type": "code",
   "execution_count": 16,
   "id": "94efd1e8",
   "metadata": {},
   "outputs": [
    {
     "name": "stderr",
     "output_type": "stream",
     "text": [
      "C:\\ProgramData\\anaconda3\\envs\\data-wrangling\\Lib\\site-packages\\agate\\utils.py:272: UnnamedColumnWarning: Column 2 has no name. Using \"c\".\n"
     ]
    }
   ],
   "source": [
    "# let's retry our code to create the table\n",
    "table = agate.Table(cleaned_rows, titles, types)"
   ]
  },
  {
   "cell_type": "code",
   "execution_count": 17,
   "id": "b286a646",
   "metadata": {},
   "outputs": [
    {
     "data": {
      "text/plain": [
       "<agate.table.Table at 0x1912e183950>"
      ]
     },
     "execution_count": 17,
     "metadata": {},
     "output_type": "execute_result"
    }
   ],
   "source": [
    "table"
   ]
  },
  {
   "cell_type": "code",
   "execution_count": 18,
   "id": "a0669d9f",
   "metadata": {},
   "outputs": [
    {
     "name": "stdout",
     "output_type": "stream",
     "text": [
      "| Countries and areas  | Total (%) | c | Sex (%) Male | Female | Place of residenc... | Rural | ... |\n",
      "| -------------------- | --------- | - | ------------ | ------ | -------------------- | ----- | --- |\n",
      "| Afghanistan          |      10.3 |   |         11.0 |    9.6 |                  7.9 |  10.8 | ... |\n",
      "| Albania              |       5.1 | y |          6.2 |    3.9 |                      |       | ... |\n",
      "| Algeria              |       4.7 | y |          5.5 |    3.9 |                  3.9 |   5.6 | ... |\n",
      "| Angola               |      23.5 |   |         22.1 |   24.8 |                      |       | ... |\n",
      "| Argentina            |       4.4 |   |          4.8 |    3.9 |                      |       | ... |\n",
      "| Armenia              |       3.9 |   |          4.7 |    2.9 |                  2.4 |   6.0 | ... |\n",
      "| Azerbaijan           |       6.5 | y |          7.5 |    5.4 |                  2.1 |  10.7 | ... |\n",
      "| Bahrain              |       4.6 |   |          6.3 |    3.0 |                      |       | ... |\n",
      "| Bangladesh           |      12.8 |   |         17.5 |    8.1 |                 11.2 |  13.4 | ... |\n",
      "| Belarus              |       1.4 |   |          1.4 |    1.5 |                  1.3 |   1.8 | ... |\n",
      "| Belize               |       5.8 |   |          6.7 |    5.0 |                  3.2 |   7.4 | ... |\n",
      "| Benin                |      15.3 |   |         14.9 |   15.6 |                 10.5 |  18.1 | ... |\n",
      "| Bhutan               |       2.9 |   |          2.6 |    3.1 |                  1.7 |   3.3 | ... |\n",
      "| Bolivia (Plurinat... |      26.4 | y |         28.2 |   24.4 |                 15.1 |  64.6 | ... |\n",
      "| Bosnia and Herzeg... |       5.3 |   |          6.6 |    3.9 |                  3.2 |   6.4 | ... |\n",
      "| Botswana             |       9.0 | y |         10.9 |    7.0 |                 11.3 |  12.6 | ... |\n",
      "| Brazil               |       8.3 | y |         10.6 |    6.0 |                      |       | ... |\n",
      "| Burkina Faso         |      39.2 |   |         42.3 |   36.0 |                 17.3 |  44.0 | ... |\n",
      "| Burundi              |      26.3 |   |         25.5 |   27.1 |                 14.5 |  27.4 | ... |\n",
      "| Cabo Verde           |       6.4 | y |              |        |                      |       | ... |\n",
      "| ...                  |       ... | ... |          ... |    ... |                  ... |   ... | ... |\n"
     ]
    }
   ],
   "source": [
    "table.print_table(max_columns=7)"
   ]
  },
  {
   "cell_type": "code",
   "execution_count": 19,
   "id": "3da1f57f",
   "metadata": {},
   "outputs": [
    {
     "name": "stdout",
     "output_type": "stream",
     "text": [
      "Stored 'table' (Table)\n"
     ]
    }
   ],
   "source": [
    "%store table"
   ]
  }
 ],
 "metadata": {
  "kernelspec": {
   "display_name": "data-wrangling",
   "language": "python",
   "name": "data-wrangling"
  },
  "language_info": {
   "codemirror_mode": {
    "name": "ipython",
    "version": 3
   },
   "file_extension": ".py",
   "mimetype": "text/x-python",
   "name": "python",
   "nbconvert_exporter": "python",
   "pygments_lexer": "ipython3",
   "version": "3.11.5"
  }
 },
 "nbformat": 4,
 "nbformat_minor": 5
}
