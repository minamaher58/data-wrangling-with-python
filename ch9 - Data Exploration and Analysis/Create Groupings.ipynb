{
 "cells": [
  {
   "cell_type": "code",
   "execution_count": 11,
   "id": "37bbe34d",
   "metadata": {},
   "outputs": [],
   "source": [
    "import agate\n",
    "import json\n",
    "\n",
    "%store -r cpi_and_cl"
   ]
  },
  {
   "cell_type": "code",
   "execution_count": 8,
   "id": "a4aa1cda",
   "metadata": {},
   "outputs": [
    {
     "name": "stdout",
     "output_type": "stream",
     "text": [
      "Uruguay south america\n",
      "Chile south america\n",
      "Saint Lucia None\n",
      "Botswana africa\n",
      "Bhutan asia\n",
      "Portugal europe\n",
      "Costa Rica north america\n",
      "Rwanda africa\n",
      "Turkey europe\n",
      "Georgia europe\n",
      "Lesotho africa\n",
      "Bahrain asia\n",
      "Ghana africa\n",
      "Jordan asia\n",
      "Montenegro europe\n",
      "Romania europe\n",
      "Bosnia and Herzegovina None\n",
      "Brazil south america\n",
      "Sao Tome and Principe None\n",
      "Serbia europe\n",
      "Senegal africa\n",
      "Tunisia africa\n",
      "Swaziland africa\n",
      "Burkina Faso africa\n",
      "El Salvador north america\n",
      "Jamaica north america\n",
      "Liberia africa\n",
      "Mongolia asia\n",
      "Peru south america\n",
      "Trinidad and Tobago None\n",
      "Zambia africa\n",
      "Malawi africa\n",
      "Morocco africa\n",
      "Algeria africa\n",
      "Armenia europe\n",
      "Benin africa\n",
      "Colombia south america\n",
      "Djibouti africa\n",
      "India asia\n",
      "Philippines None\n",
      "Suriname south america\n",
      "Ecuador south america\n",
      "Panama north america\n",
      "Thailand asia\n",
      "Argentina south america\n",
      "Gabon africa\n",
      "Mexico north america\n",
      "Niger africa\n",
      "Ethiopia africa\n",
      "Egypt africa\n",
      "Indonesia asia\n",
      "Albania europe\n",
      "Nepal asia\n",
      "Mauritania africa\n",
      "Mozambique africa\n",
      "Sierra Leone africa\n",
      "Timor-Leste None\n",
      "Belarus europe\n",
      "Dominican Republic north america\n",
      "Guatemala north america\n",
      "Togo africa\n",
      "Azerbaijan europe\n",
      "Comoros africa\n",
      "Gambia africa\n",
      "Lebanon asia\n",
      "Madagascar africa\n",
      "Mali africa\n",
      "Nicaragua north america\n",
      "Bangladesh asia\n",
      "Guyana south america\n",
      "Kenya africa\n",
      "Honduras north america\n",
      "Kazakhstan asia\n",
      "Uganda africa\n",
      "Cameroon africa\n",
      "Central African Republic africa\n",
      "Nigeria africa\n",
      "Ukraine europe\n",
      "Guinea africa\n",
      "Kyrgyzstan asia\n",
      "Paraguay south america\n",
      "Angola africa\n",
      "Democratic Republic of the Congo None\n",
      "Tajikistan asia\n",
      "Burundi africa\n",
      "Cambodia asia\n",
      "Chad africa\n",
      "Equatorial Guinea None\n",
      "Guinea-Bissau None\n",
      "Haiti north america\n",
      "Yemen asia\n",
      "Iraq asia\n",
      "Afghanistan asia\n",
      "Somalia africa\n"
     ]
    },
    {
     "name": "stderr",
     "output_type": "stream",
     "text": [
      "C:\\conda_tmp\\ipykernel_15640\\3985804638.py:1: ResourceWarning: unclosed file <_io.BufferedReader name='earth.json'>\n"
     ]
    }
   ],
   "source": [
    "country_json = json.loads(open('earth.json', 'rb').read())\n",
    "\n",
    "country_dict = {}\n",
    "\n",
    "for dct in country_json:\n",
    "    country_dict[dct['name']] = dct['parent']\n",
    "\n",
    "# given a contry row, it returns the continent.\n",
    "def get_country(country_row):\n",
    "    return country_dict.get(country_row['Country / Territory'].lower())\n",
    "\n",
    "cpi_and_cl = cpi_and_cl.compute([('continent',\n",
    "                                   agate.Formula(agate.Text(), get_country))\n",
    "                                ])\n",
    "\n",
    "for r in cpi_and_cl.rows:\n",
    "    print(r['Country / Territory'], r['continent'])"
   ]
  },
  {
   "cell_type": "code",
   "execution_count": 9,
   "id": "d73e8019",
   "metadata": {},
   "outputs": [
    {
     "name": "stdout",
     "output_type": "stream",
     "text": [
      "Saint Lucia\n",
      "Bosnia and Herzegovina\n",
      "Sao Tome and Principe\n",
      "Trinidad and Tobago\n",
      "Philippines\n",
      "Timor-Leste\n",
      "Democratic Republic of the Congo\n",
      "Equatorial Guinea\n",
      "Guinea-Bissau\n"
     ]
    }
   ],
   "source": [
    "# print out the countries that have no continent 'None'\n",
    "no_continent = cpi_and_cl.where(lambda x: x['continent'] is None)\n",
    "\n",
    "for r in no_continent.rows:\n",
    "    print(r['Country / Territory'])"
   ]
  },
  {
   "cell_type": "code",
   "execution_count": 16,
   "id": "3902b1b2",
   "metadata": {},
   "outputs": [
    {
     "name": "stderr",
     "output_type": "stream",
     "text": [
      "C:\\conda_tmp\\ipykernel_15640\\3835179319.py:4: ResourceWarning: unclosed file <_io.BufferedReader name='earth-cleaned.json'>\n"
     ]
    }
   ],
   "source": [
    "%store -r cpi_and_cl\n",
    "\n",
    "# earth-cleaned.json, which is the earth.json file with the necessary changes made.\n",
    "country_json = json.loads(open('earth-cleaned.json', 'rb').read())\n",
    "\n",
    "country_dict = {}\n",
    "\n",
    "for dct in country_json:\n",
    "    country_dict[dct['name']] = dct['parent']\n",
    "\n",
    "# given a contry row, it returns the continent.\n",
    "def get_country(country_row):\n",
    "    return country_dict.get(country_row['Country / Territory'].lower())\n",
    "\n",
    "cpi_and_cl = cpi_and_cl.compute([('continent',\n",
    "                                   agate.Formula(agate.Text(), get_country))\n",
    "                                ])\n",
    "\n",
    "# print out the countries that have no continent 'None'\n",
    "no_continent = cpi_and_cl.where(lambda x: x['continent'] is None)\n",
    "\n",
    "for r in no_continent.rows:\n",
    "    print(r['Country / Territory'])"
   ]
  },
  {
   "cell_type": "code",
   "execution_count": null,
   "id": "86c6181d",
   "metadata": {},
   "outputs": [],
   "source": [
    "# group our now-complete continent data by continent"
   ]
  }
 ],
 "metadata": {
  "kernelspec": {
   "display_name": "data-wrangling",
   "language": "python",
   "name": "data-wrangling"
  },
  "language_info": {
   "codemirror_mode": {
    "name": "ipython",
    "version": 3
   },
   "file_extension": ".py",
   "mimetype": "text/x-python",
   "name": "python",
   "nbconvert_exporter": "python",
   "pygments_lexer": "ipython3",
   "version": "3.11.5"
  }
 },
 "nbformat": 4,
 "nbformat_minor": 5
}
