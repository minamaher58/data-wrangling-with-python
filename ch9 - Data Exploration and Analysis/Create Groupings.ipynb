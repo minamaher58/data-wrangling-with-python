{
 "cells": [
  {
   "cell_type": "code",
   "execution_count": 2,
   "id": "37bbe34d",
   "metadata": {},
   "outputs": [],
   "source": [
    "import agate\n",
    "import json\n",
    "\n",
    "%store -r cpi_and_cl"
   ]
  },
  {
   "cell_type": "code",
   "execution_count": 3,
   "id": "a4aa1cda",
   "metadata": {},
   "outputs": [
    {
     "name": "stdout",
     "output_type": "stream",
     "text": [
      "Uruguay south america\n",
      "Chile south america\n",
      "Saint Lucia None\n",
      "Botswana africa\n",
      "Bhutan asia\n",
      "Portugal europe\n",
      "Costa Rica north america\n",
      "Rwanda africa\n",
      "Turkey europe\n",
      "Georgia europe\n",
      "Lesotho africa\n",
      "Bahrain asia\n",
      "Ghana africa\n",
      "Jordan asia\n",
      "Montenegro europe\n",
      "Romania europe\n",
      "Bosnia and Herzegovina None\n",
      "Brazil south america\n",
      "Sao Tome and Principe None\n",
      "Serbia europe\n",
      "Senegal africa\n",
      "Tunisia africa\n",
      "Swaziland africa\n",
      "Burkina Faso africa\n",
      "El Salvador north america\n",
      "Jamaica north america\n",
      "Liberia africa\n",
      "Mongolia asia\n",
      "Peru south america\n",
      "Trinidad and Tobago None\n",
      "Zambia africa\n",
      "Malawi africa\n",
      "Morocco africa\n",
      "Algeria africa\n",
      "Armenia europe\n",
      "Benin africa\n",
      "Colombia south america\n",
      "Djibouti africa\n",
      "India asia\n",
      "Philippines None\n",
      "Suriname south america\n",
      "Ecuador south america\n",
      "Panama north america\n",
      "Thailand asia\n",
      "Argentina south america\n",
      "Gabon africa\n",
      "Mexico north america\n",
      "Niger africa\n",
      "Ethiopia africa\n",
      "Egypt africa\n",
      "Indonesia asia\n",
      "Albania europe\n",
      "Nepal asia\n",
      "Mauritania africa\n",
      "Mozambique africa\n",
      "Sierra Leone africa\n",
      "Timor-Leste None\n",
      "Belarus europe\n",
      "Dominican Republic north america\n",
      "Guatemala north america\n",
      "Togo africa\n",
      "Azerbaijan europe\n",
      "Comoros africa\n",
      "Gambia africa\n",
      "Lebanon asia\n",
      "Madagascar africa\n",
      "Mali africa\n",
      "Nicaragua north america\n",
      "Bangladesh asia\n",
      "Guyana south america\n",
      "Kenya africa\n",
      "Honduras north america\n",
      "Kazakhstan asia\n",
      "Uganda africa\n",
      "Cameroon africa\n",
      "Central African Republic africa\n",
      "Nigeria africa\n",
      "Ukraine europe\n",
      "Guinea africa\n",
      "Kyrgyzstan asia\n",
      "Paraguay south america\n",
      "Angola africa\n",
      "Democratic Republic of the Congo None\n",
      "Tajikistan asia\n",
      "Burundi africa\n",
      "Cambodia asia\n",
      "Chad africa\n",
      "Equatorial Guinea None\n",
      "Guinea-Bissau None\n",
      "Haiti north america\n",
      "Yemen asia\n",
      "Iraq asia\n",
      "Afghanistan asia\n",
      "Somalia africa\n"
     ]
    },
    {
     "name": "stderr",
     "output_type": "stream",
     "text": [
      "C:\\Users\\mina maher\\AppData\\Local\\Temp\\ipykernel_476\\3985804638.py:1: ResourceWarning: unclosed file <_io.BufferedReader name='earth.json'>\n"
     ]
    }
   ],
   "source": [
    "country_json = json.loads(open('earth.json', 'rb').read())\n",
    "\n",
    "country_dict = {}\n",
    "\n",
    "for dct in country_json:\n",
    "    country_dict[dct['name']] = dct['parent']\n",
    "\n",
    "# given a contry row, it returns the continent.\n",
    "def get_country(country_row):\n",
    "    return country_dict.get(country_row['Country / Territory'].lower())\n",
    "\n",
    "cpi_and_cl = cpi_and_cl.compute([('continent',\n",
    "                                   agate.Formula(agate.Text(), get_country))\n",
    "                                ])\n",
    "\n",
    "for r in cpi_and_cl.rows:\n",
    "    print(r['Country / Territory'], r['continent'])"
   ]
  },
  {
   "cell_type": "code",
   "execution_count": 4,
   "id": "d73e8019",
   "metadata": {},
   "outputs": [
    {
     "name": "stdout",
     "output_type": "stream",
     "text": [
      "Saint Lucia\n",
      "Bosnia and Herzegovina\n",
      "Sao Tome and Principe\n",
      "Trinidad and Tobago\n",
      "Philippines\n",
      "Timor-Leste\n",
      "Democratic Republic of the Congo\n",
      "Equatorial Guinea\n",
      "Guinea-Bissau\n"
     ]
    }
   ],
   "source": [
    "# print out the countries that have no continent 'None'\n",
    "no_continent = cpi_and_cl.where(lambda x: x['continent'] is None)\n",
    "\n",
    "for r in no_continent.rows:\n",
    "    print(r['Country / Territory'])"
   ]
  },
  {
   "cell_type": "code",
   "execution_count": 5,
   "id": "3902b1b2",
   "metadata": {},
   "outputs": [
    {
     "name": "stderr",
     "output_type": "stream",
     "text": [
      "C:\\Users\\mina maher\\AppData\\Local\\Temp\\ipykernel_476\\3835179319.py:4: ResourceWarning: unclosed file <_io.BufferedReader name='earth-cleaned.json'>\n"
     ]
    }
   ],
   "source": [
    "%store -r cpi_and_cl\n",
    "\n",
    "# earth-cleaned.json, which is the earth.json file with the necessary changes made.\n",
    "country_json = json.loads(open('earth-cleaned.json', 'rb').read())\n",
    "\n",
    "country_dict = {}\n",
    "\n",
    "for dct in country_json:\n",
    "    country_dict[dct['name']] = dct['parent']\n",
    "\n",
    "# given a contry row, it returns the continent.\n",
    "def get_country(country_row):\n",
    "    return country_dict.get(country_row['Country / Territory'].lower())\n",
    "\n",
    "cpi_and_cl = cpi_and_cl.compute([('continent',\n",
    "                                   agate.Formula(agate.Text(), get_country))\n",
    "                                ])\n",
    "\n",
    "# print out the countries that have no continent 'None'\n",
    "no_continent = cpi_and_cl.where(lambda x: x['continent'] is None)\n",
    "\n",
    "for r in no_continent.rows:\n",
    "    print(r['Country / Territory'])"
   ]
  },
  {
   "cell_type": "code",
   "execution_count": 6,
   "id": "86c6181d",
   "metadata": {},
   "outputs": [
    {
     "name": "stdout",
     "output_type": "stream",
     "text": [
      "| table         | rows |\n",
      "| ------------- | ---- |\n",
      "| south america | 10   |\n",
      "| north america | 12   |\n",
      "| africa        | 41   |\n",
      "| asia          | 19   |\n",
      "| europe        | 12   |\n",
      "\n"
     ]
    }
   ],
   "source": [
    "# group our now-complete continent data by continent\n",
    "grp_by_cont = cpi_and_cl.group_by('continent')\n",
    "print(grp_by_cont)"
   ]
  },
  {
   "cell_type": "code",
   "execution_count": 7,
   "id": "ba637f76",
   "metadata": {},
   "outputs": [
    {
     "name": "stdout",
     "output_type": "stream",
     "text": [
      "south america 10\n",
      "north america 12\n",
      "africa 41\n",
      "asia 19\n",
      "europe 12\n"
     ]
    }
   ],
   "source": [
    "for cont, table in grp_by_cont.items():\n",
    "    print(cont, len(table.rows))"
   ]
  },
  {
   "cell_type": "code",
   "execution_count": 8,
   "id": "8325c966",
   "metadata": {},
   "outputs": [
    {
     "name": "stdout",
     "output_type": "stream",
     "text": [
      "| continent     | cl_mean | cl_max | cpi_median | cpi_min |\n",
      "| ------------- | ------- | ------ | ---------- | ------- |\n",
      "| south america | 12.710… |   33.5 |       36.0 |      24 |\n",
      "| north america | 10.333… |   25.8 |       34.5 |      19 |\n",
      "| africa        | 22.349… |   49.0 |       30.0 |       8 |\n",
      "| asia          |  9.589… |   33.9 |       30.0 |       8 |\n",
      "| europe        |  5.625… |   18.4 |       42.0 |      25 |\n"
     ]
    }
   ],
   "source": [
    "agg = grp_by_cont.aggregate([('cl_mean', agate.Mean('Total (%)')),\n",
    "                             ('cl_max', agate.Max('Total (%)'))  ,\n",
    "                             ('cpi_median', agate.Median ('CPI 2013 Score')),\n",
    "                             ('cpi_min', agate.Min('CPI 2013 Score'))\n",
    "                            ])\n",
    "\n",
    "agg.print_table()"
   ]
  },
  {
   "cell_type": "code",
   "execution_count": 9,
   "id": "3aa3b1e4",
   "metadata": {},
   "outputs": [
    {
     "name": "stdout",
     "output_type": "stream",
     "text": [
      "continent     cl_max\n",
      "south america   33.5 ▓░░░░░░░░░░░░░░░░░░░░░░░░░░░░░░░░░░░░░░░░░░░░░░░░░░░░░░░░░░░░░░░░░░                                \n",
      "north america   25.8 ▓░░░░░░░░░░░░░░░░░░░░░░░░░░░░░░░░░░░░░░░░░░░░░░░░░░░                                               \n",
      "africa          49.0 ▓░░░░░░░░░░░░░░░░░░░░░░░░░░░░░░░░░░░░░░░░░░░░░░░░░░░░░░░░░░░░░░░░░░░░░░░░░░░░░░░░░░░░░░░░░░░░░░░░  \n",
      "asia            33.9 ▓░░░░░░░░░░░░░░░░░░░░░░░░░░░░░░░░░░░░░░░░░░░░░░░░░░░░░░░░░░░░░░░░░░                                \n",
      "europe          18.4 ▓░░░░░░░░░░░░░░░░░░░░░░░░░░░░░░░░░░░░                                                              \n",
      "                     +-----------------------+------------------------+------------------------+-----------------------+\n",
      "                     0.0                   12.5                     25.0                     37.5                   50.0\n"
     ]
    }
   ],
   "source": [
    "agg.print_bars('continent', 'cl_max')"
   ]
  },
  {
   "cell_type": "markdown",
   "id": "051a358e",
   "metadata": {},
   "source": [
    "### Separating and Focusing Your Data"
   ]
  },
  {
   "cell_type": "code",
   "execution_count": 10,
   "id": "f4dad94d",
   "metadata": {},
   "outputs": [
    {
     "name": "stdout",
     "output_type": "stream",
     "text": [
      "Somalia: 49.0% - 8.0\n",
      "Cameroon: 41.7% - 25.0\n",
      "Zambia: 40.6% - 38.0\n",
      "Burkina Faso: 39.2% - 38.0\n",
      "Guinea-Bissau: 38.0% - 19.0\n",
      "Ghana: 33.9% - 46.0\n",
      "Niger: 30.5% - 34.0\n",
      "Rwanda: 28.5% - 53.0\n",
      "Central African Republic: 28.5% - 25.0\n",
      "Togo: 28.3% - 29.0\n",
      "Guinea: 28.3% - 24.0\n",
      "Equatorial Guinea: 27.8% - 19.0\n",
      "Ethiopia: 27.4% - 33.0\n",
      "Burundi: 26.3% - 21.0\n",
      "Chad: 26.1% - 19.0\n",
      "Sierra Leone: 26.0% - 30.0\n",
      "Kenya: 25.9% - 27.0\n",
      "Malawi: 25.7% - 37.0\n",
      "Nigeria: 24.7% - 25.0\n",
      "Angola: 23.5% - 23.0\n",
      "Lesotho: 22.9% - 49.0\n",
      "Madagascar: 22.9% - 28.0\n",
      "Mozambique: 22.2% - 30.0\n",
      "Comoros: 22.0% - 28.0\n",
      "Mali: 21.4% - 28.0\n",
      "Liberia: 20.8% - 38.0\n",
      "Gambia: 19.2% - 28.0\n",
      "Uganda: 16.3% - 26.0\n",
      "Benin: 15.3% - 36.0\n",
      "Democratic Republic of the Congo: 15.0% - 22.0\n",
      "Mauritania: 14.6% - 30.0\n",
      "Senegal: 14.5% - 41.0\n",
      "Gabon: 13.4% - 34.0\n",
      "Egypt: 9.3% - 32.0\n",
      "Botswana: 9.0% - 64.0\n",
      "Morocco: 8.3% - 37.0\n",
      "Djibouti: 7.7% - 36.0\n",
      "Sao Tome and Principe: 7.5% - 42.0\n",
      "Swaziland: 7.3% - 39.0\n",
      "Algeria: 4.7% - 36.0\n",
      "Tunisia: 2.1% - 41.0\n"
     ]
    }
   ],
   "source": [
    "africa_cpi_cl = cpi_and_cl.where(lambda x: x['continent'] == 'africa')\n",
    "\n",
    "for r in africa_cpi_cl.order_by('Total (%)', reverse = True).rows:\n",
    "    print(\"{}: {}% - {}\".format(r['Country / Territory'], r['Total (%)'], r['CPI 2013 Score']))"
   ]
  },
  {
   "cell_type": "code",
   "execution_count": 11,
   "id": "6c7b4d6b",
   "metadata": {},
   "outputs": [
    {
     "name": "stdout",
     "output_type": "stream",
     "text": [
      "-0.4041456951709211\n"
     ]
    }
   ],
   "source": [
    "import numpy\n",
    "print(numpy.corrcoef(\n",
    "    [float(t) for t in africa_cpi_cl.columns['Total (%)'].values()],\n",
    "    [float(c) for c in africa_cpi_cl.columns['CPI 2013 Score'].values()])[0,1]\n",
    "     )"
   ]
  },
  {
   "cell_type": "code",
   "execution_count": 12,
   "id": "7fdedefb",
   "metadata": {},
   "outputs": [],
   "source": [
    "africa_cpi_cl = cpi_and_cl.compute([('Africa Child Labor Rank',\n",
    "                                   agate.Rank('Total (%)', reverse=True))\n",
    "                                ])\n",
    "africa_cpi_cl = cpi_and_cl.compute([('Africa CPI Rank',\n",
    "                                   agate.Rank('CPI 2013 Score'))\n",
    "                                ])"
   ]
  },
  {
   "cell_type": "code",
   "execution_count": 13,
   "id": "1f16127f",
   "metadata": {},
   "outputs": [
    {
     "name": "stdout",
     "output_type": "stream",
     "text": [
      "Niger: 30.5% - 34.0\n",
      "Ethiopia: 27.4% - 33.0\n",
      "Nepal: 33.9% - 31.0\n",
      "Mozambique: 22.2% - 30.0\n",
      "Sierra Leone: 26.0% - 30.0\n",
      "Guatemala: 25.8% - 29.0\n",
      "Togo: 28.3% - 29.0\n",
      "Comoros: 22.0% - 28.0\n",
      "Gambia: 19.2% - 28.0\n",
      "Madagascar: 22.9% - 28.0\n",
      "Mali: 21.4% - 28.0\n",
      "Guyana: 16.4% - 27.0\n",
      "Kenya: 25.9% - 27.0\n",
      "Uganda: 16.3% - 26.0\n",
      "Cameroon: 41.7% - 25.0\n",
      "Central African Republic: 28.5% - 25.0\n",
      "Nigeria: 24.7% - 25.0\n",
      "Guinea: 28.3% - 24.0\n",
      "Paraguay: 27.6% - 24.0\n",
      "Angola: 23.5% - 23.0\n",
      "Burundi: 26.3% - 21.0\n",
      "Cambodia: 18.3% - 20.0\n",
      "Chad: 26.1% - 19.0\n",
      "Equatorial Guinea: 27.8% - 19.0\n",
      "Guinea-Bissau: 38.0% - 19.0\n",
      "Haiti: 24.4% - 19.0\n",
      "Yemen: 22.7% - 18.0\n",
      "Somalia: 49.0% - 8.0\n"
     ]
    }
   ],
   "source": [
    "cl_mean = africa_cpi_cl.aggregate(agate.Mean('Total (%)'))\n",
    "cpi_mean = africa_cpi_cl.aggregate(agate.Mean('CPI 2013 Score'))\n",
    "\n",
    "def highest_rates(row):\n",
    "    if row['Total (%)'] > cl_mean and row['CPI 2013 Score'] < cpi_mean:\n",
    "        return True\n",
    "    return False\n",
    "\n",
    "highest_cpi_cl = africa_cpi_cl.where(lambda x : highest_rates(x))\n",
    "\n",
    "for r in highest_cpi_cl.rows:\n",
    "    print('{}: {}% - {}'.format(r['Country / Territory'], r['Total (%)'], r['CPI 2013 Score']))"
   ]
  },
  {
   "cell_type": "code",
   "execution_count": 15,
   "id": "4428de25",
   "metadata": {},
   "outputs": [
    {
     "name": "stdout",
     "output_type": "stream",
     "text": [
      "Stored 'africa_cpi_cl' (Table)\n",
      "Stored 'highest_cpi_cl' (Table)\n"
     ]
    }
   ],
   "source": [
    "%store africa_cpi_cl\n",
    "%store highest_cpi_cl"
   ]
  }
 ],
 "metadata": {
  "kernelspec": {
   "display_name": "data-wrangling",
   "language": "python",
   "name": "data-wrangling"
  },
  "language_info": {
   "codemirror_mode": {
    "name": "ipython",
    "version": 3
   },
   "file_extension": ".py",
   "mimetype": "text/x-python",
   "name": "python",
   "nbconvert_exporter": "python",
   "pygments_lexer": "ipython3",
   "version": "3.11.5"
  }
 },
 "nbformat": 4,
 "nbformat_minor": 5
}
