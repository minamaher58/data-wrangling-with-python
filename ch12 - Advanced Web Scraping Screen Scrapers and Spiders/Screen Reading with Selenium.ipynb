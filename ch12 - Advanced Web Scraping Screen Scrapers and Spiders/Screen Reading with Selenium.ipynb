{
 "cells": [
  {
   "cell_type": "markdown",
   "id": "1d8989ae",
   "metadata": {},
   "source": [
    "### Screen Reading with Selenium"
   ]
  },
  {
   "cell_type": "code",
   "execution_count": 2,
   "id": "2e457116",
   "metadata": {},
   "outputs": [],
   "source": [
    "from selenium.webdriver.chrome.service import Service\n",
    "from selenium import webdriver\n",
    "from selenium.webdriver.common.by import By"
   ]
  },
  {
   "cell_type": "code",
   "execution_count": 14,
   "id": "f4e2e924",
   "metadata": {},
   "outputs": [],
   "source": [
    "#download it from https://sites.google.com/chromium.org/driver/\n",
    "path = \"./chromedriver-win64/chromedriver.exe\"\n",
    "service = Service(executable_path=path)\n",
    "\n",
    "browser = webdriver.Chrome(service=service)\n",
    "browser.get('http://www.fairphone.com/we-are-fairphone/')\n",
    "browser.maximize_window()"
   ]
  },
  {
   "cell_type": "code",
   "execution_count": 15,
   "id": "285abe85",
   "metadata": {},
   "outputs": [
    {
     "ename": "NoSuchElementException",
     "evalue": "Message: no such element: Unable to locate element: {\"method\":\"css selector\",\"selector\":\"div.content\"}\n  (Session info: chrome=119.0.6045.160); For documentation on this error, please visit: https://www.selenium.dev/documentation/webdriver/troubleshooting/errors#no-such-element-exception\nStacktrace:\n\tGetHandleVerifier [0x00007FF794BA82B2+55298]\n\t(No symbol) [0x00007FF794B15E02]\n\t(No symbol) [0x00007FF7949D05AB]\n\t(No symbol) [0x00007FF794A1175C]\n\t(No symbol) [0x00007FF794A118DC]\n\t(No symbol) [0x00007FF794A4CBC7]\n\t(No symbol) [0x00007FF794A320EF]\n\t(No symbol) [0x00007FF794A4AAA4]\n\t(No symbol) [0x00007FF794A31E83]\n\t(No symbol) [0x00007FF794A0670A]\n\t(No symbol) [0x00007FF794A07964]\n\tGetHandleVerifier [0x00007FF794F20AAB+3694587]\n\tGetHandleVerifier [0x00007FF794F7728E+4048862]\n\tGetHandleVerifier [0x00007FF794F6F173+4015811]\n\tGetHandleVerifier [0x00007FF794C447D6+695590]\n\t(No symbol) [0x00007FF794B20CE8]\n\t(No symbol) [0x00007FF794B1CF34]\n\t(No symbol) [0x00007FF794B1D062]\n\t(No symbol) [0x00007FF794B0D3A3]\n\tBaseThreadInitThunk [0x00007FFBF0237344+20]\n\tRtlUserThreadStart [0x00007FFBF1AE26B1+33]\n",
     "output_type": "error",
     "traceback": [
      "\u001b[1;31m---------------------------------------------------------------------------\u001b[0m",
      "\u001b[1;31mNoSuchElementException\u001b[0m                    Traceback (most recent call last)",
      "Cell \u001b[1;32mIn[15], line 1\u001b[0m\n\u001b[1;32m----> 1\u001b[0m content \u001b[38;5;241m=\u001b[39m browser\u001b[38;5;241m.\u001b[39mfind_element(By\u001b[38;5;241m.\u001b[39mCSS_SELECTOR,\u001b[38;5;124m'\u001b[39m\u001b[38;5;124mdiv.content\u001b[39m\u001b[38;5;124m'\u001b[39m)\n\u001b[0;32m      2\u001b[0m \u001b[38;5;28mprint\u001b[39m(content\u001b[38;5;241m.\u001b[39mtext)\n",
      "File \u001b[1;32m~\\.conda\\envs\\data-wrangling\\Lib\\site-packages\\selenium\\webdriver\\remote\\webdriver.py:741\u001b[0m, in \u001b[0;36mWebDriver.find_element\u001b[1;34m(self, by, value)\u001b[0m\n\u001b[0;32m    738\u001b[0m     by \u001b[38;5;241m=\u001b[39m By\u001b[38;5;241m.\u001b[39mCSS_SELECTOR\n\u001b[0;32m    739\u001b[0m     value \u001b[38;5;241m=\u001b[39m \u001b[38;5;124mf\u001b[39m\u001b[38;5;124m'\u001b[39m\u001b[38;5;124m[name=\u001b[39m\u001b[38;5;124m\"\u001b[39m\u001b[38;5;132;01m{\u001b[39;00mvalue\u001b[38;5;132;01m}\u001b[39;00m\u001b[38;5;124m\"\u001b[39m\u001b[38;5;124m]\u001b[39m\u001b[38;5;124m'\u001b[39m\n\u001b[1;32m--> 741\u001b[0m \u001b[38;5;28;01mreturn\u001b[39;00m \u001b[38;5;28mself\u001b[39m\u001b[38;5;241m.\u001b[39mexecute(Command\u001b[38;5;241m.\u001b[39mFIND_ELEMENT, {\u001b[38;5;124m\"\u001b[39m\u001b[38;5;124musing\u001b[39m\u001b[38;5;124m\"\u001b[39m: by, \u001b[38;5;124m\"\u001b[39m\u001b[38;5;124mvalue\u001b[39m\u001b[38;5;124m\"\u001b[39m: value})[\u001b[38;5;124m\"\u001b[39m\u001b[38;5;124mvalue\u001b[39m\u001b[38;5;124m\"\u001b[39m]\n",
      "File \u001b[1;32m~\\.conda\\envs\\data-wrangling\\Lib\\site-packages\\selenium\\webdriver\\remote\\webdriver.py:347\u001b[0m, in \u001b[0;36mWebDriver.execute\u001b[1;34m(self, driver_command, params)\u001b[0m\n\u001b[0;32m    345\u001b[0m response \u001b[38;5;241m=\u001b[39m \u001b[38;5;28mself\u001b[39m\u001b[38;5;241m.\u001b[39mcommand_executor\u001b[38;5;241m.\u001b[39mexecute(driver_command, params)\n\u001b[0;32m    346\u001b[0m \u001b[38;5;28;01mif\u001b[39;00m response:\n\u001b[1;32m--> 347\u001b[0m     \u001b[38;5;28mself\u001b[39m\u001b[38;5;241m.\u001b[39merror_handler\u001b[38;5;241m.\u001b[39mcheck_response(response)\n\u001b[0;32m    348\u001b[0m     response[\u001b[38;5;124m\"\u001b[39m\u001b[38;5;124mvalue\u001b[39m\u001b[38;5;124m\"\u001b[39m] \u001b[38;5;241m=\u001b[39m \u001b[38;5;28mself\u001b[39m\u001b[38;5;241m.\u001b[39m_unwrap_value(response\u001b[38;5;241m.\u001b[39mget(\u001b[38;5;124m\"\u001b[39m\u001b[38;5;124mvalue\u001b[39m\u001b[38;5;124m\"\u001b[39m, \u001b[38;5;28;01mNone\u001b[39;00m))\n\u001b[0;32m    349\u001b[0m     \u001b[38;5;28;01mreturn\u001b[39;00m response\n",
      "File \u001b[1;32m~\\.conda\\envs\\data-wrangling\\Lib\\site-packages\\selenium\\webdriver\\remote\\errorhandler.py:229\u001b[0m, in \u001b[0;36mErrorHandler.check_response\u001b[1;34m(self, response)\u001b[0m\n\u001b[0;32m    227\u001b[0m         alert_text \u001b[38;5;241m=\u001b[39m value[\u001b[38;5;124m\"\u001b[39m\u001b[38;5;124malert\u001b[39m\u001b[38;5;124m\"\u001b[39m]\u001b[38;5;241m.\u001b[39mget(\u001b[38;5;124m\"\u001b[39m\u001b[38;5;124mtext\u001b[39m\u001b[38;5;124m\"\u001b[39m)\n\u001b[0;32m    228\u001b[0m     \u001b[38;5;28;01mraise\u001b[39;00m exception_class(message, screen, stacktrace, alert_text)  \u001b[38;5;66;03m# type: ignore[call-arg]  # mypy is not smart enough here\u001b[39;00m\n\u001b[1;32m--> 229\u001b[0m \u001b[38;5;28;01mraise\u001b[39;00m exception_class(message, screen, stacktrace)\n",
      "\u001b[1;31mNoSuchElementException\u001b[0m: Message: no such element: Unable to locate element: {\"method\":\"css selector\",\"selector\":\"div.content\"}\n  (Session info: chrome=119.0.6045.160); For documentation on this error, please visit: https://www.selenium.dev/documentation/webdriver/troubleshooting/errors#no-such-element-exception\nStacktrace:\n\tGetHandleVerifier [0x00007FF794BA82B2+55298]\n\t(No symbol) [0x00007FF794B15E02]\n\t(No symbol) [0x00007FF7949D05AB]\n\t(No symbol) [0x00007FF794A1175C]\n\t(No symbol) [0x00007FF794A118DC]\n\t(No symbol) [0x00007FF794A4CBC7]\n\t(No symbol) [0x00007FF794A320EF]\n\t(No symbol) [0x00007FF794A4AAA4]\n\t(No symbol) [0x00007FF794A31E83]\n\t(No symbol) [0x00007FF794A0670A]\n\t(No symbol) [0x00007FF794A07964]\n\tGetHandleVerifier [0x00007FF794F20AAB+3694587]\n\tGetHandleVerifier [0x00007FF794F7728E+4048862]\n\tGetHandleVerifier [0x00007FF794F6F173+4015811]\n\tGetHandleVerifier [0x00007FF794C447D6+695590]\n\t(No symbol) [0x00007FF794B20CE8]\n\t(No symbol) [0x00007FF794B1CF34]\n\t(No symbol) [0x00007FF794B1D062]\n\t(No symbol) [0x00007FF794B0D3A3]\n\tBaseThreadInitThunk [0x00007FFBF0237344+20]\n\tRtlUserThreadStart [0x00007FFBF1AE26B1+33]\n"
     ]
    }
   ],
   "source": [
    "content = browser.find_element(By.CSS_SELECTOR,'div.content')\n",
    "print(content.text)"
   ]
  },
  {
   "cell_type": "code",
   "execution_count": 16,
   "id": "a0933eac",
   "metadata": {},
   "outputs": [
    {
     "name": "stdout",
     "output_type": "stream",
     "text": [
      "0\n"
     ]
    }
   ],
   "source": [
    "all_bubbles = browser.find_elements(By.CSS_SELECTOR,'div.content')\n",
    "print(len(all_bubbles))\n",
    "\n",
    "for bubble in all_bubbles:\n",
    "    print(bubble.text)"
   ]
  },
  {
   "cell_type": "code",
   "execution_count": 17,
   "id": "7bb805c3",
   "metadata": {},
   "outputs": [],
   "source": [
    "iframe = browser.find_element(By.XPATH,'//iframe')\n",
    "new_url = iframe.get_attribute('src')\n",
    "browser.get(new_url)"
   ]
  },
  {
   "cell_type": "code",
   "execution_count": 18,
   "id": "cb667cd8",
   "metadata": {},
   "outputs": [],
   "source": [
    "# Now we can see if we can load all of the content bubbles\n",
    "all_bubbles = browser.find_elements(By.CSS_SELECTOR,'div.content')\n",
    "for elem in all_bubbles:\n",
    "    print(elem.text)"
   ]
  },
  {
   "cell_type": "code",
   "execution_count": 19,
   "id": "a8fbb774",
   "metadata": {},
   "outputs": [],
   "source": [
    "from selenium.common.exceptions import NoSuchElementException\n",
    "\n",
    "all_data = []\n",
    "\n",
    "for elem in all_bubbles:\n",
    "    elem_dict = {}\n",
    "    \n",
    "    elem_dict['full_name'] = elem.find_element(By.CSS_SELECTOR, 'div.fullname').text\n",
    "    elem_dict['short_name'] = elem.find_element(By.CSS_SELECTOR, 'div.name').text\n",
    "    elem_dict['text_content'] = elem.find_element(By.CSS_SELECTOR, 'div.twine-description').text    \n",
    "    elem_dict['timestamp'] = elem.find_element(By.CSS_SELECTOR, 'div.when').text    \n",
    "    elem_dict['original_link'] = elem.find_element(By.CSS_SELECTOR, 'div.when a').get_attribute('href')\n",
    "    try:\n",
    "        elem_dict['picture'] = elem.find_element(By.CSS_SELECTOR, 'div.picture img').get_attribute('src')\n",
    "    except NoSuchElementException:\n",
    "        elem_dict['picture'] = None\n",
    "    all_data.append(elem_dict)"
   ]
  },
  {
   "cell_type": "code",
   "execution_count": 21,
   "id": "e7128bcb",
   "metadata": {},
   "outputs": [
    {
     "data": {
      "text/plain": [
       "[]"
      ]
     },
     "execution_count": 21,
     "metadata": {},
     "output_type": "execute_result"
    }
   ],
   "source": [
    "# we got no data because the site is updated and these class names are no longer used\n",
    "all_data"
   ]
  },
  {
   "cell_type": "code",
   "execution_count": 19,
   "id": "87cef707",
   "metadata": {},
   "outputs": [
    {
     "name": "stdout",
     "output_type": "stream",
     "text": [
      "[]\n"
     ]
    }
   ],
   "source": [
    "# the cleaned-up and simplified script\n",
    "from selenium.common.exceptions import NoSuchElementException, WebDriverException\n",
    "from selenium import webdriver\n",
    "\n",
    "def find_text_element(html_element, element_css):\n",
    "    try:\n",
    "        return html_element.find_element(By.CSS_SELECTOR, element_css).text\n",
    "    except NoSuchElementException:\n",
    "        pass\n",
    "    return None\n",
    "\n",
    "def find_attr_element(html_element, element_css, attr):\n",
    "    try:\n",
    "        return html_element.find_element(By.CSS_SELECTOR, element_css).get_attribute(attr)\n",
    "    except NoSuchElementException:\n",
    "        pass\n",
    "    return None\n",
    "\n",
    "def get_browser():\n",
    "    path = \"./chromedriver-win64/chromedriver.exe\"\n",
    "    service = Service(executable_path=path)\n",
    "    browser = webdriver.Chrome(service=service)\n",
    "    return browser\n",
    "\n",
    "def main():\n",
    "    browser = get_browser()\n",
    "    browser.get('http://www.fairphone.com/fairphone/')\n",
    "    \n",
    "    all_data = []\n",
    "    browser.implicitly_wait(10)\n",
    "    try:\n",
    "        all_bubbles = browser.find_elements(By.CSS_SELECTOR, 'div.twine-item-border')\n",
    "    except WebDriverException:\n",
    "        browser.implicitly_wait(5)\n",
    "        all_bubbles = browser.find_elements(By.CSS_SELECTOR, 'div.twine-item-border')\n",
    "    \n",
    "    for elem in all_bubbles:\n",
    "        elem_dict = {}\n",
    "        content = elem.find_element(By.CSS_SELECTOR, 'div.conent')\n",
    "        elem_dict['full_name'] = find_text_element(content, 'div.fullname')\n",
    "        elem_dict['short_name'] = find_attr_element(content, 'div.name', 'innerHTML')\n",
    "        elem_dict['text_content'] = find_text_element(content, 'div.twine-description')\n",
    "        elem_dict['timestamp'] = find_attr_element(elem, 'div.when a abbr.timeago', 'title')\n",
    "        elem_dict['original_link'] = find_attr_element(elem, 'div.when a', 'data-href')\n",
    "        elem_dict['picutre'] = find_attr_element(content, 'div.picture img', 'src')\n",
    "        \n",
    "        all_data.append(elem_dict)\n",
    "    browser.quit()\n",
    "    print(all_data)\n",
    "\n",
    "main()"
   ]
  },
  {
   "cell_type": "code",
   "execution_count": null,
   "id": "611daf12",
   "metadata": {},
   "outputs": [],
   "source": []
  }
 ],
 "metadata": {
  "kernelspec": {
   "display_name": "data-wrangling",
   "language": "python",
   "name": "data-wrangling"
  },
  "language_info": {
   "codemirror_mode": {
    "name": "ipython",
    "version": 3
   },
   "file_extension": ".py",
   "mimetype": "text/x-python",
   "name": "python",
   "nbconvert_exporter": "python",
   "pygments_lexer": "ipython3",
   "version": "3.11.5"
  }
 },
 "nbformat": 4,
 "nbformat_minor": 5
}
