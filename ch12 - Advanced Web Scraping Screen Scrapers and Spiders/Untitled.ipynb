{
 "cells": [
  {
   "cell_type": "code",
   "execution_count": 11,
   "id": "f4e2e924",
   "metadata": {},
   "outputs": [
    {
     "ename": "NoSuchWindowException",
     "evalue": "Message: no such window: target window already closed\nfrom unknown error: web view not found\n  (Session info: chrome=119.0.6045.124)\nStacktrace:\n\tGetHandleVerifier [0x00007FF695FA82B2+55298]\n\t(No symbol) [0x00007FF695F15E02]\n\t(No symbol) [0x00007FF695DD05AB]\n\t(No symbol) [0x00007FF695DB0038]\n\t(No symbol) [0x00007FF695E36BC7]\n\t(No symbol) [0x00007FF695E4A15F]\n\t(No symbol) [0x00007FF695E31E83]\n\t(No symbol) [0x00007FF695E0670A]\n\t(No symbol) [0x00007FF695E07964]\n\tGetHandleVerifier [0x00007FF696320AAB+3694587]\n\tGetHandleVerifier [0x00007FF69637728E+4048862]\n\tGetHandleVerifier [0x00007FF69636F173+4015811]\n\tGetHandleVerifier [0x00007FF6960447D6+695590]\n\t(No symbol) [0x00007FF695F20CE8]\n\t(No symbol) [0x00007FF695F1CF34]\n\t(No symbol) [0x00007FF695F1D062]\n\t(No symbol) [0x00007FF695F0D3A3]\n\tBaseThreadInitThunk [0x00007FFAED05257D+29]\n\tRtlUserThreadStart [0x00007FFAEEE2AA78+40]\n",
     "output_type": "error",
     "traceback": [
      "\u001b[1;31m---------------------------------------------------------------------------\u001b[0m",
      "\u001b[1;31mNoSuchWindowException\u001b[0m                     Traceback (most recent call last)",
      "Cell \u001b[1;32mIn[11], line 9\u001b[0m\n\u001b[0;32m      7\u001b[0m browser \u001b[38;5;241m=\u001b[39m webdriver\u001b[38;5;241m.\u001b[39mChrome(service\u001b[38;5;241m=\u001b[39mservice)\n\u001b[0;32m      8\u001b[0m browser\u001b[38;5;241m.\u001b[39mget(\u001b[38;5;124m'\u001b[39m\u001b[38;5;124mhttp://www.fairphone.com/we-are-fairphone/\u001b[39m\u001b[38;5;124m'\u001b[39m)\n\u001b[1;32m----> 9\u001b[0m browser\u001b[38;5;241m.\u001b[39mmaximize_window()\n",
      "File \u001b[1;32mC:\\ProgramData\\anaconda3\\envs\\data-wrangling\\Lib\\site-packages\\selenium\\webdriver\\remote\\webdriver.py:499\u001b[0m, in \u001b[0;36mWebDriver.maximize_window\u001b[1;34m(self)\u001b[0m\n\u001b[0;32m    497\u001b[0m \u001b[38;5;250m\u001b[39m\u001b[38;5;124;03m\"\"\"Maximizes the current window that webdriver is using.\"\"\"\u001b[39;00m\n\u001b[0;32m    498\u001b[0m command \u001b[38;5;241m=\u001b[39m Command\u001b[38;5;241m.\u001b[39mW3C_MAXIMIZE_WINDOW\n\u001b[1;32m--> 499\u001b[0m \u001b[38;5;28mself\u001b[39m\u001b[38;5;241m.\u001b[39mexecute(command, \u001b[38;5;28;01mNone\u001b[39;00m)\n",
      "File \u001b[1;32mC:\\ProgramData\\anaconda3\\envs\\data-wrangling\\Lib\\site-packages\\selenium\\webdriver\\remote\\webdriver.py:347\u001b[0m, in \u001b[0;36mWebDriver.execute\u001b[1;34m(self, driver_command, params)\u001b[0m\n\u001b[0;32m    345\u001b[0m response \u001b[38;5;241m=\u001b[39m \u001b[38;5;28mself\u001b[39m\u001b[38;5;241m.\u001b[39mcommand_executor\u001b[38;5;241m.\u001b[39mexecute(driver_command, params)\n\u001b[0;32m    346\u001b[0m \u001b[38;5;28;01mif\u001b[39;00m response:\n\u001b[1;32m--> 347\u001b[0m     \u001b[38;5;28mself\u001b[39m\u001b[38;5;241m.\u001b[39merror_handler\u001b[38;5;241m.\u001b[39mcheck_response(response)\n\u001b[0;32m    348\u001b[0m     response[\u001b[38;5;124m\"\u001b[39m\u001b[38;5;124mvalue\u001b[39m\u001b[38;5;124m\"\u001b[39m] \u001b[38;5;241m=\u001b[39m \u001b[38;5;28mself\u001b[39m\u001b[38;5;241m.\u001b[39m_unwrap_value(response\u001b[38;5;241m.\u001b[39mget(\u001b[38;5;124m\"\u001b[39m\u001b[38;5;124mvalue\u001b[39m\u001b[38;5;124m\"\u001b[39m, \u001b[38;5;28;01mNone\u001b[39;00m))\n\u001b[0;32m    349\u001b[0m     \u001b[38;5;28;01mreturn\u001b[39;00m response\n",
      "File \u001b[1;32mC:\\ProgramData\\anaconda3\\envs\\data-wrangling\\Lib\\site-packages\\selenium\\webdriver\\remote\\errorhandler.py:229\u001b[0m, in \u001b[0;36mErrorHandler.check_response\u001b[1;34m(self, response)\u001b[0m\n\u001b[0;32m    227\u001b[0m         alert_text \u001b[38;5;241m=\u001b[39m value[\u001b[38;5;124m\"\u001b[39m\u001b[38;5;124malert\u001b[39m\u001b[38;5;124m\"\u001b[39m]\u001b[38;5;241m.\u001b[39mget(\u001b[38;5;124m\"\u001b[39m\u001b[38;5;124mtext\u001b[39m\u001b[38;5;124m\"\u001b[39m)\n\u001b[0;32m    228\u001b[0m     \u001b[38;5;28;01mraise\u001b[39;00m exception_class(message, screen, stacktrace, alert_text)  \u001b[38;5;66;03m# type: ignore[call-arg]  # mypy is not smart enough here\u001b[39;00m\n\u001b[1;32m--> 229\u001b[0m \u001b[38;5;28;01mraise\u001b[39;00m exception_class(message, screen, stacktrace)\n",
      "\u001b[1;31mNoSuchWindowException\u001b[0m: Message: no such window: target window already closed\nfrom unknown error: web view not found\n  (Session info: chrome=119.0.6045.124)\nStacktrace:\n\tGetHandleVerifier [0x00007FF695FA82B2+55298]\n\t(No symbol) [0x00007FF695F15E02]\n\t(No symbol) [0x00007FF695DD05AB]\n\t(No symbol) [0x00007FF695DB0038]\n\t(No symbol) [0x00007FF695E36BC7]\n\t(No symbol) [0x00007FF695E4A15F]\n\t(No symbol) [0x00007FF695E31E83]\n\t(No symbol) [0x00007FF695E0670A]\n\t(No symbol) [0x00007FF695E07964]\n\tGetHandleVerifier [0x00007FF696320AAB+3694587]\n\tGetHandleVerifier [0x00007FF69637728E+4048862]\n\tGetHandleVerifier [0x00007FF69636F173+4015811]\n\tGetHandleVerifier [0x00007FF6960447D6+695590]\n\t(No symbol) [0x00007FF695F20CE8]\n\t(No symbol) [0x00007FF695F1CF34]\n\t(No symbol) [0x00007FF695F1D062]\n\t(No symbol) [0x00007FF695F0D3A3]\n\tBaseThreadInitThunk [0x00007FFAED05257D+29]\n\tRtlUserThreadStart [0x00007FFAEEE2AA78+40]\n"
     ]
    }
   ],
   "source": [
    "from selenium.webdriver.chrome.service import Service\n",
    "from selenium import webdriver\n",
    "\n",
    "#download it from https://sites.google.com/chromium.org/driver/\n",
    "path = \"./chromedriver-win64/chromedriver.exe\"\n",
    "service = Service(executable_path=path)\n",
    "browser = webdriver.Chrome(service=service)\n",
    "browser.get('http://www.fairphone.com/we-are-fairphone/')\n",
    "browser.maximize_window()"
   ]
  },
  {
   "cell_type": "code",
   "execution_count": null,
   "id": "285abe85",
   "metadata": {},
   "outputs": [],
   "source": []
  }
 ],
 "metadata": {
  "kernelspec": {
   "display_name": "data-wrangling",
   "language": "python",
   "name": "data-wrangling"
  },
  "language_info": {
   "codemirror_mode": {
    "name": "ipython",
    "version": 3
   },
   "file_extension": ".py",
   "mimetype": "text/x-python",
   "name": "python",
   "nbconvert_exporter": "python",
   "pygments_lexer": "ipython3",
   "version": "3.11.5"
  }
 },
 "nbformat": 4,
 "nbformat_minor": 5
}
