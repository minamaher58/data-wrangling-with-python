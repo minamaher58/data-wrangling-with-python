{
 "cells": [
  {
   "cell_type": "markdown",
   "id": "92d52c10",
   "metadata": {},
   "source": [
    "### A Simple Data Pull From Twitter's REST API"
   ]
  },
  {
   "cell_type": "code",
   "execution_count": 7,
   "id": "0217b2ab",
   "metadata": {
    "scrolled": true
   },
   "outputs": [],
   "source": [
    "import oauth2\n",
    "from credentials import *"
   ]
  },
  {
   "cell_type": "code",
   "execution_count": 15,
   "id": "4f427393",
   "metadata": {},
   "outputs": [],
   "source": [
    "# assigning key variables\n",
    "API_KEY = api_key\n",
    "API_SECRET = api_secret\n",
    "TOKEN_KEY = access_token\n",
    "TOKEN_SECRET = access_token_secret"
   ]
  },
  {
   "cell_type": "code",
   "execution_count": 16,
   "id": "b5038859",
   "metadata": {},
   "outputs": [],
   "source": [
    "# function to create OAuth connection\n",
    "def oauth_req(url, key, secret, http_method='GET', post_body=\"\", http_headers=None):\n",
    "    consumer = oauth2.Consumer(key=API_KEY, secret=API_SECRET)\n",
    "    token = oauth2.Token(key=key, secret=secret)\n",
    "    client = oauth2.Client(consumer, token)\n",
    "    resp, content = client.request(url, method=http_method, body=post_body, headers=http_headers)\n",
    "    return content"
   ]
  },
  {
   "cell_type": "code",
   "execution_count": 17,
   "id": "aecd9cf1",
   "metadata": {},
   "outputs": [
    {
     "ename": "TypeError",
     "evalue": "Strings must be encoded before hashing",
     "output_type": "error",
     "traceback": [
      "\u001b[1;31m---------------------------------------------------------------------------\u001b[0m",
      "\u001b[1;31mTypeError\u001b[0m                                 Traceback (most recent call last)",
      "Cell \u001b[1;32mIn[17], line 2\u001b[0m\n\u001b[0;32m      1\u001b[0m url \u001b[38;5;241m=\u001b[39m \u001b[38;5;124m'\u001b[39m\u001b[38;5;124mhttps://api.twitter.com/1.1/search/tweets.json?q=\u001b[39m\u001b[38;5;132;01m%23c\u001b[39;00m\u001b[38;5;124mhildlabor\u001b[39m\u001b[38;5;124m'\u001b[39m\n\u001b[1;32m----> 2\u001b[0m data \u001b[38;5;241m=\u001b[39m oauth_req(url, TOKEN_KEY, TOKEN_SECRET)\n\u001b[0;32m      3\u001b[0m \u001b[38;5;28mprint\u001b[39m(data)\n",
      "Cell \u001b[1;32mIn[16], line 6\u001b[0m, in \u001b[0;36moauth_req\u001b[1;34m(url, key, secret, http_method, post_body, http_headers)\u001b[0m\n\u001b[0;32m      4\u001b[0m token \u001b[38;5;241m=\u001b[39m oauth2\u001b[38;5;241m.\u001b[39mToken(key\u001b[38;5;241m=\u001b[39mkey, secret\u001b[38;5;241m=\u001b[39msecret)\n\u001b[0;32m      5\u001b[0m client \u001b[38;5;241m=\u001b[39m oauth2\u001b[38;5;241m.\u001b[39mClient(consumer, token)\n\u001b[1;32m----> 6\u001b[0m resp, content \u001b[38;5;241m=\u001b[39m client\u001b[38;5;241m.\u001b[39mrequest(url, method\u001b[38;5;241m=\u001b[39mhttp_method, body\u001b[38;5;241m=\u001b[39mpost_body, headers\u001b[38;5;241m=\u001b[39mhttp_headers)\n\u001b[0;32m      7\u001b[0m \u001b[38;5;28;01mreturn\u001b[39;00m content\n",
      "File \u001b[1;32mC:\\ProgramData\\anaconda3\\envs\\data-wrangling\\Lib\\site-packages\\oauth2\\__init__.py:673\u001b[0m, in \u001b[0;36mClient.request\u001b[1;34m(self, uri, method, body, headers, redirections, connection_type)\u001b[0m\n\u001b[0;32m    667\u001b[0m     parameters \u001b[38;5;241m=\u001b[39m \u001b[38;5;28;01mNone\u001b[39;00m\n\u001b[0;32m    669\u001b[0m req \u001b[38;5;241m=\u001b[39m Request\u001b[38;5;241m.\u001b[39mfrom_consumer_and_token(\u001b[38;5;28mself\u001b[39m\u001b[38;5;241m.\u001b[39mconsumer, \n\u001b[0;32m    670\u001b[0m     token\u001b[38;5;241m=\u001b[39m\u001b[38;5;28mself\u001b[39m\u001b[38;5;241m.\u001b[39mtoken, http_method\u001b[38;5;241m=\u001b[39mmethod, http_url\u001b[38;5;241m=\u001b[39muri, \n\u001b[0;32m    671\u001b[0m     parameters\u001b[38;5;241m=\u001b[39mparameters, body\u001b[38;5;241m=\u001b[39mbody, is_form_encoded\u001b[38;5;241m=\u001b[39mis_form_encoded)\n\u001b[1;32m--> 673\u001b[0m req\u001b[38;5;241m.\u001b[39msign_request(\u001b[38;5;28mself\u001b[39m\u001b[38;5;241m.\u001b[39mmethod, \u001b[38;5;28mself\u001b[39m\u001b[38;5;241m.\u001b[39mconsumer, \u001b[38;5;28mself\u001b[39m\u001b[38;5;241m.\u001b[39mtoken)\n\u001b[0;32m    675\u001b[0m scheme, netloc, path, params, query, fragment \u001b[38;5;241m=\u001b[39m urlparse(uri)\n\u001b[0;32m    676\u001b[0m realm \u001b[38;5;241m=\u001b[39m urlunparse((scheme, netloc, \u001b[38;5;124m'\u001b[39m\u001b[38;5;124m'\u001b[39m, \u001b[38;5;28;01mNone\u001b[39;00m, \u001b[38;5;28;01mNone\u001b[39;00m, \u001b[38;5;28;01mNone\u001b[39;00m))\n",
      "File \u001b[1;32mC:\\ProgramData\\anaconda3\\envs\\data-wrangling\\Lib\\site-packages\\oauth2\\__init__.py:493\u001b[0m, in \u001b[0;36mRequest.sign_request\u001b[1;34m(self, signature_method, consumer, token)\u001b[0m\n\u001b[0;32m    485\u001b[0m \u001b[38;5;250m\u001b[39m\u001b[38;5;124;03m\"\"\"Set the signature parameter to the result of sign.\"\"\"\u001b[39;00m\n\u001b[0;32m    487\u001b[0m \u001b[38;5;28;01mif\u001b[39;00m \u001b[38;5;129;01mnot\u001b[39;00m \u001b[38;5;28mself\u001b[39m\u001b[38;5;241m.\u001b[39mis_form_encoded:\n\u001b[0;32m    488\u001b[0m     \u001b[38;5;66;03m# according to\u001b[39;00m\n\u001b[0;32m    489\u001b[0m     \u001b[38;5;66;03m# http://oauth.googlecode.com/svn/spec/ext/body_hash/1.0/oauth-bodyhash.html\u001b[39;00m\n\u001b[0;32m    490\u001b[0m     \u001b[38;5;66;03m# section 4.1.1 \"OAuth Consumers MUST NOT include an\u001b[39;00m\n\u001b[0;32m    491\u001b[0m     \u001b[38;5;66;03m# oauth_body_hash parameter on requests with form-encoded\u001b[39;00m\n\u001b[0;32m    492\u001b[0m     \u001b[38;5;66;03m# request bodies.\"\u001b[39;00m\n\u001b[1;32m--> 493\u001b[0m     \u001b[38;5;28mself\u001b[39m[\u001b[38;5;124m'\u001b[39m\u001b[38;5;124moauth_body_hash\u001b[39m\u001b[38;5;124m'\u001b[39m] \u001b[38;5;241m=\u001b[39m base64\u001b[38;5;241m.\u001b[39mb64encode(sha1(\u001b[38;5;28mself\u001b[39m\u001b[38;5;241m.\u001b[39mbody)\u001b[38;5;241m.\u001b[39mdigest())\n\u001b[0;32m    495\u001b[0m \u001b[38;5;28;01mif\u001b[39;00m \u001b[38;5;124m'\u001b[39m\u001b[38;5;124moauth_consumer_key\u001b[39m\u001b[38;5;124m'\u001b[39m \u001b[38;5;129;01mnot\u001b[39;00m \u001b[38;5;129;01min\u001b[39;00m \u001b[38;5;28mself\u001b[39m:\n\u001b[0;32m    496\u001b[0m     \u001b[38;5;28mself\u001b[39m[\u001b[38;5;124m'\u001b[39m\u001b[38;5;124moauth_consumer_key\u001b[39m\u001b[38;5;124m'\u001b[39m] \u001b[38;5;241m=\u001b[39m consumer\u001b[38;5;241m.\u001b[39mkey\n",
      "\u001b[1;31mTypeError\u001b[0m: Strings must be encoded before hashing"
     ]
    }
   ],
   "source": [
    "url = 'https://api.twitter.com/1.1/search/tweets.json?q=%23childlabor'\n",
    "data = oauth_req(url, TOKEN_KEY, TOKEN_SECRET)\n",
    "print(data)"
   ]
  },
  {
   "cell_type": "code",
   "execution_count": null,
   "id": "6745e236",
   "metadata": {},
   "outputs": [],
   "source": []
  }
 ],
 "metadata": {
  "kernelspec": {
   "display_name": "data-wrangling",
   "language": "python",
   "name": "data-wrangling"
  },
  "language_info": {
   "codemirror_mode": {
    "name": "ipython",
    "version": 3
   },
   "file_extension": ".py",
   "mimetype": "text/x-python",
   "name": "python",
   "nbconvert_exporter": "python",
   "pygments_lexer": "ipython3",
   "version": "3.11.5"
  }
 },
 "nbformat": 4,
 "nbformat_minor": 5
}
