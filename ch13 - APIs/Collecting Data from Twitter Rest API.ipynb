{
 "cells": [
  {
   "cell_type": "markdown",
   "id": "92d52c10",
   "metadata": {},
   "source": [
    "### A Simple Data Pull From Twitter's REST API"
   ]
  },
  {
   "cell_type": "code",
   "execution_count": 41,
   "id": "0217b2ab",
   "metadata": {
    "scrolled": true
   },
   "outputs": [],
   "source": [
    "import oauth2\n",
    "from credentials import *"
   ]
  },
  {
   "cell_type": "code",
   "execution_count": 42,
   "id": "4f427393",
   "metadata": {},
   "outputs": [],
   "source": [
    "# assigning key variables\n",
    "API_KEY = api_key\n",
    "API_SECRET = api_secret\n",
    "TOKEN_KEY = access_token\n",
    "TOKEN_SECRET = access_token_secret"
   ]
  },
  {
   "cell_type": "code",
   "execution_count": 46,
   "id": "b5038859",
   "metadata": {},
   "outputs": [
    {
     "name": "stdout",
     "output_type": "stream",
     "text": [
      "b'{\"errors\":[{\"message\":\"You currently have access to a subset of Twitter API v2 endpoints and limited v1.1 endpoints (e.g. media post, oauth) only. If you need access to this endpoint, you may need a different access level. You can learn more here: https://developer.twitter.com/en/portal/product\",\"code\":453}]}\\n'\n"
     ]
    }
   ],
   "source": [
    "# function to create OAuth connection\n",
    "def oauth_req(url, key, secret, http_method='GET', post_body=\"\", http_headers=None):\n",
    "    consumer = oauth2.Consumer(key=API_KEY, secret=API_SECRET)\n",
    "    token = oauth2.Token(key=key, secret=secret)\n",
    "    client = oauth2.Client(consumer, token)\n",
    "    \n",
    "    # Encode the post_body if it's a string\n",
    "    if isinstance(post_body, str):\n",
    "        post_body = post_body.encode('utf-8')\n",
    "        \n",
    "    resp, content = client.request(url, method=http_method, body=post_body, headers=http_headers)\n",
    "    return content\n",
    "\n",
    "url = 'https://api.twitter.com/1.1/search/tweets.json?q=%23childlabor'\n",
    "data = oauth_req(url, TOKEN_KEY, TOKEN_SECRET)\n",
    "print(data)"
   ]
  },
  {
   "cell_type": "code",
   "execution_count": null,
   "id": "a3c1daaa",
   "metadata": {},
   "outputs": [],
   "source": []
  }
 ],
 "metadata": {
  "kernelspec": {
   "display_name": "data-wrangling",
   "language": "python",
   "name": "data-wrangling"
  },
  "language_info": {
   "codemirror_mode": {
    "name": "ipython",
    "version": 3
   },
   "file_extension": ".py",
   "mimetype": "text/x-python",
   "name": "python",
   "nbconvert_exporter": "python",
   "pygments_lexer": "ipython3",
   "version": "3.11.5"
  }
 },
 "nbformat": 4,
 "nbformat_minor": 5
}
