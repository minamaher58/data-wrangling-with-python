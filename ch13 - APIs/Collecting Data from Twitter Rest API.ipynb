{
 "cells": [
  {
   "cell_type": "markdown",
   "id": "92d52c10",
   "metadata": {},
   "source": [
    "### A Simple Data Pull From Twitter's REST API"
   ]
  },
  {
   "cell_type": "code",
   "execution_count": 3,
   "id": "0217b2ab",
   "metadata": {
    "scrolled": true
   },
   "outputs": [],
   "source": [
    "import oauth2\n",
    "from credentials import *\n",
    "import json\n",
    "import requests"
   ]
  },
  {
   "cell_type": "code",
   "execution_count": 4,
   "id": "4f427393",
   "metadata": {},
   "outputs": [],
   "source": [
    "# assigning key variables\n",
    "API_KEY = api_key\n",
    "API_SECRET = api_secret\n",
    "TOKEN_KEY = access_token\n",
    "TOKEN_SECRET = access_token_secret"
   ]
  },
  {
   "cell_type": "code",
   "execution_count": 5,
   "id": "b5038859",
   "metadata": {},
   "outputs": [
    {
     "name": "stdout",
     "output_type": "stream",
     "text": [
      "b'{\"errors\":[{\"message\":\"You currently have access to a subset of Twitter API v2 endpoints and limited v1.1 endpoints (e.g. media post, oauth) only. If you need access to this endpoint, you may need a different access level. You can learn more here: https://developer.twitter.com/en/portal/product\",\"code\":453}]}\\n'\n"
     ]
    }
   ],
   "source": [
    "# function to create OAuth connection\n",
    "def oauth_req(url, key, secret, http_method='GET', post_body=\"\", http_headers=None):\n",
    "    consumer = oauth2.Consumer(key=API_KEY, secret=API_SECRET)\n",
    "    token = oauth2.Token(key=key, secret=secret)\n",
    "    client = oauth2.Client(consumer, token)\n",
    "    \n",
    "    # Encode the post_body if it's a string\n",
    "    if isinstance(post_body, str):\n",
    "        post_body = post_body.encode('utf-8')\n",
    "        \n",
    "    resp, content = client.request(url, method=http_method, body=post_body, headers=http_headers)\n",
    "    return content\n",
    "\n",
    "url = 'https://api.twitter.com/1.1/search/tweets.json?q=%23childlabor'\n",
    "data = oauth_req(url, TOKEN_KEY, TOKEN_SECRET)\n",
    "print(data)"
   ]
  },
  {
   "cell_type": "code",
   "execution_count": 53,
   "id": "a3c1daaa",
   "metadata": {},
   "outputs": [
    {
     "name": "stdout",
     "output_type": "stream",
     "text": [
      "<class 'bytes'>\n"
     ]
    }
   ],
   "source": [
    "print(type(data))"
   ]
  },
  {
   "cell_type": "code",
   "execution_count": 54,
   "id": "68a6b24f",
   "metadata": {},
   "outputs": [
    {
     "name": "stdout",
     "output_type": "stream",
     "text": [
      "<class 'dict'>\n"
     ]
    }
   ],
   "source": [
    "# to parse the data in this script\n",
    "data_dict = json.loads(data)\n",
    "print(type(data_dict))"
   ]
  },
  {
   "cell_type": "code",
   "execution_count": null,
   "id": "9890907d",
   "metadata": {},
   "outputs": [],
   "source": [
    "#or write the data to a file and parse it later\n",
    "with open('tweet_data.json', 'wb') as data_file:\n",
    "    data_file.write(data)"
   ]
  },
  {
   "cell_type": "code",
   "execution_count": 10,
   "id": "4bfa3ea7",
   "metadata": {
    "scrolled": true
   },
   "outputs": [
    {
     "name": "stdout",
     "output_type": "stream",
     "text": [
      "Error: 403, {\"client_id\":\"28062399\",\"detail\":\"When authenticating requests to the Twitter API v2 endpoints, you must use keys and tokens from a Twitter developer App that is attached to a Project. You can create a project via the developer portal.\",\"registration_url\":\"https://developer.twitter.com/en/docs/projects/overview\",\"title\":\"Client Forbidden\",\"required_enrollment\":\"Appropriate Level of API Access\",\"reason\":\"client-not-enrolled\",\"type\":\"https://api.twitter.com/2/problems/client-forbidden\"}\n"
     ]
    }
   ],
   "source": [
    "# we cannot use api v1.1, so we will switch to v2\n",
    "BEARER_TOKEN = bearer_token\n",
    "\n",
    "# Define the endpoint URL and parameters\n",
    "search_url = \"https://api.twitter.com/2/tweets/search/recent\"\n",
    "query_params = {'query': '#childlabor', 'tweet.fields': 'text,created_at'}\n",
    "\n",
    "# Define headers including the Bearer token\n",
    "headers = {\n",
    "    \"Authorization\": f\"Bearer {bearer_token}\",\n",
    "    \"User-Agent\": \"v2RecentSearchPython\"\n",
    "}\n",
    "\n",
    "# Make the request to Twitter API v2\n",
    "response = requests.get(search_url, headers=headers, params=query_params)\n",
    "\n",
    "if response.status_code == 200:\n",
    "    # Process the JSON response\n",
    "    data = response.json()\n",
    "    for tweet in data['data']:\n",
    "        print(f\"Tweet ID: {tweet['id']}\")\n",
    "        print(f\"Text: {tweet['text']}\")\n",
    "        print(f\"Created At: {tweet['created_at']}\")\n",
    "        print(\"------------------------\")\n",
    "else:\n",
    "    print(f\"Error: {response.status_code}, {response.text}\")"
   ]
  },
  {
   "cell_type": "markdown",
   "id": "8ff4305f",
   "metadata": {},
   "source": [
    "Unfortunatley this endpoint is not available in the free tier right now :("
   ]
  },
  {
   "cell_type": "markdown",
   "id": "b2209277",
   "metadata": {},
   "source": [
    "## Advanced Data Collection from Twitter's REST API"
   ]
  },
  {
   "cell_type": "code",
   "execution_count": null,
   "id": "0982e3b6",
   "metadata": {},
   "outputs": [],
   "source": []
  }
 ],
 "metadata": {
  "kernelspec": {
   "display_name": "data-wrangling",
   "language": "python",
   "name": "data-wrangling"
  },
  "language_info": {
   "codemirror_mode": {
    "name": "ipython",
    "version": 3
   },
   "file_extension": ".py",
   "mimetype": "text/x-python",
   "name": "python",
   "nbconvert_exporter": "python",
   "pygments_lexer": "ipython3",
   "version": "3.11.5"
  }
 },
 "nbformat": 4,
 "nbformat_minor": 5
}
