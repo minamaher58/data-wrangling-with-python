{
 "cells": [
  {
   "cell_type": "code",
   "execution_count": 4,
   "id": "167e746c",
   "metadata": {},
   "outputs": [],
   "source": [
    "import PyPDF2\n",
    "import pprint\n",
    "import re\n",
    "from tabula import read_pdf\n",
    "import pandas as pd\n",
    "from pdfminer.high_level import extract_pages, extract_text, extract_text_to_fp"
   ]
  },
  {
   "cell_type": "markdown",
   "id": "f7b5f185",
   "metadata": {},
   "source": [
    "### Use Table Extraction, Trying a Different Solution"
   ]
  },
  {
   "cell_type": "code",
   "execution_count": 5,
   "id": "2a743921",
   "metadata": {},
   "outputs": [],
   "source": [
    "pdf_path = 'EN-FINAL Table 9.pdf'\n",
    "pdf_txt = 'en-final-table9.txt'"
   ]
  },
  {
   "cell_type": "code",
   "execution_count": 23,
   "id": "582c1852",
   "metadata": {},
   "outputs": [],
   "source": [
    "pdf_reader = PyPDF2.PdfReader(pdf_path)\n",
    "pages = len(pdf_reader.pages)\n",
    " \n",
    "writer = pd.ExcelWriter(f'en-final-table9.xlsx')\n",
    "        \n",
    "for i in range(pages):\n",
    "    tables = read_pdf(pdf_path, pages= i+1, multiple_tables=True, \n",
    "                              stream=True, guess=False, pandas_options={'header': None})\n",
    "\n",
    "    \n",
    "    for j,table in enumerate(tables):\n",
    "        sheet_name = f'Page {i+1} table{j+1}'\n",
    "        table.to_excel(writer, sheet_name=sheet_name)\n",
    "writer.close()"
   ]
  },
  {
   "cell_type": "code",
   "execution_count": null,
   "id": "33a0b58a",
   "metadata": {},
   "outputs": [],
   "source": []
  }
 ],
 "metadata": {
  "kernelspec": {
   "display_name": "data-wrangling",
   "language": "python",
   "name": "data-wrangling"
  },
  "language_info": {
   "codemirror_mode": {
    "name": "ipython",
    "version": 3
   },
   "file_extension": ".py",
   "mimetype": "text/x-python",
   "name": "python",
   "nbconvert_exporter": "python",
   "pygments_lexer": "ipython3",
   "version": "3.11.5"
  }
 },
 "nbformat": 4,
 "nbformat_minor": 5
}
