{
 "cells": [
  {
   "cell_type": "markdown",
   "id": "b806e581",
   "metadata": {},
   "source": [
    "### Opening and Reading Pdf"
   ]
  },
  {
   "cell_type": "code",
   "execution_count": 1,
   "id": "d1fdaaf2",
   "metadata": {},
   "outputs": [],
   "source": [
    "import PyPDF2\n",
    "import pprint"
   ]
  },
  {
   "cell_type": "code",
   "execution_count": 2,
   "id": "34158570",
   "metadata": {},
   "outputs": [],
   "source": [
    "pdf_path = 'EN-FINAL Table 9.pdf'\n",
    "pdf_txt = 'en-final-table9.txt'"
   ]
  },
  {
   "cell_type": "code",
   "execution_count": 3,
   "id": "f8faa7f9",
   "metadata": {
    "scrolled": true
   },
   "outputs": [
    {
     "name": "stdout",
     "output_type": "stream",
     "text": [
      "TABLE 9\n",
      "Afghanistan 10  11  10  15  40  37  –  –  –  –  90  74  75  74 Albania 12  14  9  0  10  99  –  –  –  36  30  75  78  71 Algeria 5 y 6 y 4 y 0  2  99  –  –  –  –  68  88  89  87 Andorra –   –  –  –  –  100 v –  –  –  –  –  –  –  – Angola 24 x 22 x 25 x –  –  36 x –  –  –  –  –  –  –  – Antigua and Barbuda –   –   –    –  –  –  –  –  –  –  –  –  –  – Argentina 7 y 8 y 5 y –  –  99 y –  –  –  –  –  –  –  – Armenia 4  5  3  0  7  100  –  –  –  20  9  70  72  67 Australia –   –   –    –  –  100 v –  –  –  –  –  –  –  – Austria –   –   –    –  –  100 v –  –  –  –  –  –  –  – Azerbaijan 7 y 8 y 5 y 1  12  94  –  –  –  58  49  75  79  71 Bahamas –   –   –    –  –  –  –  –  –  –  –  –  –  – Bahrain 5 x 6 x 3 x –  –  –  –  –  –  –  –  –  –  – Bangladesh 13    18    8    29  65  31  –  –  –  –  33 y –  –  – Barbados –   –   –    –  –  –  –  –  –  –  –  –  –  – Belarus 1    1    2    0  3  100 y –  –  –  4  4  65 y 67 y 62 y Belgium –   –   –    –  –  100 v –  –  –  –  –  –  –  – Belize 6    7    5    3  26  95  –  –  –  –  9  71  71  70 Benin 46    47    45    8  34  80  13  2 y 1  14  47  –  –  – Bhutan 3  3  3  6  26  100  –  –  –  –  68  –  –  – Bolivia (Plurinational    State of) 26 y 28 y 24 y 3  22  76 y –  –  –  –  16  –  –  – Bosnia and Herzegovina 5    7    4    0  4  100  –  –  –  6  5  55  60  50 Botswana 9 y 11 y 7 y –  –  72  –  –  –  –  –  –  –  – Brazil 9 y 11 y 6 y 11  36  93 y –  –  –  –  –  –  –  – Brunei Darussalam –   –   –    –  –  –  –  –  –  –  –  –  –  – Bulgaria –   –   –    –  –  100 v –  –  –  –  –  –  –  – Burkina Faso 39  42  36  10  52  77  76  13  9  34  44  83  84  82 Burundi 26    26    27    3  20  75  –  –  –  44  73  –  –  – Cabo Verde 3 x,y 4 x,y 3 x,y 3  18  91  –  –  –  16 y 17  –  –  – Cambodia 36 y 36 y 36 y 2  18  62  –  –  –  22 y 46 y –  –  – Cameroon 42    43    40    13  38  61  1  1 y 7  39  47  93  93  93 Canada –   –   –    –  –  100 v –  –  –  –  –  –  –  – Central African Republic  29    27    30    29  68  61  24  1  11  80 y 80  92  92  92 Chad 26    25    28    29  68  16  44  18 y 38  –  62  84  85  84 Chile 3 x 3 x 2 x –  –  100 y –  –  –  –  –  –  –  – China –   –   –    –  –  –  –  –  –  –  –  –  –  – Colombia 13 y 17 y 9 y 6  23  97  –  –  –  –  –  –  –  – Comoros 27 x 26 x 28 x –  –  88 x –  –  –  –  –  –  –  – Congo 25    24    25    7  33  91  –  –  –  –  76  –  –  –TABLE 9    CHILD PROTECTION\n",
      "Countries  and areasChild labour (%)+ 2005–2012* Child marriage (%) 2005–2012*Birth registration (%)\n",
      "+ 2005–2012*totalFemale genital mutilation/cutting (%)+ 2002–2012* Justification of  wife beating (%) 2005–2012* Violent discipline (%)\n",
      "+ 2005–2012* prevalenceattitudestotalmalefemalemarried by 15married by 18 women\n",
      "agirlsbsupport for the practice\n",
      "cmalefemaletotalmalefemale\n",
      "78      THE STATE OF THE WORLD’S CHILDREN 2014 IN NUMBERS\n",
      "79      THE STATE OF THE WORLD’S CHILDREN 2014 IN NUMBERS\n",
      "TABLE 9\n",
      "Cook Islands –   –   –    –  –  –  –  –  –  –  –  –  –  – Costa Rica 5 x 6 x 3 x –  –  –  –  –  –  –  –  –  –  – Côte d’Ivoire 26    25    28    10  33  65  38  10  14  42  48  91  91  91 Croatia –   –   –    –  –  –  –  –  –  –  –  –  –  – Cuba –   –   –    9  40  100 y –  –  –  –  –  –  –  – Cyprus –   –   –    –  –  100 v –  –  –  –  –  –  –  – Czech Republic –   –   –    –  –  100 v –  –  –  –  –  –  –  – Democratic People’s    Republic of Korea –   –   –    –  –  100  –  –  –  –  –  –  –  – Democratic Republic    of the Congo 15    13    17    9  39  28  –  –  –  –  76  92  92  91 Denmark –   –   –    –  –  100 v –  –  –  –  –  –  –  – Djibouti 8    8    8    2  5  92  93  49 y 37  –  –  72  73  71 Dominica –   –   –    –  –  –  –  –  –  –  –  –  –  – Dominican Republic 13    18    8    12  41  82  –  –  –  –  4  67  69  65 Ecuador 8    7    8    4 x 22 x 90  –  –  –  –  –  –  –  – Egypt 9 y 14 y 4 y 2  17  99 y 91  17  54  –  39 y 91  92  90 El Salvador 10 y –  –  5  25  99  –  –  –  –  –  –  –  – Equatorial Guinea 28 x 28 x 28 x –  –  37 x –  –  –  –  –  –  –  – Eritrea –   –   –    20 x 47 x –  89  63 y 49  –  71 x –  –  – Estonia –   –   –    –  –  100 v –  –  –  –  –  –  –  – Ethiopia 27  31  24  16  41  7  74  24  31  45  68  –  –  – Fiji –   –   –    –  –  –  –  –  –  –  –  72 y –  – Finland –   –   –    –  –  100 v –  –  –  –  –  –  –  – France –   –   –    –  –  100 v –  –  –  –  –  –  –  – Gabon 13   15   12    6  22  90  –  –  –  40  50  –  –  – Gambia 19    21    18    7  36  53  76  56  64  –  75  90  90  91 Georgia 18    20    17    1  14  99  –  –  –  –  7  67  70  63 Germany –   –   –    –  –  100 v –  –  –  –  –  –  –  – Ghana 34    34    34    5  21  63  4  1  2  26 y 44  94  94  94 Greece –   –   –    –  –  100 v –  –  –  –  –  –  –  – Grenada –   –   –    –  –  –  –  –  –  –  –  –  –  – Guatemala 26 y 35 y 16 y 7  30  97  –  –  –  –  –  –  –  – Guinea 40 y 40 y 40 y 20  63  43  96  57 y 69  –  86  –  –  – Guinea-Bissau 38    40    36    7  22  24  50  39 y 34  –  40 y 82  82  81 Guyana 16    17    16    6  23  88  –  –  –  19  16  76  79  74 Haiti 24    25    24    3  18  80  –  –  –  15  17  86  87  85 Holy See –   –   –    –  –  –  –  –  –  –  –  –  –  – Honduras 16 x 16 x 15 x 8  34  94  –  –  –  10  12  –  –  – Hungary –   –   –    –  –  100 v –  –  –  –  –  –  –  –TABLE 9      CHILD PROTECTION>>\n",
      "Countries  and areasChild labour (%)+ 2005–2012* Child marriage (%) 2005–2012*Birth registration (%)\n",
      "+  2005–2012*totalFemale genital mutilation/cutting (%)+ 2002–2012* Justification of  wife beating (%) 2005–2012* Violent discipline (%)\n",
      "+ 2005–2012* prevalenceattitudestotalmalefemalemarried by 15married by 18 women\n",
      "agirlsbsupport for the practice\n",
      "cmalefemaletotalmalefemaleTABLE 9\n"
     ]
    }
   ],
   "source": [
    "#parsing the first two pages of the pdf and extracting their text\n",
    "with open(pdf_path, 'rb') as pdf_file:\n",
    "    reader = PyPDF2.PdfReader(pdf_file)\n",
    "    num_pages = len(reader.pages)\n",
    "\n",
    "    for page_number in range(2):\n",
    "        page = reader.pages[page_number]\n",
    "        text = page.extract_text()\n",
    "        print(text)"
   ]
  },
  {
   "cell_type": "code",
   "execution_count": 4,
   "id": "88f9c613",
   "metadata": {
    "scrolled": true
   },
   "outputs": [],
   "source": [
    "# run 'pip install pdfminer.six'\n",
    "import re\n",
    "from pdfminer.high_level import extract_pages, extract_text, extract_text_to_fp\n",
    "\n",
    "######### Extracting text #########\n",
    "text = extract_text(pdf_path)\n",
    "text = re.sub(r'\\n\\s*\\n', '\\n', text)\n",
    "lines = text.splitlines()\n",
    "for line in lines:\n",
    "    with open(pdf_txt, \"a\") as file:\n",
    "        file.write(line + '\\n')"
   ]
  },
  {
   "cell_type": "code",
   "execution_count": 5,
   "id": "a1414a2b",
   "metadata": {},
   "outputs": [],
   "source": [
    "def turn_on_off(line, status, start, end='\\n'):\n",
    "    \"\"\"\n",
    "        this function checks to see if a line starts/ends with a certain\n",
    "        value. If the line starts/ends with that value, the status is \n",
    "        set to on/off (True/False)\n",
    "    \"\"\"\n",
    "    if line.startswith(start):\n",
    "        status = True\n",
    "    elif status:\n",
    "        if line.strip() == end:\n",
    "            status = False\n",
    "    return status"
   ]
  },
  {
   "cell_type": "code",
   "execution_count": 6,
   "id": "27bd4645",
   "metadata": {},
   "outputs": [
    {
     "name": "stdout",
     "output_type": "stream",
     "text": [
      "{'Afghanistan\\n': '10\\n',\n",
      " 'Albania\\n': '37\\n',\n",
      " 'Algeria\\n': '74\\n',\n",
      " 'Andorra\\n': 'Female genital mutilation/cutting (%)+\\n',\n",
      " 'Angola\\n': '10\\n',\n",
      " 'Antigua and Barbuda\\n': '37\\n',\n",
      " 'Argentina\\n': '74\\n',\n",
      " 'Armenia\\n': 'Female genital mutilation/cutting (%)+\\n',\n",
      " 'Australia\\n': '10   \\n',\n",
      " 'Austria\\n': '37  \\n',\n",
      " 'Azerbaijan\\n': '74   \\n',\n",
      " 'Bahamas\\n': 'Female genital mutilation/cutting (%)+ \\n',\n",
      " 'Bahrain\\n': '10   \\n',\n",
      " 'Barbados\\n': '37  \\n',\n",
      " 'Belarus\\n': '74   \\n',\n",
      " 'Belgium\\n': 'Female genital mutilation/cutting (%)+ \\n',\n",
      " 'Belize\\n': '10   \\n',\n",
      " 'Benin\\n': '37  \\n',\n",
      " 'Bhutan\\n': '74   \\n',\n",
      " 'Bolivia (Plurinational\\n': 'Female genital mutilation/cutting (%)+ \\n'}\n"
     ]
    }
   ],
   "source": [
    "openfile = open(pdf_txt, 'r')\n",
    "\n",
    "countries = []\n",
    "totals = []\n",
    "country_line = total_line = False\n",
    "\n",
    "for line in openfile:\n",
    "    \n",
    "    if country_line:\n",
    "        countries.append(line)\n",
    "    elif total_line:\n",
    "        totals.append(line)\n",
    "        \n",
    "    country_line = turn_on_off(line, country_line, 'and areas', end = 'Congo')\n",
    "    total_line = turn_on_off(line, country_line, 'total', end = 'female')\n",
    "    \n",
    "test_data = dict(zip(countries, totals))\n",
    "pprint.pprint(test_data)"
   ]
  },
  {
   "cell_type": "code",
   "execution_count": null,
   "id": "02a05f8f",
   "metadata": {},
   "outputs": [],
   "source": []
  }
 ],
 "metadata": {
  "kernelspec": {
   "display_name": "data-wrangling",
   "language": "python",
   "name": "data-wrangling"
  },
  "language_info": {
   "codemirror_mode": {
    "name": "ipython",
    "version": 3
   },
   "file_extension": ".py",
   "mimetype": "text/x-python",
   "name": "python",
   "nbconvert_exporter": "python",
   "pygments_lexer": "ipython3",
   "version": "3.11.5"
  }
 },
 "nbformat": 4,
 "nbformat_minor": 5
}
