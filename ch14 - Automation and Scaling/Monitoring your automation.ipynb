{
 "cells": [
  {
   "cell_type": "markdown",
   "id": "fb5e7a5e",
   "metadata": {},
   "source": [
    "### python logging"
   ]
  },
  {
   "cell_type": "code",
   "execution_count": 3,
   "id": "4c14aba7",
   "metadata": {},
   "outputs": [],
   "source": [
    "import logging\n",
    "from datetime import datetime\n",
    "\n",
    "\n",
    "def start_logger():\n",
    "    log_file = f'daily_report_{datetime.now().strftime(\"%m%d%Y_%H%M%S\")}.log'\n",
    "    logging.basicConfig(filename=log_file,\n",
    "                        level=logging.DEBUG,\n",
    "                        format='%(asctime)s %(message)s',\n",
    "                        datefmt='%m-%d %H:%M:%S')\n",
    "\n",
    "def main():\n",
    "    start_logger()\n",
    "    logging.debug(\"SCRIPT: I'm starting to do things!\")\n",
    "\n",
    "    try:\n",
    "        20 / 0\n",
    "    except Exception:\n",
    "        logging.exception('SCRIPT: We had a problem!')\n",
    "        logging.error('SCRIPT: Issue with division in the main() function')\n",
    "\n",
    "    logging.debug('SCRIPT: About to wrap things up!')\n",
    "\n",
    "\n",
    "main()"
   ]
  },
  {
   "cell_type": "markdown",
   "id": "1dad22ba",
   "metadata": {},
   "source": [
    "### Adding Automated Messaging"
   ]
  },
  {
   "cell_type": "markdown",
   "id": "be6ba8cd",
   "metadata": {},
   "source": [
    "### Mail"
   ]
  },
  {
   "cell_type": "code",
   "execution_count": 4,
   "id": "9cb412d0",
   "metadata": {},
   "outputs": [],
   "source": [
    "import smtplib\n",
    "from email.mime.multipart import MIMEMultipart\n",
    "from email.mime.base import MIMEBase\n",
    "from email.mime.text import MIMEText\n",
    "from email import encoders\n",
    "import os\n",
    "import configparser\n",
    "\n",
    "def get_config(env):\n",
    "    config = configparser.ConfigParser()\n",
    "    if env == \"DEV\":\n",
    "        config.read(['config/development.cfg'])\n",
    "    elif env == \"PROD\":\n",
    "        config.read(['config/production.cfg'])\n",
    "    return config\n",
    "\n",
    "def mail(to, subject, text, attach=None, config=None):\n",
    "    if not config:\n",
    "        config = get_config(\"DEV\")\n",
    "    msg = MIMEMultipart()\n",
    "    msg['From'] = config.get('email', 'user')\n",
    "    msg['To'] = \", \".join(to)\n",
    "    msg['Subject'] = subject\n",
    "    msg.attach(MIMEText(text))\n",
    "    if attach:\n",
    "        part = MIMEBase('application', 'octet-stream')\n",
    "        part.set_payload(open(attach, 'rb').read())\n",
    "        encoders.encode_base64(part)\n",
    "        part.add_header('Content-Disposition',\n",
    "                        'attachment; filename=\"%s\"' % os.path.basename(attach))\n",
    "        msg.attach(part)\n",
    "    mailServer = smtplib.SMTP(\"smtp.gmail.com\", 587)\n",
    "    mailServer.ehlo()\n",
    "    mailServer.starttls()\n",
    "    mailServer.ehlo()\n",
    "    mailServer.login(config.get('email', 'user'),\n",
    "                     config.get('email', 'password'))\n",
    "    mailServer.sendmail(config.get('email', 'user'), to, msg.as_string())\n",
    "    mailServer.close()\n",
    "\n",
    "def example():\n",
    "    mail(['listof@mydomain.com', 'emails@mydomain.com'],\n",
    "         \"Automate your life: sending emails\",\n",
    "         \"Why'd the elephant sit on the marshmallow?\",\n",
    "         attach=\"my_file.txt\")\n"
   ]
  },
  {
   "cell_type": "markdown",
   "id": "05f76455",
   "metadata": {},
   "source": [
    "### SMS and voice"
   ]
  },
  {
   "cell_type": "code",
   "execution_count": 6,
   "id": "59132692",
   "metadata": {},
   "outputs": [],
   "source": [
    "from twilio.rest import Client\n",
    "import configparser\n",
    "\n",
    "def send_text(sender, recipient, text_message, config=None):\n",
    "    if not config:\n",
    "        config = configparser.ConfigParser()\n",
    "        config.read('config/development.cfg')\n",
    "\n",
    "    client = Client(config.get('twilio', 'account_sid'),\n",
    "                    config.get('twilio', 'auth_token'))\n",
    "    sms = client.messages.create(body=text_message,\n",
    "                                 to=recipient,\n",
    "                                 from_=sender)\n",
    "\n",
    "def example():\n",
    "    send_text(\"+11008675309\", \"+11088675309\", \"JENNY!!!!\")"
   ]
  },
  {
   "cell_type": "markdown",
   "id": "c7d7afb8",
   "metadata": {},
   "source": [
    "### Chat integration"
   ]
  },
  {
   "cell_type": "code",
   "execution_count": 9,
   "id": "402a9ac5",
   "metadata": {},
   "outputs": [],
   "source": [
    "from hypchat import HypChat\n",
    "\n",
    "def get_config(env):\n",
    "    config = configparser.ConfigParser()\n",
    "    if env == \"DEV\":\n",
    "        config.read(['config/development.cfg'])\n",
    "    elif env == \"PROD\":\n",
    "        config.read(['config/production.cfg'])\n",
    "    return config\n",
    "\n",
    "def get_client(config):\n",
    "    client = HypChat(config.get('hipchat', 'token'))\n",
    "    return client\n",
    "\n",
    "def message_room(client, room_name, message):\n",
    "    try:\n",
    "        room = client.get_room(room_name)\n",
    "        room.message(message)\n",
    "    except Exception as e:\n",
    "        print(e)\n",
    "\n",
    "def main():\n",
    "    config = get_config('DEV')\n",
    "    client = get_client(config)\n",
    "    message_room(client, 'My Favorite Room', \"I'M A ROBOT!\")"
   ]
  }
 ],
 "metadata": {
  "kernelspec": {
   "display_name": "data-wrangling",
   "language": "python",
   "name": "data-wrangling"
  },
  "language_info": {
   "codemirror_mode": {
    "name": "ipython",
    "version": 3
   },
   "file_extension": ".py",
   "mimetype": "text/x-python",
   "name": "python",
   "nbconvert_exporter": "python",
   "pygments_lexer": "ipython3",
   "version": "3.11.5"
  }
 },
 "nbformat": 4,
 "nbformat_minor": 5
}
