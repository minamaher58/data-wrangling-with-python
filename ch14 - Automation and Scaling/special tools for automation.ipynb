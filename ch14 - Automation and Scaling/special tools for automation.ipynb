{
 "cells": [
  {
   "cell_type": "markdown",
   "id": "bbcd4e9d",
   "metadata": {},
   "source": [
    "### Using Local Files"
   ]
  },
  {
   "cell_type": "code",
   "execution_count": 1,
   "id": "0b70449a",
   "metadata": {},
   "outputs": [],
   "source": [
    "from csv import reader, writer"
   ]
  },
  {
   "cell_type": "code",
   "execution_count": 2,
   "id": "1b0715c3",
   "metadata": {},
   "outputs": [],
   "source": [
    "def read_local_file(file_name):\n",
    "    if '.csv' in file_name:\n",
    "        rdr = reader(open(file_name, 'rb'))\n",
    "        return rdr\n",
    "    return open(file_name, 'rb')\n",
    "\n",
    "def write_local_file(file_name, data):\n",
    "    with open(file_name, 'wb') as open_file:\n",
    "        if type(data) is list:\n",
    "            wr = writer(open_file)\n",
    "            for line in data:\n",
    "                wr.writerow(line)\n",
    "        else:\n",
    "            open_file.write(data)"
   ]
  },
  {
   "cell_type": "code",
   "execution_count": 3,
   "id": "cd0766a8",
   "metadata": {},
   "outputs": [],
   "source": [
    "# an example where we need the most recent file in a directory.\n",
    "import os\n",
    "\n",
    "def get_latest(folder):\n",
    "    files = [os.path.join(folder, f) for f in os.listdir(folder)]\n",
    "    files.sort(key=lambda x:os.path.getmtime(x), reverse = True)\n",
    "    return files[0]"
   ]
  },
  {
   "cell_type": "code",
   "execution_count": 4,
   "id": "d8086fcd",
   "metadata": {},
   "outputs": [],
   "source": [
    "# parsing config file\n",
    "import configparser\n",
    "\n",
    "def get_config(env):\n",
    "    config = configparser.ConfigParser()\n",
    "    if env == 'PROD':\n",
    "        return config.read(['config/production.cfg'])\n",
    "    elif env == 'TEST':\n",
    "        return config.read(['config/test.cfg']) \n",
    "    return config.read(['config/development.cfg'])"
   ]
  },
  {
   "cell_type": "code",
   "execution_count": 5,
   "id": "dd49a657",
   "metadata": {},
   "outputs": [],
   "source": [
    "# from some_api import get_client\n",
    "\n",
    "def api_login():\n",
    "    config = get_config('PROD')\n",
    "    my_client = get_client(config.get('api_login', 'user'), config.get('api_login', 'auth_key'))\n",
    "    return my_client"
   ]
  },
  {
   "cell_type": "code",
   "execution_count": 6,
   "id": "e8459dec",
   "metadata": {},
   "outputs": [
    {
     "data": {
      "text/plain": [
       "[]"
      ]
     },
     "execution_count": 6,
     "metadata": {},
     "output_type": "execute_result"
    }
   ],
   "source": [
    "# parsing the list of info \n",
    "config = configparser.ConfigParser()\n",
    "config.read(['config/email.cfg', 'config/database.cfh', 'config/staging.cfg'])"
   ]
  },
  {
   "cell_type": "markdown",
   "id": "54736d0b",
   "metadata": {},
   "source": [
    "### Command-line arguments"
   ]
  },
  {
   "cell_type": "code",
   "execution_count": 7,
   "id": "628635b1",
   "metadata": {},
   "outputs": [],
   "source": [
    "# python my_script.py DEV"
   ]
  },
  {
   "cell_type": "code",
   "execution_count": 8,
   "id": "95f151aa",
   "metadata": {},
   "outputs": [],
   "source": [
    "# from import_config import get_config\n",
    "import sys"
   ]
  },
  {
   "cell_type": "code",
   "execution_count": 9,
   "id": "8c2575ac",
   "metadata": {},
   "outputs": [
    {
     "ename": "TypeError",
     "evalue": "'list' object is not callable",
     "output_type": "error",
     "traceback": [
      "\u001b[1;31m-----------------------------------------------------\u001b[0m",
      "\u001b[1;31mTypeError\u001b[0m           Traceback (most recent call last)",
      "Cell \u001b[1;32mIn[9], line 7\u001b[0m\n\u001b[0;32m      5\u001b[0m \u001b[38;5;28;01mif\u001b[39;00m \u001b[38;5;18m__name__\u001b[39m \u001b[38;5;241m==\u001b[39m \u001b[38;5;124m'\u001b[39m\u001b[38;5;124m__main__\u001b[39m\u001b[38;5;124m'\u001b[39m:\n\u001b[0;32m      6\u001b[0m     \u001b[38;5;28;01mif\u001b[39;00m \u001b[38;5;28mlen\u001b[39m(sys\u001b[38;5;241m.\u001b[39margv) \u001b[38;5;241m>\u001b[39m \u001b[38;5;241m1\u001b[39m:\n\u001b[1;32m----> 7\u001b[0m         env \u001b[38;5;241m=\u001b[39m sys\u001b[38;5;241m.\u001b[39margv(\u001b[38;5;241m1\u001b[39m)\n\u001b[0;32m      8\u001b[0m     \u001b[38;5;28;01melse\u001b[39;00m:\n\u001b[0;32m      9\u001b[0m         env \u001b[38;5;241m=\u001b[39m \u001b[38;5;124m'\u001b[39m\u001b[38;5;124mTEST\u001b[39m\u001b[38;5;124m'\u001b[39m\n",
      "\u001b[1;31mTypeError\u001b[0m: 'list' object is not callable"
     ]
    }
   ],
   "source": [
    "def main(env):\n",
    "    config = get_config(env)\n",
    "    print(config)\n",
    "    \n",
    "if __name__ == '__main__':\n",
    "    if len(sys.argv) > 1:\n",
    "        env = sys.argv(1)\n",
    "    else:\n",
    "        env = 'TEST'\n",
    "    main(env)"
   ]
  },
  {
   "cell_type": "markdown",
   "id": "b81a2aad",
   "metadata": {},
   "source": [
    "### Using Parallel Processing"
   ]
  },
  {
   "cell_type": "code",
   "execution_count": 25,
   "id": "eb02ad22",
   "metadata": {},
   "outputs": [
    {
     "name": "stdout",
     "output_type": "stream",
     "text": [
      "[]\n"
     ]
    }
   ],
   "source": [
    "from multiprocessing import Process, Manager\n",
    "import requests\n",
    "\n",
    "ALL_URLS = [\n",
    "    'google.com', 'bing.com', 'yahoo.com',\n",
    "    'twitter.com', 'facebook.com', 'github.com',\n",
    "    'python.org'\n",
    "]\n",
    "\n",
    "def is_up_or_not(url, is_up, lock):\n",
    "    resp = requests.get(f'http://www.isup.me/{url}')\n",
    "    if 'is up.' in resp.content:\n",
    "        is_up.append(url)\n",
    "    else:\n",
    "        with lock:\n",
    "            print(f'HOLY CRAP {url} is down!!!!!')\n",
    "\n",
    "\n",
    "def get_procs(is_up, lock):\n",
    "    procs = []\n",
    "    for url in ALL_URLS:\n",
    "        procs.append(Process(target=is_up_or_not,\n",
    "                             args=(url, is_up, lock)))\n",
    "    return procs\n",
    "\n",
    "\n",
    "def main():\n",
    "    manager = Manager()\n",
    "    is_up = manager.list()\n",
    "    lock = manager.Lock()\n",
    "    for p in get_procs(is_up, lock):\n",
    "        p.start()\n",
    "        p.join()\n",
    "    print(is_up)\n",
    "\n",
    "\n",
    "main()"
   ]
  }
 ],
 "metadata": {
  "kernelspec": {
   "display_name": "data-wrangling",
   "language": "python",
   "name": "data-wrangling"
  },
  "language_info": {
   "codemirror_mode": {
    "name": "ipython",
    "version": 3
   },
   "file_extension": ".py",
   "mimetype": "text/x-python",
   "name": "python",
   "nbconvert_exporter": "python",
   "pygments_lexer": "ipython3",
   "version": "3.11.5"
  }
 },
 "nbformat": 4,
 "nbformat_minor": 5
}
