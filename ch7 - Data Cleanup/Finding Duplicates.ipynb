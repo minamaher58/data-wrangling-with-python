{
 "cells": [
  {
   "cell_type": "code",
   "execution_count": 98,
   "id": "82ff1283",
   "metadata": {},
   "outputs": [],
   "source": [
    "from datetime import datetime\n",
    "from csv import reader\n",
    "import pandas as pd\n",
    "import pickle\n",
    "import pprint"
   ]
  },
  {
   "cell_type": "code",
   "execution_count": 99,
   "id": "2f0d4fc1",
   "metadata": {},
   "outputs": [],
   "source": [
    "# Load the list from the file\n",
    "def load_zipped_data():\n",
    "    with open('zipped_data.pkl', 'rb') as file:\n",
    "        zipped_data = pickle.load(file)\n",
    "        return zipped_data"
   ]
  },
  {
   "cell_type": "code",
   "execution_count": 100,
   "id": "b3c3db85",
   "metadata": {},
   "outputs": [
    {
     "name": "stdout",
     "output_type": "stream",
     "text": [
      "{1, 2, 3, 5, 6, 7, 8, 9}\n"
     ]
    }
   ],
   "source": [
    "# identify uniques in the built-in library\n",
    "list_with_dupes = [1, 5, 6, 2, 5, 6, 8, 3, 8, 3, 3, 7, 9]\n",
    "set_without_dupes = set(list_with_dupes)\n",
    "print(set_without_dupes)"
   ]
  },
  {
   "cell_type": "code",
   "execution_count": 101,
   "id": "00bbe507",
   "metadata": {},
   "outputs": [
    {
     "name": "stdout",
     "output_type": "stream",
     "text": [
      "{1, 2, 3, 321, 5, 6, 7, 9, 10, 654, 432, 54} {0, 4, 6, 7, 9, 432}\n",
      "{432, 9, 6, 7}\n",
      "{0, 1, 2, 3, 321, 5, 6, 7, 4, 9, 10, 654, 432, 54}\n",
      "{321, 1, 2, 3, 5, 10, 654, 54}\n",
      "{0, 4}\n",
      "True\n",
      "False\n"
     ]
    }
   ],
   "source": [
    "first_set = set([1, 5, 6, 2, 6, 3, 6, 7, 3, 7, 9, 10, 321, 54, 654, 432])\n",
    "second_set = set([4, 6, 7, 432, 6, 7, 4, 9, 0])\n",
    "\n",
    "print(first_set, second_set)\n",
    "print(first_set.intersection(second_set))\n",
    "print(first_set.union(second_set))\n",
    "print(first_set.difference(second_set))\n",
    "print(second_set - first_set)\n",
    "print(6 in second_set)\n",
    "print(0 in first_set)"
   ]
  },
  {
   "cell_type": "code",
   "execution_count": 102,
   "id": "f6148cce",
   "metadata": {},
   "outputs": [
    {
     "name": "stdout",
     "output_type": "stream",
     "text": [
      "(array([1, 2, 3, 5, 6, 7, 8, 9]), array([ 0,  3,  7,  1,  2, 11,  6, 12], dtype=int64))\n",
      "[ 1  2  3  4  5  6  7  8  9 11 23]\n"
     ]
    }
   ],
   "source": [
    "import numpy as np\n",
    "\n",
    "list_with_dupes = [1, 5, 6, 2, 5, 6, 8, 3, 8, 3, 3, 7, 9]\n",
    "print(np.unique(list_with_dupes, return_index=True))\n",
    "\n",
    "array_with_dupes = np.array([[1, 5, 7, 3, 9, 11, 23], [2, 4, 6, 8, 2, 8, 4]])\n",
    "print(np.unique(array_with_dupes))"
   ]
  },
  {
   "cell_type": "code",
   "execution_count": 143,
   "id": "2c7838d4",
   "metadata": {},
   "outputs": [
    {
     "name": "stdout",
     "output_type": "stream",
     "text": [
      "(['HH1', 'Cluster number', ''], '1')\n",
      "(['HH2', 'Household number', ''], '17')\n",
      "(['LN', 'Line number', ''], '1')\n",
      "(['MWM1', 'Cluster number', ''], '1')\n",
      "(['MWM2', 'Household number', ''], '17')\n",
      "(['MWM4', \"Man's line number\", ''], '1')\n",
      "(['MWM5', 'Interviewer number', ''], '14')\n",
      "(['MWM6D', 'Day of interview', ''], '7')\n",
      "(['MWM6M', 'Month of interview', ''], '4')\n",
      "(['MWM6Y', 'Year of interview', ''], '2014')\n",
      "(['MWM7', \"Result of man's interview\", ''], 'Completed')\n",
      "(['MWM8', 'Field editor', ''], '2')\n",
      "(['MWM9', 'Data entry clerk', ''], '20')\n",
      "(['MWM10H', 'Start of interview - Hour', ''], '17')\n",
      "(['MWM10M', 'Start of interview - Minutes', ''], '59')\n",
      "(['MWM11H', 'End of interview - Hour', ''], '18')\n",
      "(['MWM11M', 'End of interview - Minutes', ''], '7')\n",
      "(['MWB1M', 'Month of birth of man', 'In what month and year were you born?'], '5')\n",
      "(['MWB1Y', 'Year of birth of man', 'In what month and year were you born?'], '1984')\n",
      "(['MWB2', 'Age of man', 'How old are you?'], '29')\n",
      "(['MWB3', 'Ever attended school', 'Have you ever attended school or a preschool institution?'], 'Yes')\n",
      "(['MWB4', 'Highest level of school attended', 'What is the highest education level you attended?'], 'Higher')\n",
      "(['MWB5', 'Highest grade completed at that level', 'What is the highest grade/year you completed at that level?'], '31')\n",
      "(['MWB7', 'Can read part of the sentence', 'Now I would like you to read this sentence to me.\\nShow the sentence on the card to the respondent. If the respondent cannot read the whole sentence, probe: Can you read part of the sentence to me?'], 'NA')\n",
      "(['MMT2', 'Frequency of reading newspaper or magazine', 'How often do you read a newspaper or magazine: Almost every day, at least once a week, less than once a week or not at all?'], 'Almost every day')\n",
      "(['MMT3', 'Frequency of listening to the radio', 'Do you listen to the radio almost every day, at least once a week, less than once a week or not at all?'], 'At least once a week')\n",
      "(['MMT4', 'Frequency of watching TV', 'How often do you watch television: Would you say that you watch TV almost every day, at least once a week, less than once a week or not at all?'], 'Less than once a week')\n",
      "(['MMT6', 'Ever used a computer', 'Have you ever used a computer?'], 'Yes')\n",
      "(['MMT7', 'Computer usage in the last 12 months', 'In the last 12 months, have you used a computer from any location?'], 'Yes')\n",
      "(['MMT8', 'Frequency of computer usage in the last month', 'During the last month, how often did you use a computer: almost every day, at least once a week, less than once a week or not at all?'], 'Almost every day')\n",
      "(['MMT9', 'Ever used internet', 'Have you ever used the internet?'], 'Yes')\n",
      "(['MMT10', 'Internet usage in the last 12 months', 'In the last 12 months, have you used the internet?'], 'Yes')\n",
      "(['MMT11', 'Frequency of Internet usage in the past month', 'During the last month, how often did you use the internet: almost every day, at least once a week, less than once a week or not at all?'], 'Almost every day')\n",
      "(['MMT12', 'Ever used a mobile or non-mobile phone', ''], 'Yes')\n",
      "(['MMT13', 'Mobile or non-mobile phone usage in the last 12 months', ''], 'Yes')\n",
      "(['MMT14', 'Frequency of mobile or non-mobile usage in the past month', ''], 'Almost every day')\n",
      "(['MCM1', 'Ever fathered any children with any women', 'Now i would like to ask about all the children you have had in your lifetime. I am interested in all of the children that are biologically yours, even if they are not legally yours or do not have your last name.\\nHave you had any biological children with any woman?'], 'No')\n",
      "(['MCM3', 'Age when first child was born', 'How old were you when your (first) child was born?'], 'NA')\n",
      "(['MCM4', 'Any sons or daughters living with you', 'Do you have any biological sons or daughters who are now living with you?'], 'NA')\n",
      "(['MCM5A', 'Sons living with you', 'How many sons live with you?'], 'NA')\n",
      "(['MCM5B', 'Daughters living with you', 'How many daughters live with you?'], 'NA')\n",
      "(['MCM6', 'Any sons or daughters not living with you', 'Do you have any biological sons or daughters who are alive but do not live with you?'], 'NA')\n",
      "(['MCM7A', 'Sons living elsewhere', 'How many sons are alive but do not live with you?'], 'NA')\n",
      "(['MCM7B', 'Daughters living elsewhere', 'How many daughters are alive but do not live with you?'], 'NA')\n",
      "(['MCM8', 'Ever had child who later died', 'Have you had a biological son or daughter who was born alive but later died?'], 'No')\n",
      "(['MCM9A', 'Boys dead', 'How many boys have died?'], 'NA')\n",
      "(['MCM9B', 'Girls dead', 'How many girls have died?'], 'NA')\n",
      "(['MCM10', 'Children ever born', ''], '0')\n",
      "(['MCM11A', 'Same biological mother', 'Did all the biological children you have, have the same biological mother?'], 'NA')\n",
      "(['MCM11B', 'Number of women respondent fathered children with', 'In all, how many women have you had biological children with?'], 'NA')\n",
      "(['MCM12M', 'Month of last birth', 'Of these (total number in MCM10) biological children, when was the last one born (even if he or she has died)?'], 'NA')\n",
      "(['MCM12Y', 'Year of last birth', 'Of these (total number in MCM10) biological children, when was the last one born (even if he or she has died)?'], 'NA')\n",
      "(['MDV1A', 'If she goes out with out telling husband: wife beating justified', 'Sometimes a husband becomes annoyed or gets angry at things that his wife does. In your opinion, is a husband justified in hitting or beating his wife in the following situations: [A] If she goes out without telling him?'], 'No')\n",
      "(['MDV1B', 'If she neglects the children: wife beating justified', 'Sometimes a husband becomes annoyed or gets angry at things that his wife does. In your opinion, is a husband justified in hitting or beating his wife in the following situations: [B] If she neglects the children?'], 'No')\n",
      "(['MDV1C', 'If she argues with husband: wife beating justified', 'Sometimes a husband becomes annoyed or gets angry at things that his wife does. In your opinion, is a husband justified in hitting or beating his wife in the following situations: [C] If she argues with him?'], 'No')\n",
      "(['MDV1D', 'If she refuses sex with husband: wife beating justified', 'Sometimes a husband becomes annoyed or gets angry at things that his wife does. In your opinion, is a husband justified in hitting or beating his wife in the following situations: [D] If she refuses to have sex with him?'], 'No')\n",
      "(['MDV1E', 'If she burns the food: wife beating justified', 'Sometimes a husband becomes annoyed or gets angry at things that his wife does. In your opinion, is a husband justified in hitting or beating his wife in the following situations: [E] If she burns the food?'], 'No')\n",
      "(['MDV1F', 'Is she commits infidelity: wife beating justified', 'Sometimes a husband becomes annoyed or gets angry at things that his wife does. In your opinion, is a husband justified in hitting or beating his wife in the following situations: [F] If she commits infedelity?'], 'No')\n",
      "(['MMA1', 'Currently married or living with a man', 'Are you currently married or living together with a woman as if married?'], 'Yes, currently married')\n",
      "(['MMA3', 'Haveing other wives or liveing with other women as if you are married', 'Do you have other wives or do you live with other women as if married?'], 'No (Only one)')\n",
      "(['MMA4', 'How many other wives / partners living with you', 'How many other wives or live-in partners do you have?'], 'NA')\n",
      "(['MMA5', 'Ever married or lived with a woman', 'Have you ever been married or lived together with a woman as if married?'], 'NA')\n",
      "(['MMA6', 'Marital status', 'What is your marital status now: are you widowed, divorced or separated?'], 'NA')\n",
      "(['MMA7', 'Married or lived with a woman once or more than once', 'Have you been married or lived with a woman only once or more than once?'], 'Only once')\n",
      "(['MMA8M', 'Month of first union', 'In what month and year did you first marry or start living with a woman as if married?'], '9')\n",
      "(['MMA8Y', 'Year of first union', 'In what month and year did you first marry or start living with a woman as if married?'], '2013')\n",
      "(['MMA9', 'Age at first union', 'How old were you when you started living with your first wife/partner?'], 'NA')\n",
      "(['MSB1', 'Age at first sexual intercourse', 'Now i would like to ask you some questions about sexual activity in order to get a better understanding of some important life issues.\\nThe information you provide will remain strictly confidential. How old were you when you had sexual intercourse for the very first time?'], '20')\n",
      "(['MSB2', 'Condom used during first sexual intercourse', 'The first time you had sexual intercourse, was a condom used?'], 'Yes')\n",
      "(['MSB3U', 'Time since last sexual intercourse (unit)', \"When was the last time you had sexual intercourse?\\nRecord 'years ago' only if last intercourse was one or more years ago. If 12 months or more the answer must be recorded in years.\"], 'Days ago')\n",
      "(['MSB3N', 'Time since last sexual intercourse (number)', \"When was the last time you had sexual intercourse?\\nRecord 'years ago' only if last intercourse was one or more years ago. If 12 months or more the answer must be recorded in years.\"], '0')\n",
      "(['MSB4', 'Condom used at last sexual intercourse', 'The last time you had sexual intercourse, was a condom used?'], 'No')\n",
      "(['MSB5', 'Relationship to last sexual partner', 'What was your relationship to the person you last had sexual intercourse with?'], 'Wife')\n",
      "(['MSB8', 'Sex with any other person in the last 12 month', 'Have you had sexual intercourse with any other person in the last 12 months?'], 'No')\n",
      "(['MSB9', 'Condom used with prior sexual partner', 'The last time you had sexual intercourse with this other person, was a condom used?'], 'NA')\n",
      "(['MSB10', 'Relationship to prior sexual partner', 'What was your relationship to this person?'], 'NA')\n",
      "(['MSB13', 'Sex with any other man in the last 12 months', 'In the last 12 months, have you had sexual intercourse with any other person, other than these two persons?'], 'NA')\n",
      "(['MSB14', 'Number of sex partners in last 12 months', 'In total, with how many different people have you had sexual intercourse in the last 12 months?'], 'NA')\n",
      "(['MSB15', 'Number of sex partners in lifetime', 'In total, with how many different people have you had sexual intercourse in your lifetime?'], '5')\n",
      "(['MHA1', 'Ever heard of AIDS', 'Now i would like to talk with you about something else.\\nHave you ever heard of the HIV virus or an illness called AIDS (or SIDA)?'], 'Yes')\n",
      "(['MHA2', 'Can avoid AIDS virus by having one uninfected partner', 'Can people reduce their chance of getting the virus that causes AIDS by having just one uninfected sex partner who has no other sex partners?'], 'Yes')\n",
      "(['MHA3', 'Can get AIDS virus through supernatural means', 'Can people get the virus that causes AIDS because of witchcraft or other supernatural means?'], 'No')\n",
      "(['MHA4', 'Can avoid AIDS virus by using a condom correctly every time', 'Can people reduce their chance of getting the virus that causes AIDS by using a condom every time they have sex?'], 'Yes')\n",
      "(['MHA5', 'Can get AIDS virus from mosquito bites', 'Can people get the virus that causes AIDS from mosquito bites?'], 'No')\n",
      "(['MHA6', 'Can get AIDS virus by sharing food with a person who has AIDS', 'Can people get the virus that causes AIDS by sharing food with a person who has AIDS?'], 'No')\n",
      "(['MHA7', 'Healthy-looking person may have AIDS virus', 'Is it possible for a healthy-looking person to have the virus that causes AIDS?'], 'Yes')\n",
      "(['MHA8A', 'AIDS virus from mother to child during pregnancy', 'Can the virus that causes AIDS be transmitted from a mother to her baby: [A] During pregnancy?'], 'DK')\n",
      "(['MHA8B', 'AIDS virus from mother to child during delivery', 'Can the virus that causes AIDS be transmitted from a mother to her baby: [B] During delivery?'], 'Yes')\n",
      "(['MHA8C', 'AIDS virus from mother to child through breastfeeding', 'Can the virus that causes AIDS be transmitted from a mother to her baby: [C] By breastfeeding?'], 'DK')\n",
      "(['MHA9', 'Should female teacher with AIDS virus be allowed to teach in school', 'In your opinion, if a female teacher has the virus that causes AIDS but is not sick, should she be allowed to continue teaching in school?'], 'Yes')\n",
      "(['MHA10', 'Would buy fresh vegetables from shopkeeper with AIDS virus', 'Would you buy fresh vegetables from a shopkeeper or salesperson if you knew that this person had the virus that causes AIDS?'], 'Yes')\n",
      "(['MHA11', 'If HH member became infected with AIDS virus, would want it to remain a secret', 'If a member of your family got infected with the virus that causes AIDS, would you want it to remain a secret?'], 'No')\n",
      "(['MHA12', 'Willing to care for person with AIDS in household', 'If a member of your family became sick with AIDS, would you be willing to care for him or her in your own household?'], 'Yes')\n",
      "(['MHA24', 'Ever been tested for AIDS virus', 'I don’t want to know the results, but have you ever been tested to see if you have the virus that causes AIDS?'], 'Yes')\n",
      "(['MHA25', 'Most recent time of testing for AIDS virus', 'When was the most recent time you were tested?'], 'Less than 12 months ago')\n",
      "(['MHA26', 'Received results of AIDS virus test', 'I don’t want to know the results, but did you get the results of this test?'], 'Yes')\n",
      "(['MHA27', 'Know a place to get AIDS virus test', 'Do you know of a place where people can go to get tested for the virus that causes AIDS?'], 'NA')\n",
      "(['MMC1', 'Respondent is circumcised', ''], 'No')\n",
      "(['MMC2', 'Age at circumcision', ''], 'NA')\n",
      "(['MMC3', 'Person performing circumcision', ''], 'NA')\n",
      "(['MMC4', 'Place of circumcision', ''], 'NA')\n",
      "(['MTA1', 'Ever tried cigarette smoking', 'Have you ever tried smoking cigarettes, even taking one or two puffs?'], 'No')\n",
      "(['MTA2', 'Age when cigarette was smoked for the first time', 'How old were you when you smoked an entire cigarette for the first time?'], 'NA')\n",
      "(['MTA3', 'Currently smoking cigarettes', 'Do you currently smoke cigarettes?'], 'NA')\n",
      "(['MTA4', 'Number of cigarettes smoked in the last 24 hours', 'How many cigarettes did you smoke during the last month?'], 'NA')\n",
      "(['MTA5', 'Number of days when cigarettes were smoked in past month', 'During the last month, on how many days did you smoke cigarettes?'], 'NA')\n",
      "(['MTA6', 'Ever tried any smoked tobacco products other than cigarettes', 'Have you ever tried any smoked tobacco products other than cigarettes, such as cigars (e.g. Cuban), a pipe or waterpipe (narghile/hookah)?'], 'No')\n",
      "(['MTA7', 'Used any smoked tobacco products during the last month', 'During the last month, did you use any smoked tobacco products?'], 'NA')\n",
      "(['MTA8A', 'Type of smoked tobacco product: Cigars', 'What type of smoked tobacco product did you use or smoke during the last month?'], 'NA')\n",
      "(['MTA8B', 'Type of smoked tobacco product: Water pipe', 'What type of smoked tobacco product did you use or smoke during the last month?'], 'NA')\n",
      "(['MTA8C', 'Type of smoked tobacco product: Cigarillos', 'What type of smoked tobacco product did you use or smoke during the last month?'], 'NA')\n",
      "(['MTA8D', 'Type of smoked tobacco product: Pipe', 'What type of smoked tobacco product did you use or smoke during the last month?'], 'NA')\n",
      "(['MTA8E', 'Type of smoked tomacco product: Rolled tobacco', ''], 'NA')\n",
      "(['MTA8X', 'Type of smoked tobacco product: Other', 'What type of smoked tobacco product did you use or smoke during the last month?'], 'NA')\n",
      "(['MTA9', 'Number of days when tobacco products where smoked in past month', 'On how many days did you use smoked tobacco products during the last month?'], 'NA')\n",
      "(['MTA10', 'Ever tried any form of smokeless tobacco products', 'Have you ever tried any form of smokeless tobacco products, such as chewing tobacco, tobacco for sniffing (snuff) or dipping tobacco?'], 'No')\n",
      "(['MTA11', 'Used any smokeless tobacco products during the last month', 'Did you use any smokeless tobacco products during the last month?'], 'NA')\n",
      "(['MTA12A', 'Type of smokeless tobacco product used: Chewing tobacco', 'What type of smokeless tobacco product did you use during the last month?'], 'NA')\n",
      "(['MTA12B', 'Type of smokeless tobacco product used: Snuff', 'What type of smokeless tobacco product did you use during the last month?'], 'NA')\n",
      "(['MTA12C', 'Type of smokeless tobacco product used: Dip', 'What type of smokeless tobacco product did you use during the last month?'], 'NA')\n",
      "(['MTA12X', 'Type of smokeless tobacco product used: Other', 'What type of smokeless tobacco product did you use during the last month?'], 'NA')\n",
      "(['MTA13', 'Number of days when smokeless tobacco products where used in past month', 'On how many days did you use smokeless tobacco products during the last month?'], 'NA')\n",
      "(['MTA14', 'Ever drunk alcohol', 'Now i would like to ask you some questions about drinking alcohol.\\nHave you ever drunk alcohol?'], 'Yes')\n",
      "(['MTA15', 'Age when alcohol was used for the first time', 'We count one drink of alcohol as one can or bottle of beer, one glass of wine, or one shot of strong drink.\\nHow old were you when you had your first drink of alcohol, not counting a few sips?'], '16')\n",
      "(['MTA16', 'Number of days when at least one drink of alcohol was used in past month', 'During the last month, on how many days did you have at least one drink of alcohol?'], '0')\n",
      "(['MTA17', 'Number of drinks usually consumed', 'In the last month, on those days that you drank alcohol, what is the number of drinks did you usually had?'], 'NA')\n",
      "(['TNLN', 'Net number', ''], 'NA')\n",
      "(['TN4', 'Mosquito net observed', ''], 'NA')\n",
      "(['TN5', 'Brand/type of observed net', ''], 'NA')\n",
      "(['TN6', 'Months ago net obtained', 'How many months ago did your household get the mosquito net?'], 'NA')\n",
      "(['TN8', 'Net treated with an insecticide when obtained', 'When you got the net, was it already treated with an insecticide to kill or repel mosquitoes?'], 'NA')\n",
      "(['TN9', 'Net soaked or dipped since obtained', 'Since you got the net, was it ever soaked or dipped in a liquid to kill or repel mosquitoes?'], 'NA')\n",
      "(['TN10', 'Months ago net soaked or dipped', 'How many months ago was the net last soaked or dipped?'], 'NA')\n",
      "(['TN11', 'Persons slept under mosquito net last night', 'Did anyone sleep under this mosquito net last night?'], 'NA')\n",
      "(['TN12_1', 'Person 1 who slept under net', 'Who slept under this mosquito net last night?'], 'NA')\n",
      "(['TN12_2', 'Person 2 who slept under net', 'Who slept under this mosquito net last night?'], 'NA')\n",
      "(['TN12_3', 'Person 3 who slept under net', 'Who slept under this mosquito net last night?'], 'NA')\n",
      "(['TN12_4', 'Person 4 who slept under net', 'Who slept under this mosquito net last night?'], 'NA')\n",
      "(['HH6', 'Area', ''], 'Urban')\n",
      "(['HH7', 'Region', ''], 'Bulawayo')\n",
      "(['MWDOI', 'Date of interview women (CMC)', ''], '1372')\n",
      "(['MWDOB', 'Date of birth of woman (CMC)', ''], '1013')\n",
      "(['MWAGE', 'Age', ''], '25-29')\n",
      "(['MWDOM', 'Date of marriage (CMC)', ''], '1365')\n",
      "(['MWAGEM', 'Age at first marriage/union', ''], '29')\n",
      "(['MWDOBLC', 'Date of birth of last child (CMC)', ''], 'NA')\n",
      "(['MMSTATUS', 'Marital/Union status', ''], 'Currently married/in union')\n",
      "(['MCEB', 'Children ever born', ''], '0')\n",
      "(['MCSURV', 'Children surviving', ''], '0')\n",
      "(['MCDEAD', 'Children dead', ''], '0')\n",
      "(['wscore', 'Wealth index score', ''], '1.60367010204171')\n",
      "(['windex5', 'Wealth index quintiles', ''], '5')\n"
     ]
    }
   ],
   "source": [
    "#the first five elements of each row have some presumably unique identifiers.\n",
    "# the cluster, household, and man's line numbers should create a unique combination.\n",
    "zipped_data = load_zipped_data()\n",
    "for i, x in enumerate(zipped_data[0]):\n",
    "    print(x)"
   ]
  },
  {
   "cell_type": "code",
   "execution_count": 154,
   "id": "b482eb6c",
   "metadata": {},
   "outputs": [
    {
     "name": "stdout",
     "output_type": "stream",
     "text": [
      "{'13', '1', '8', '12', '3', '9', '7', '15', '4', '16', '5', '6', '10', '2', '11'}\n"
     ]
    },
    {
     "ename": "KeyError",
     "evalue": "'1'",
     "output_type": "error",
     "traceback": [
      "\u001b[1;31m---------------------------------------------------------------------------\u001b[0m",
      "\u001b[1;31mKeyError\u001b[0m                                  Traceback (most recent call last)",
      "Cell \u001b[1;32mIn[154], line 16\u001b[0m\n\u001b[0;32m     14\u001b[0m \u001b[38;5;28;01mfor\u001b[39;00m i, row \u001b[38;5;129;01min\u001b[39;00m \u001b[38;5;28menumerate\u001b[39m(x):\n\u001b[0;32m     15\u001b[0m     \u001b[38;5;28;01mif\u001b[39;00m i \u001b[38;5;241m==\u001b[39m \u001b[38;5;241m2\u001b[39m:\n\u001b[1;32m---> 16\u001b[0m         \u001b[38;5;28;01mif\u001b[39;00m \u001b[38;5;129;01mnot\u001b[39;00m set_of_lines\u001b[38;5;241m.\u001b[39mremove(row[\u001b[38;5;241m1\u001b[39m]):\n\u001b[0;32m     17\u001b[0m             uniques\u001b[38;5;241m.\u001b[39mappend(x)\n\u001b[0;32m     18\u001b[0m             \u001b[38;5;28;01mbreak\u001b[39;00m\n",
      "\u001b[1;31mKeyError\u001b[0m: '1'"
     ]
    }
   ],
   "source": [
    "# let's see if the line numbers are unique\n",
    "set_of_lines = set()\n",
    "zipped_data = load_zipped_data()\n",
    "for x in zipped_data:\n",
    "    for i, row in enumerate(x):\n",
    "        if i == 2:\n",
    "            set_of_lines.add(row[1])\n",
    "            break\n",
    "print(set_of_lines)\n",
    "\n",
    "uniques = []\n",
    "zipped_data = load_zipped_data()\n",
    "for x in zipped_data:\n",
    "    for i, row in enumerate(x):\n",
    "        if i == 2:\n",
    "            if not set_of_lines.remove(row[1]):\n",
    "                uniques.append(x)\n",
    "                break\n",
    "\n",
    "print(set_of_lines)"
   ]
  },
  {
   "cell_type": "code",
   "execution_count": 157,
   "id": "f60d327c",
   "metadata": {},
   "outputs": [
    {
     "name": "stdout",
     "output_type": "stream",
     "text": [
      "set()\n"
     ]
    }
   ],
   "source": [
    "# let's see if a combination of the cluster, household, and line numbers creates a unique key.\n",
    "set_of_lines = set()\n",
    "zipped_data = load_zipped_data()\n",
    "for x in zipped_data:\n",
    "    unique_key = ''\n",
    "    for i, row in enumerate(x):\n",
    "        if i in [0, 1, 2]:\n",
    "            unique_key += str(row[1])+'-'\n",
    "    set_of_lines.add(unique_key[:-1])\n",
    "\n",
    "uniques = []\n",
    "zipped_data = load_zipped_data()\n",
    "for x in zipped_data:\n",
    "    unique_key = ''\n",
    "    for i, row in enumerate(x):\n",
    "        if i in [0, 1, 2]:\n",
    "            unique_key += str(row[1])+'-'\n",
    "    if not set_of_lines.remove(unique_key[:-1]):\n",
    "        uniques.append(x)\n",
    "        \n",
    "print(set_of_lines)"
   ]
  }
 ],
 "metadata": {
  "kernelspec": {
   "display_name": "data-wrangling",
   "language": "python",
   "name": "data-wrangling"
  },
  "language_info": {
   "codemirror_mode": {
    "name": "ipython",
    "version": 3
   },
   "file_extension": ".py",
   "mimetype": "text/x-python",
   "name": "python",
   "nbconvert_exporter": "python",
   "pygments_lexer": "ipython3",
   "version": "3.11.5"
  }
 },
 "nbformat": 4,
 "nbformat_minor": 5
}
