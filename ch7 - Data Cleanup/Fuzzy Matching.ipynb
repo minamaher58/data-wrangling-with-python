{
 "cells": [
  {
   "cell_type": "markdown",
   "id": "5db337d6",
   "metadata": {},
   "source": [
    "#### Fuzzy matching allows you to determine if two items(usually strings) are the same. while not as in depth as using natural language processing or machine learning to determine a match with big data-sets on language, fuzzy matching can help us relate \"My dog & I\" and \"me and my dog\" as having similar meaning."
   ]
  },
  {
   "cell_type": "code",
   "execution_count": 1,
   "id": "00174dbd",
   "metadata": {},
   "outputs": [
    {
     "name": "stderr",
     "output_type": "stream",
     "text": [
      "C:\\Users\\mina maher\\.conda\\envs\\data-wrangling\\Lib\\site-packages\\fuzzywuzzy\\fuzz.py:11: UserWarning: Using slow pure-python SequenceMatcher. Install python-Levenshtein to remove this warning\n",
      "  warnings.warn('Using slow pure-python SequenceMatcher. Install python-Levenshtein to remove this warning')\n"
     ]
    }
   ],
   "source": [
    "from fuzzywuzzy import fuzz"
   ]
  },
  {
   "cell_type": "code",
   "execution_count": 4,
   "id": "dd9ba359",
   "metadata": {},
   "outputs": [
    {
     "name": "stdout",
     "output_type": "stream",
     "text": [
      "88\n",
      "86\n",
      "86\n"
     ]
    }
   ],
   "source": [
    "my_records = [\n",
    "    {\n",
    "        'favorite_book' : 'Grapes of Wrath',\n",
    "        'favorite_movie' : 'Free Willie',\n",
    "        'favorite_show' : 'Two Broke Girls',\n",
    "    },\n",
    "    {\n",
    "        'favorite_book' : 'The Grapes of Wrath',\n",
    "        'favorite_movie' : 'Free Willy',\n",
    "        'favorite_show': '2 Broke Girls',\n",
    "    }\n",
    "]\n",
    "\n",
    "print(fuzz.ratio(my_records[0].get('favorite_book'), my_records[1].get('favorite_book')))\n",
    "print(fuzz.ratio(my_records[0].get('favorite_movie'), my_records[1].get('favorite_movie')))\n",
    "print(fuzz.ratio(my_records[0].get('favorite_show'), my_records[1].get('favorite_show')))"
   ]
  },
  {
   "cell_type": "code",
   "execution_count": 5,
   "id": "5b28415f",
   "metadata": {},
   "outputs": [
    {
     "name": "stdout",
     "output_type": "stream",
     "text": [
      "100\n",
      "90\n",
      "92\n"
     ]
    }
   ],
   "source": [
    "# let's try another Fuzzy Wuzzy method and see our results.\n",
    "print(fuzz.partial_ratio(my_records[0].get('favorite_book'), my_records[1].get('favorite_book')))\n",
    "print(fuzz.partial_ratio(my_records[0].get('favorite_movie'), my_records[1].get('favorite_movie')))      \n",
    "print(fuzz.partial_ratio(my_records[0].get('favorite_show'), my_records[1].get('favorite_show')))      "
   ]
  },
  {
   "cell_type": "code",
   "execution_count": 6,
   "id": "c09d2ecc",
   "metadata": {},
   "outputs": [
    {
     "name": "stdout",
     "output_type": "stream",
     "text": [
      "68\n",
      "100\n",
      "88\n"
     ]
    }
   ],
   "source": [
    "my_records = [\n",
    "    {\n",
    "        'favorite_food' : 'cheeseburgers with bacon',\n",
    "        'favorite_drink' : 'wine, beer, and tequila',\n",
    "        'favorite_dessert' : 'cheese or cake',\n",
    "    },\n",
    "    {\n",
    "        'favorite_food' : 'burgers with cheese and bacon',\n",
    "        'favorite_drink' : 'beer, wine, and tequila',\n",
    "        'favorite_dessert': 'cheese cake',\n",
    "    }\n",
    "]\n",
    "\n",
    "# here we use token_sort_ratio, which allows us to match strings despite word order.\n",
    "print(fuzz.token_sort_ratio(my_records[0].get('favorite_food'), my_records[1].get('favorite_food')))\n",
    "print(fuzz.token_sort_ratio(my_records[0].get('favorite_drink'), my_records[1].get('favorite_drink')))\n",
    "print(fuzz.token_sort_ratio(my_records[0].get('favorite_dessert'), my_records[1].get('favorite_dessert')))"
   ]
  },
  {
   "cell_type": "code",
   "execution_count": 7,
   "id": "b84139e3",
   "metadata": {},
   "outputs": [
    {
     "name": "stdout",
     "output_type": "stream",
     "text": [
      "68\n",
      "100\n",
      "100\n"
     ]
    }
   ],
   "source": [
    "print(fuzz.token_set_ratio(my_records[0].get('favorite_food'), my_records[1].get('favorite_food')))\n",
    "print(fuzz.token_set_ratio(my_records[0].get('favorite_drink'), my_records[1].get('favorite_drink')))\n",
    "print(fuzz.token_set_ratio(my_records[0].get('favorite_dessert'), my_records[1].get('favorite_dessert')))"
   ]
  },
  {
   "cell_type": "code",
   "execution_count": 14,
   "id": "219deef0",
   "metadata": {},
   "outputs": [
    {
     "data": {
      "text/plain": [
       "[('Yes', 45), ('Maybe', 45)]"
      ]
     },
     "execution_count": 14,
     "metadata": {},
     "output_type": "execute_result"
    }
   ],
   "source": [
    "from fuzzywuzzy import process\n",
    "\n",
    "choices = ['Yes', 'No', 'Maybe', 'N/A']\n",
    "process.extract('ya', choices, limit = 2)"
   ]
  },
  {
   "cell_type": "code",
   "execution_count": 15,
   "id": "2162c1d2",
   "metadata": {},
   "outputs": [
    {
     "data": {
      "text/plain": [
       "('Yes', 45)"
      ]
     },
     "execution_count": 15,
     "metadata": {},
     "output_type": "execute_result"
    }
   ],
   "source": [
    "process.extractOne('ya', choices)"
   ]
  },
  {
   "cell_type": "code",
   "execution_count": 16,
   "id": "55aa9e36",
   "metadata": {},
   "outputs": [
    {
     "data": {
      "text/plain": [
       "[('No', 90), ('Yes', 29)]"
      ]
     },
     "execution_count": 16,
     "metadata": {},
     "output_type": "execute_result"
    }
   ],
   "source": [
    "process.extract('nope', choices, limit = 2)\n"
   ]
  },
  {
   "cell_type": "code",
   "execution_count": 17,
   "id": "57e9d4c8",
   "metadata": {},
   "outputs": [
    {
     "data": {
      "text/plain": [
       "('No', 90)"
      ]
     },
     "execution_count": 17,
     "metadata": {},
     "output_type": "execute_result"
    }
   ],
   "source": [
    "process.extractOne('nope', choices)"
   ]
  }
 ],
 "metadata": {
  "kernelspec": {
   "display_name": "data-wrangling",
   "language": "python",
   "name": "data-wrangling"
  },
  "language_info": {
   "codemirror_mode": {
    "name": "ipython",
    "version": 3
   },
   "file_extension": ".py",
   "mimetype": "text/x-python",
   "name": "python",
   "nbconvert_exporter": "python",
   "pygments_lexer": "ipython3",
   "version": "3.11.5"
  }
 },
 "nbformat": 4,
 "nbformat_minor": 5
}
