{
 "cells": [
  {
   "cell_type": "markdown",
   "id": "4de132b3",
   "metadata": {},
   "source": [
    "## Fixing the label problem"
   ]
  },
  {
   "cell_type": "markdown",
   "id": "d144982b",
   "metadata": {},
   "source": [
    "### 1st way"
   ]
  },
  {
   "cell_type": "code",
   "execution_count": 15,
   "id": "69b0de7a",
   "metadata": {},
   "outputs": [],
   "source": [
    "from csv import DictReader"
   ]
  },
  {
   "cell_type": "code",
   "execution_count": 16,
   "id": "937a19bf",
   "metadata": {},
   "outputs": [],
   "source": [
    "data_rdr = DictReader(open('mn.csv', 'r', encoding='utf-8'))\n",
    "header_rdr = DictReader(open('mn_headers.csv', 'r', encoding='utf-8'))"
   ]
  },
  {
   "cell_type": "code",
   "execution_count": 17,
   "id": "a262a008",
   "metadata": {},
   "outputs": [],
   "source": [
    "data_rows = [d for d in data_rdr]\n",
    "header_rows = [h for h in header_rdr]"
   ]
  },
  {
   "cell_type": "code",
   "execution_count": 18,
   "id": "a07d54cc",
   "metadata": {},
   "outputs": [
    {
     "name": "stdout",
     "output_type": "stream",
     "text": [
      "[{'': '1', 'HH1': '1', 'HH2': '17', 'LN': '1', 'MWM1': '1', 'MWM2': '17', 'MWM4': '1', 'MWM5': '14', 'MWM6D': '7', 'MWM6M': '4', 'MWM6Y': '2014', 'MWM7': 'Completed', 'MWM8': '2', 'MWM9': '20', 'MWM10H': '17', 'MWM10M': '59', 'MWM11H': '18', 'MWM11M': '7', 'MWB1M': '5', 'MWB1Y': '1984', 'MWB2': '29', 'MWB3': 'Yes', 'MWB4': 'Higher', 'MWB5': '31', 'MWB7': 'NA', 'MMT2': 'Almost every day', 'MMT3': 'At least once a week', 'MMT4': 'Less than once a week', 'MMT6': 'Yes', 'MMT7': 'Yes', 'MMT8': 'Almost every day', 'MMT9': 'Yes', 'MMT10': 'Yes', 'MMT11': 'Almost every day', 'MMT12': 'Yes', 'MMT13': 'Yes', 'MMT14': 'Almost every day', 'MCM1': 'No', 'MCM3': 'NA', 'MCM4': 'NA', 'MCM5A': 'NA', 'MCM5B': 'NA', 'MCM6': 'NA', 'MCM7A': 'NA', 'MCM7B': 'NA', 'MCM8': 'No', 'MCM9A': 'NA', 'MCM9B': 'NA', 'MCM10': '0', 'MCM11A': 'NA', 'MCM11B': 'NA', 'MCM12M': 'NA', 'MCM12Y': 'NA', 'MDV1A': 'No', 'MDV1B': 'No', 'MDV1C': 'No', 'MDV1D': 'No', 'MDV1E': 'No', 'MDV1F': 'No', 'MMA1': 'Yes, currently married', 'MMA3': 'No (Only one)', 'MMA4': 'NA', 'MMA5': 'NA', 'MMA6': 'NA', 'MMA7': 'Only once', 'MMA8M': '9', 'MMA8Y': '2013', 'MMA9': 'NA', 'MSB1': '20', 'MSB2': 'Yes', 'MSB3U': 'Days ago', 'MSB3N': '0', 'MSB4': 'No', 'MSB5': 'Wife', 'MSB8': 'No', 'MSB9': 'NA', 'MSB10': 'NA', 'MSB13': 'NA', 'MSB14': 'NA', 'MSB15': '5', 'MHA1': 'Yes', 'MHA2': 'Yes', 'MHA3': 'No', 'MHA4': 'Yes', 'MHA5': 'No', 'MHA6': 'No', 'MHA7': 'Yes', 'MHA8A': 'DK', 'MHA8B': 'Yes', 'MHA8C': 'DK', 'MHA9': 'Yes', 'MHA10': 'Yes', 'MHA11': 'No', 'MHA12': 'Yes', 'MHA24': 'Yes', 'MHA25': 'Less than 12 months ago', 'MHA26': 'Yes', 'MHA27': 'NA', 'MMC1': 'No', 'MMC2': 'NA', 'MMC3': 'NA', 'MMC4': 'NA', 'MTA1': 'No', 'MTA2': 'NA', 'MTA3': 'NA', 'MTA4': 'NA', 'MTA5': 'NA', 'MTA6': 'No', 'MTA7': 'NA', 'MTA8A': 'NA', 'MTA8B': 'NA', 'MTA8C': 'NA', 'MTA8D': 'NA', 'MTA8E': 'NA', 'MTA8X': 'NA', 'MTA9': 'NA', 'MTA10': 'No', 'MTA11': 'NA', 'MTA12A': 'NA', 'MTA12B': 'NA', 'MTA12C': 'NA', 'MTA12X': 'NA', 'MTA13': 'NA', 'MTA14': 'Yes', 'MTA15': '16', 'MTA16': '0', 'MTA17': 'NA', 'TNLN': 'NA', 'TN4': 'NA', 'TN5': 'NA', 'TN6': 'NA', 'TN8': 'NA', 'TN9': 'NA', 'TN10': 'NA', 'TN11': 'NA', 'TN12_1': 'NA', 'TN12_2': 'NA', 'TN12_3': 'NA', 'TN12_4': 'NA', 'HH6': 'Urban', 'HH7': 'Bulawayo', 'MWDOI': '1372', 'MWDOB': '1013', 'MWAGE': '25-29', 'MWDOM': '1365', 'MWAGEM': '29', 'MWDOBLC': 'NA', 'MMSTATUS': 'Currently married/in union', 'MCEB': '0', 'MCSURV': '0', 'MCDEAD': '0', 'mwelevel': 'Higher', 'mnweight': '0.403797141860459', 'wscore': '1.60367010204171', 'windex5': '5', 'wscoreu': '1.27255184167736', 'windex5u': '5', 'wscorer': 'NA', 'windex5r': 'NA'}, {'': '2', 'HH1': '1', 'HH2': '20', 'LN': '1', 'MWM1': '1', 'MWM2': '20', 'MWM4': '1', 'MWM5': '14', 'MWM6D': '7', 'MWM6M': '4', 'MWM6Y': '2014', 'MWM7': 'Completed', 'MWM8': '2', 'MWM9': '20', 'MWM10H': '17', 'MWM10M': '32', 'MWM11H': '17', 'MWM11M': '42', 'MWB1M': '5', 'MWB1Y': '1976', 'MWB2': '37', 'MWB3': 'Yes', 'MWB4': 'Higher', 'MWB5': '31', 'MWB7': 'NA', 'MMT2': 'At least once a week', 'MMT3': 'Not at all', 'MMT4': 'Almost every day', 'MMT6': 'Yes', 'MMT7': 'Yes', 'MMT8': 'Almost every day', 'MMT9': 'Yes', 'MMT10': 'Yes', 'MMT11': 'Almost every day', 'MMT12': 'Yes', 'MMT13': 'Yes', 'MMT14': 'Almost every day', 'MCM1': 'No', 'MCM3': 'NA', 'MCM4': 'NA', 'MCM5A': 'NA', 'MCM5B': 'NA', 'MCM6': 'NA', 'MCM7A': 'NA', 'MCM7B': 'NA', 'MCM8': 'No', 'MCM9A': 'NA', 'MCM9B': 'NA', 'MCM10': '0', 'MCM11A': 'NA', 'MCM11B': 'NA', 'MCM12M': 'NA', 'MCM12Y': 'NA', 'MDV1A': 'No', 'MDV1B': 'No', 'MDV1C': 'No', 'MDV1D': 'No', 'MDV1E': 'No', 'MDV1F': 'No', 'MMA1': 'Yes, currently married', 'MMA3': 'No (Only one)', 'MMA4': 'NA', 'MMA5': 'NA', 'MMA6': 'NA', 'MMA7': 'Only once', 'MMA8M': '2', 'MMA8Y': '2014', 'MMA9': 'NA', 'MSB1': '37', 'MSB2': 'No', 'MSB3U': 'Days ago', 'MSB3N': '0', 'MSB4': 'No', 'MSB5': 'Wife', 'MSB8': 'No', 'MSB9': 'NA', 'MSB10': 'NA', 'MSB13': 'NA', 'MSB14': 'NA', 'MSB15': '1', 'MHA1': 'Yes', 'MHA2': 'Yes', 'MHA3': 'No', 'MHA4': 'Yes', 'MHA5': 'No', 'MHA6': 'No', 'MHA7': 'Yes', 'MHA8A': 'No', 'MHA8B': 'Yes', 'MHA8C': 'Yes', 'MHA9': 'Yes', 'MHA10': 'Yes', 'MHA11': 'Yes', 'MHA12': 'No', 'MHA24': 'Yes', 'MHA25': 'Less than 12 months ago', 'MHA26': 'Yes', 'MHA27': 'NA', 'MMC1': 'No', 'MMC2': 'NA', 'MMC3': 'NA', 'MMC4': 'NA', 'MTA1': 'No', 'MTA2': 'NA', 'MTA3': 'NA', 'MTA4': 'NA', 'MTA5': 'NA', 'MTA6': 'No', 'MTA7': 'NA', 'MTA8A': 'NA', 'MTA8B': 'NA', 'MTA8C': 'NA', 'MTA8D': 'NA', 'MTA8E': 'NA', 'MTA8X': 'NA', 'MTA9': 'NA', 'MTA10': 'No', 'MTA11': 'NA', 'MTA12A': 'NA', 'MTA12B': 'NA', 'MTA12C': 'NA', 'MTA12X': 'NA', 'MTA13': 'NA', 'MTA14': 'No', 'MTA15': 'NA', 'MTA16': 'NA', 'MTA17': 'NA', 'TNLN': 'NA', 'TN4': 'NA', 'TN5': 'NA', 'TN6': 'NA', 'TN8': 'NA', 'TN9': 'NA', 'TN10': 'NA', 'TN11': 'NA', 'TN12_1': 'NA', 'TN12_2': 'NA', 'TN12_3': 'NA', 'TN12_4': 'NA', 'HH6': 'Urban', 'HH7': 'Bulawayo', 'MWDOI': '1372', 'MWDOB': '917', 'MWAGE': '35-39', 'MWDOM': '1370', 'MWAGEM': '37', 'MWDOBLC': 'NA', 'MMSTATUS': 'Currently married/in union', 'MCEB': '0', 'MCSURV': '0', 'MCDEAD': '0', 'mwelevel': 'Higher', 'mnweight': '0.403797141860459', 'wscore': '1.54327702631422', 'windex5': '5', 'wscoreu': '1.08902631982422', 'windex5u': '5', 'wscorer': 'NA', 'windex5r': 'NA'}, {'': '3', 'HH1': '2', 'HH2': '1', 'LN': '1', 'MWM1': '2', 'MWM2': '1', 'MWM4': '1', 'MWM5': '9', 'MWM6D': '8', 'MWM6M': '4', 'MWM6Y': '2014', 'MWM7': 'Completed', 'MWM8': '1', 'MWM9': '40', 'MWM10H': '10', 'MWM10M': '37', 'MWM11H': '10', 'MWM11M': '52', 'MWB1M': '2', 'MWB1Y': '1973', 'MWB2': '41', 'MWB3': 'Yes', 'MWB4': 'Primary', 'MWB5': '17', 'MWB7': 'Able to read whole sentence', 'MMT2': 'Not at all', 'MMT3': 'Almost every day', 'MMT4': 'Less than once a week', 'MMT6': 'No', 'MMT7': 'NA', 'MMT8': 'NA', 'MMT9': 'No', 'MMT10': 'NA', 'MMT11': 'NA', 'MMT12': 'Yes', 'MMT13': 'Yes', 'MMT14': 'Almost every day', 'MCM1': 'Yes', 'MCM3': '21', 'MCM4': 'Yes', 'MCM5A': '1', 'MCM5B': '1', 'MCM6': 'Yes', 'MCM7A': '1', 'MCM7B': '0', 'MCM8': 'No', 'MCM9A': 'NA', 'MCM9B': 'NA', 'MCM10': '3', 'MCM11A': 'No', 'MCM11B': '2', 'MCM12M': '5', 'MCM12Y': '2012', 'MDV1A': 'No', 'MDV1B': 'No', 'MDV1C': 'No', 'MDV1D': 'No', 'MDV1E': 'No', 'MDV1F': 'No', 'MMA1': 'Yes, currently married', 'MMA3': 'No (Only one)', 'MMA4': 'NA', 'MMA5': 'NA', 'MMA6': 'NA', 'MMA7': 'More than once', 'MMA8M': '8', 'MMA8Y': '1991', 'MMA9': 'NA', 'MSB1': '20', 'MSB2': 'No', 'MSB3U': 'Days ago', 'MSB3N': '0', 'MSB4': 'Yes', 'MSB5': 'Wife', 'MSB8': 'No', 'MSB9': 'NA', 'MSB10': 'NA', 'MSB13': 'NA', 'MSB14': 'NA', 'MSB15': '5', 'MHA1': 'Yes', 'MHA2': 'Yes', 'MHA3': 'No', 'MHA4': 'Yes', 'MHA5': 'No', 'MHA6': 'No', 'MHA7': 'Yes', 'MHA8A': 'No', 'MHA8B': 'Yes', 'MHA8C': 'No', 'MHA9': 'Yes', 'MHA10': 'Yes', 'MHA11': 'No', 'MHA12': 'Yes', 'MHA24': 'Yes', 'MHA25': '2 or more years ago', 'MHA26': 'Yes', 'MHA27': 'NA', 'MMC1': 'No', 'MMC2': 'NA', 'MMC3': 'NA', 'MMC4': 'NA', 'MTA1': 'Yes', 'MTA2': '18', 'MTA3': 'Yes', 'MTA4': '10', 'MTA5': '30', 'MTA6': 'Yes', 'MTA7': 'Yes', 'MTA8A': 'NA', 'MTA8B': 'NA', 'MTA8C': 'NA', 'MTA8D': 'NA', 'MTA8E': 'Rolled tobacco', 'MTA8X': 'NA', 'MTA9': '7', 'MTA10': 'No', 'MTA11': 'NA', 'MTA12A': 'NA', 'MTA12B': 'NA', 'MTA12C': 'NA', 'MTA12X': 'NA', 'MTA13': 'NA', 'MTA14': 'Yes', 'MTA15': '19', 'MTA16': '8', 'MTA17': '2', 'TNLN': 'NA', 'TN4': 'NA', 'TN5': 'NA', 'TN6': 'NA', 'TN8': 'NA', 'TN9': 'NA', 'TN10': 'NA', 'TN11': 'NA', 'TN12_1': 'NA', 'TN12_2': 'NA', 'TN12_3': 'NA', 'TN12_4': 'NA', 'HH6': 'Urban', 'HH7': 'Bulawayo', 'MWDOI': '1372', 'MWDOB': '878', 'MWAGE': '40-44', 'MWDOM': '1100', 'MWAGEM': '18', 'MWDOBLC': 'NA', 'MMSTATUS': 'Currently married/in union', 'MCEB': '3', 'MCSURV': '3', 'MCDEAD': '0', 'mwelevel': 'Primary', 'mnweight': '1.03192602919895', 'wscore': '0.878635263695964', 'windex5': '4', 'wscoreu': '-0.930720561098312', 'windex5u': '1', 'wscorer': 'NA', 'windex5r': 'NA'}, {'': '4', 'HH1': '2', 'HH2': '1', 'LN': '5', 'MWM1': '2', 'MWM2': '1', 'MWM4': '5', 'MWM5': '9', 'MWM6D': '12', 'MWM6M': '4', 'MWM6Y': '2014', 'MWM7': 'Not at home', 'MWM8': '1', 'MWM9': '40', 'MWM10H': 'NA', 'MWM10M': 'NA', 'MWM11H': 'NA', 'MWM11M': 'NA', 'MWB1M': 'NA', 'MWB1Y': 'NA', 'MWB2': 'NA', 'MWB3': 'NA', 'MWB4': 'NA', 'MWB5': 'NA', 'MWB7': 'NA', 'MMT2': 'NA', 'MMT3': 'NA', 'MMT4': 'NA', 'MMT6': 'NA', 'MMT7': 'NA', 'MMT8': 'NA', 'MMT9': 'NA', 'MMT10': 'NA', 'MMT11': 'NA', 'MMT12': 'NA', 'MMT13': 'NA', 'MMT14': 'NA', 'MCM1': 'NA', 'MCM3': 'NA', 'MCM4': 'NA', 'MCM5A': 'NA', 'MCM5B': 'NA', 'MCM6': 'NA', 'MCM7A': 'NA', 'MCM7B': 'NA', 'MCM8': 'NA', 'MCM9A': 'NA', 'MCM9B': 'NA', 'MCM10': 'NA', 'MCM11A': 'NA', 'MCM11B': 'NA', 'MCM12M': 'NA', 'MCM12Y': 'NA', 'MDV1A': 'NA', 'MDV1B': 'NA', 'MDV1C': 'NA', 'MDV1D': 'NA', 'MDV1E': 'NA', 'MDV1F': 'NA', 'MMA1': 'NA', 'MMA3': 'NA', 'MMA4': 'NA', 'MMA5': 'NA', 'MMA6': 'NA', 'MMA7': 'NA', 'MMA8M': 'NA', 'MMA8Y': 'NA', 'MMA9': 'NA', 'MSB1': 'NA', 'MSB2': 'NA', 'MSB3U': 'NA', 'MSB3N': 'NA', 'MSB4': 'NA', 'MSB5': 'NA', 'MSB8': 'NA', 'MSB9': 'NA', 'MSB10': 'NA', 'MSB13': 'NA', 'MSB14': 'NA', 'MSB15': 'NA', 'MHA1': 'NA', 'MHA2': 'NA', 'MHA3': 'NA', 'MHA4': 'NA', 'MHA5': 'NA', 'MHA6': 'NA', 'MHA7': 'NA', 'MHA8A': 'NA', 'MHA8B': 'NA', 'MHA8C': 'NA', 'MHA9': 'NA', 'MHA10': 'NA', 'MHA11': 'NA', 'MHA12': 'NA', 'MHA24': 'NA', 'MHA25': 'NA', 'MHA26': 'NA', 'MHA27': 'NA', 'MMC1': 'NA', 'MMC2': 'NA', 'MMC3': 'NA', 'MMC4': 'NA', 'MTA1': 'NA', 'MTA2': 'NA', 'MTA3': 'NA', 'MTA4': 'NA', 'MTA5': 'NA', 'MTA6': 'NA', 'MTA7': 'NA', 'MTA8A': 'NA', 'MTA8B': 'NA', 'MTA8C': 'NA', 'MTA8D': 'NA', 'MTA8E': 'NA', 'MTA8X': 'NA', 'MTA9': 'NA', 'MTA10': 'NA', 'MTA11': 'NA', 'MTA12A': 'NA', 'MTA12B': 'NA', 'MTA12C': 'NA', 'MTA12X': 'NA', 'MTA13': 'NA', 'MTA14': 'NA', 'MTA15': 'NA', 'MTA16': 'NA', 'MTA17': 'NA', 'TNLN': 'NA', 'TN4': 'NA', 'TN5': 'NA', 'TN6': 'NA', 'TN8': 'NA', 'TN9': 'NA', 'TN10': 'NA', 'TN11': 'NA', 'TN12_1': 'NA', 'TN12_2': 'NA', 'TN12_3': 'NA', 'TN12_4': 'NA', 'HH6': 'Urban', 'HH7': 'Bulawayo', 'MWDOI': '1372', 'MWDOB': 'NA', 'MWAGE': 'NA', 'MWDOM': 'NA', 'MWAGEM': 'NA', 'MWDOBLC': 'NA', 'MMSTATUS': 'NA', 'MCEB': 'NA', 'MCSURV': 'NA', 'MCDEAD': 'NA', 'mwelevel': 'NA', 'mnweight': '0', 'wscore': '0', 'windex5': '0', 'wscoreu': '0', 'windex5u': '0', 'wscorer': '0', 'windex5r': '0'}, {'': '5', 'HH1': '2', 'HH2': '1', 'LN': '8', 'MWM1': '2', 'MWM2': '1', 'MWM4': '8', 'MWM5': '9', 'MWM6D': '8', 'MWM6M': '4', 'MWM6Y': '2014', 'MWM7': 'Completed', 'MWM8': '1', 'MWM9': '40', 'MWM10H': '10', 'MWM10M': '53', 'MWM11H': '11', 'MWM11M': '10', 'MWB1M': '2', 'MWB1Y': '1993', 'MWB2': '21', 'MWB3': 'Yes', 'MWB4': 'Secondary', 'MWB5': '24', 'MWB7': 'NA', 'MMT2': 'Less than once a week', 'MMT3': 'At least once a week', 'MMT4': 'Less than once a week', 'MMT6': 'No', 'MMT7': 'NA', 'MMT8': 'NA', 'MMT9': 'No', 'MMT10': 'NA', 'MMT11': 'NA', 'MMT12': 'Yes', 'MMT13': 'Yes', 'MMT14': 'Almost every day', 'MCM1': 'No', 'MCM3': 'NA', 'MCM4': 'NA', 'MCM5A': 'NA', 'MCM5B': 'NA', 'MCM6': 'NA', 'MCM7A': 'NA', 'MCM7B': 'NA', 'MCM8': 'No', 'MCM9A': 'NA', 'MCM9B': 'NA', 'MCM10': '0', 'MCM11A': 'NA', 'MCM11B': 'NA', 'MCM12M': 'NA', 'MCM12Y': 'NA', 'MDV1A': 'No', 'MDV1B': 'No', 'MDV1C': 'No', 'MDV1D': 'No', 'MDV1E': 'No', 'MDV1F': 'No', 'MMA1': 'No, not in union', 'MMA3': 'NA', 'MMA4': 'NA', 'MMA5': 'No', 'MMA6': 'NA', 'MMA7': 'NA', 'MMA8M': 'NA', 'MMA8Y': 'NA', 'MMA9': 'NA', 'MSB1': '19', 'MSB2': 'Yes', 'MSB3U': 'Months ago', 'MSB3N': '7', 'MSB4': 'Yes', 'MSB5': 'Girlfriend', 'MSB8': 'No', 'MSB9': 'NA', 'MSB10': 'NA', 'MSB13': 'NA', 'MSB14': 'NA', 'MSB15': '3', 'MHA1': 'Yes', 'MHA2': 'Yes', 'MHA3': 'No', 'MHA4': 'Yes', 'MHA5': 'No', 'MHA6': 'No', 'MHA7': 'Yes', 'MHA8A': 'Yes', 'MHA8B': 'Yes', 'MHA8C': 'Yes', 'MHA9': 'Yes', 'MHA10': 'Yes', 'MHA11': 'No', 'MHA12': 'Yes', 'MHA24': 'Yes', 'MHA25': '12-23 months ago', 'MHA26': 'Yes', 'MHA27': 'NA', 'MMC1': 'No', 'MMC2': 'NA', 'MMC3': 'NA', 'MMC4': 'NA', 'MTA1': 'No', 'MTA2': 'NA', 'MTA3': 'NA', 'MTA4': 'NA', 'MTA5': 'NA', 'MTA6': 'No', 'MTA7': 'NA', 'MTA8A': 'NA', 'MTA8B': 'NA', 'MTA8C': 'NA', 'MTA8D': 'NA', 'MTA8E': 'NA', 'MTA8X': 'NA', 'MTA9': 'NA', 'MTA10': 'No', 'MTA11': 'NA', 'MTA12A': 'NA', 'MTA12B': 'NA', 'MTA12C': 'NA', 'MTA12X': 'NA', 'MTA13': 'NA', 'MTA14': 'Yes', 'MTA15': '20', 'MTA16': '10', 'MTA17': '2', 'TNLN': 'NA', 'TN4': 'NA', 'TN5': 'NA', 'TN6': 'NA', 'TN8': 'NA', 'TN9': 'NA', 'TN10': 'NA', 'TN11': 'NA', 'TN12_1': 'NA', 'TN12_2': 'NA', 'TN12_3': 'NA', 'TN12_4': 'NA', 'HH6': 'Urban', 'HH7': 'Bulawayo', 'MWDOI': '1372', 'MWDOB': '1118', 'MWAGE': '20-24', 'MWDOM': 'NA', 'MWAGEM': 'NA', 'MWDOBLC': 'NA', 'MMSTATUS': 'Never married/in union', 'MCEB': '0', 'MCSURV': '0', 'MCDEAD': '0', 'mwelevel': 'Secondary', 'mnweight': '1.03192602919895', 'wscore': '0.878635263695964', 'windex5': '4', 'wscoreu': '-0.930720561098312', 'windex5u': '1', 'wscorer': 'NA', 'windex5r': 'NA'}]\n",
      "[{'Name': 'HH1', 'Label': 'Cluster number', 'Question': ''}, {'Name': 'HH2', 'Label': 'Household number', 'Question': ''}, {'Name': 'LN', 'Label': 'Line number', 'Question': ''}, {'Name': 'MWM1', 'Label': 'Cluster number', 'Question': ''}, {'Name': 'MWM2', 'Label': 'Household number', 'Question': ''}]\n"
     ]
    }
   ],
   "source": [
    "print(data_rows[:5])\n",
    "print(header_rows[:5])"
   ]
  },
  {
   "cell_type": "code",
   "execution_count": null,
   "id": "84d77ff2",
   "metadata": {},
   "outputs": [],
   "source": [
    "for data_dict in data_rows:\n",
    "    for dkey, dval in data_dict.items():\n",
    "        for header_dict in header_rows:\n",
    "            for hkey, hval in header_dict.items():\n",
    "                if dkey == hval:\n",
    "                    print('match!')"
   ]
  },
  {
   "cell_type": "code",
   "execution_count": 6,
   "id": "67174b97",
   "metadata": {},
   "outputs": [],
   "source": [
    "new_rows = []\n",
    "\n",
    "for data_dict in data_rows:\n",
    "    new_row = {}\n",
    "    for dkey, dval in data_dict.items():\n",
    "        for header_dict in header_rows:\n",
    "            if dkey in header_dict.values():\n",
    "                new_row[header_dict.get('Label')] = dval\n",
    "    new_rows.append(new_row)"
   ]
  },
  {
   "cell_type": "code",
   "execution_count": 7,
   "id": "f37fef33",
   "metadata": {},
   "outputs": [
    {
     "data": {
      "text/plain": [
       "{'Cluster number': '1',\n",
       " 'Household number': '17',\n",
       " 'Line number': '1',\n",
       " \"Man's line number\": '1',\n",
       " 'Interviewer number': '14',\n",
       " 'Day of interview': '7',\n",
       " 'Month of interview': '4',\n",
       " 'Year of interview': '2014',\n",
       " \"Result of man's interview\": 'Completed',\n",
       " 'Field editor': '2',\n",
       " 'Data entry clerk': '20',\n",
       " 'Start of interview - Hour': '17',\n",
       " 'Start of interview - Minutes': '59',\n",
       " 'End of interview - Hour': '18',\n",
       " 'End of interview - Minutes': '7',\n",
       " 'Ever used a mobile or non-mobile phone': 'Yes',\n",
       " 'Mobile or non-mobile phone usage in the last 12 months': 'Yes',\n",
       " 'Frequency of mobile or non-mobile usage in the past month': 'Almost every day',\n",
       " 'Children ever born': '0',\n",
       " \"Woman's line number\": '1',\n",
       " 'Result of interview': '1',\n",
       " 'Area': 'Urban',\n",
       " 'Region': 'Bulawayo',\n",
       " 'Date of interview women (CMC)': '1372',\n",
       " 'Date of birth of woman (CMC)': '1013',\n",
       " 'Age': '25-29',\n",
       " 'Date of marriage (CMC)': '1365',\n",
       " 'Age at first marriage/union': '29',\n",
       " 'Date of birth of first child (CMC)': '1',\n",
       " 'Date of birth of last child (CMC)': 'NA',\n",
       " 'Marital/Union status': 'Currently married/in union',\n",
       " 'Children surviving': '0',\n",
       " 'Children dead': '0',\n",
       " 'Respondent is circumcised': 'No',\n",
       " 'Age at circumcision': 'NA',\n",
       " 'Person performing circumcision': 'NA',\n",
       " 'Place of circumcision': 'NA',\n",
       " 'Net number': 'NA',\n",
       " 'Mosquito net observed': 'NA',\n",
       " 'Brand/type of observed net': 'NA',\n",
       " 'Packet number': '1',\n",
       " 'Education': '1',\n",
       " 'Language of household head': '1',\n",
       " \"Men's sample weight\": '1',\n",
       " 'Wealth index score': '1.60367010204171',\n",
       " 'Wealth index quintiles': '5',\n",
       " 'Primary sampling unit': '1',\n",
       " 'Stratum': '1',\n",
       " 'Month of birth of man': '5',\n",
       " 'Year of birth of man': '1984',\n",
       " 'Age of man': '29',\n",
       " 'Ever attended school': 'Yes',\n",
       " 'Highest level of school attended': 'Higher',\n",
       " 'Highest grade completed at that level': '31',\n",
       " 'Can read part of the sentence': 'NA',\n",
       " 'Frequency of reading newspaper or magazine': 'Almost every day',\n",
       " 'Frequency of listening to the radio': 'At least once a week',\n",
       " 'Frequency of watching TV': 'Less than once a week',\n",
       " 'Ever used a computer': 'Yes',\n",
       " 'Computer usage in the last 12 months': 'Yes',\n",
       " 'Frequency of computer usage in the last month': 'Almost every day',\n",
       " 'Ever used internet': 'Yes',\n",
       " 'Internet usage in the last 12 months': 'Yes',\n",
       " 'Frequency of Internet usage in the past month': 'Almost every day',\n",
       " 'Ever fathered any children with any women': 'No',\n",
       " 'Age when first child was born': 'NA',\n",
       " 'Any sons or daughters living with you': 'NA',\n",
       " 'Sons living with you': 'NA',\n",
       " 'Daughters living with you': 'NA',\n",
       " 'Any sons or daughters not living with you': 'NA',\n",
       " 'Sons living elsewhere': 'NA',\n",
       " 'Daughters living elsewhere': 'NA',\n",
       " 'Ever had child who later died': 'No',\n",
       " 'Boys dead': 'NA',\n",
       " 'Girls dead': 'NA',\n",
       " 'Same biological mother': 'NA',\n",
       " 'Number of women respondent fathered children with': 'NA',\n",
       " 'Month of last birth': 'NA',\n",
       " 'Year of last birth': 'NA',\n",
       " 'If she goes out with out telling husband: wife beating justified': 'No',\n",
       " 'If she neglects the children: wife beating justified': 'No',\n",
       " 'If she argues with husband: wife beating justified': 'No',\n",
       " 'If she refuses sex with husband: wife beating justified': 'No',\n",
       " 'If she burns the food: wife beating justified': 'No',\n",
       " 'Currently married or living with a man': 'Yes, currently married',\n",
       " 'Haveing other wives or liveing with other women as if you are married': 'No (Only one)',\n",
       " 'How many other wives / partners living with you': 'NA',\n",
       " 'Ever married or lived with a woman': 'NA',\n",
       " 'Marital status': 'NA',\n",
       " 'Married or lived with a woman once or more than once': 'Only once',\n",
       " 'Month of first union': '9',\n",
       " 'Year of first union': '2013',\n",
       " 'Age at first union': 'NA',\n",
       " 'Age at first sexual intercourse': '20',\n",
       " 'Condom used during first sexual intercourse': 'Yes',\n",
       " 'Time since last sexual intercourse (unit)': 'Days ago',\n",
       " 'Time since last sexual intercourse (number)': '0',\n",
       " 'Condom used at last sexual intercourse': 'No',\n",
       " 'Relationship to last sexual partner': 'Wife',\n",
       " 'Sex with any other person in the last 12 month': 'No',\n",
       " 'Condom used with prior sexual partner': 'NA',\n",
       " 'Relationship to prior sexual partner': 'NA',\n",
       " 'Sex with any other man in the last 12 months': 'NA',\n",
       " 'Number of sex partners in last 12 months': 'NA',\n",
       " 'Number of sex partners in lifetime': '5',\n",
       " 'Ever heard of AIDS': 'Yes',\n",
       " 'Can avoid AIDS virus by having one uninfected partner': 'Yes',\n",
       " 'Can get AIDS virus through supernatural means': 'No',\n",
       " 'Can avoid AIDS virus by using a condom correctly every time': 'Yes',\n",
       " 'Can get AIDS virus from mosquito bites': 'No',\n",
       " 'Can get AIDS virus by sharing food with a person who has AIDS': 'No',\n",
       " 'Healthy-looking person may have AIDS virus': 'Yes',\n",
       " 'AIDS virus from mother to child during pregnancy': 'DK',\n",
       " 'AIDS virus from mother to child during delivery': 'Yes',\n",
       " 'AIDS virus from mother to child through breastfeeding': 'DK',\n",
       " 'Should female teacher with AIDS virus be allowed to teach in school': 'Yes',\n",
       " 'Would buy fresh vegetables from shopkeeper with AIDS virus': 'Yes',\n",
       " 'If HH member became infected with AIDS virus, would want it to remain a secret': 'No',\n",
       " 'Willing to care for person with AIDS in household': 'Yes',\n",
       " 'Ever been tested for AIDS virus': 'Yes',\n",
       " 'Most recent time of testing for AIDS virus': 'Less than 12 months ago',\n",
       " 'Received results of AIDS virus test': 'Yes',\n",
       " 'Know a place to get AIDS virus test': 'NA',\n",
       " 'Ever tried cigarette smoking': 'No',\n",
       " 'Age when cigarette was smoked for the first time': 'NA',\n",
       " 'Currently smoking cigarettes': 'NA',\n",
       " 'Number of cigarettes smoked in the last 24 hours': 'NA',\n",
       " 'Number of days when cigarettes were smoked in past month': 'NA',\n",
       " 'Ever tried any smoked tobacco products other than cigarettes': 'No',\n",
       " 'Used any smoked tobacco products during the last month': 'NA',\n",
       " 'Type of smoked tobacco product: Cigars': 'NA',\n",
       " 'Type of smoked tobacco product: Water pipe': 'NA',\n",
       " 'Type of smoked tobacco product: Cigarillos': 'NA',\n",
       " 'Type of smoked tobacco product: Pipe': 'NA',\n",
       " 'Type of smoked tobacco product: Other': 'NA',\n",
       " 'Number of days when tobacco products where smoked in past month': 'NA',\n",
       " 'Ever tried any form of smokeless tobacco products': 'No',\n",
       " 'Used any smokeless tobacco products during the last month': 'NA',\n",
       " 'Type of smokeless tobacco product used: Chewing tobacco': 'NA',\n",
       " 'Type of smokeless tobacco product used: Snuff': 'NA',\n",
       " 'Type of smokeless tobacco product used: Dip': 'NA',\n",
       " 'Type of smokeless tobacco product used: Other': 'NA',\n",
       " 'Number of days when smokeless tobacco products where used in past month': 'NA',\n",
       " 'Ever drunk alcohol': 'Yes',\n",
       " 'Age when alcohol was used for the first time': '16',\n",
       " 'Number of days when at least one drink of alcohol was used in past month': '0',\n",
       " 'Number of drinks usually consumed': 'NA',\n",
       " 'Months ago net obtained': 'NA',\n",
       " 'Net treated with an insecticide when obtained': 'NA',\n",
       " 'Net soaked or dipped since obtained': 'NA',\n",
       " 'Months ago net soaked or dipped': 'NA',\n",
       " 'Persons slept under mosquito net last night': 'NA',\n",
       " 'Person 1 who slept under net': 'NA',\n",
       " 'Person 2 who slept under net': 'NA',\n",
       " 'Person 3 who slept under net': 'NA',\n",
       " 'Person 4 who slept under net': 'NA'}"
      ]
     },
     "execution_count": 7,
     "metadata": {},
     "output_type": "execute_result"
    }
   ],
   "source": [
    "new_rows[0]"
   ]
  },
  {
   "cell_type": "markdown",
   "id": "1ab15c0d",
   "metadata": {},
   "source": [
    "### 2nd way: using python's zip method"
   ]
  },
  {
   "cell_type": "code",
   "execution_count": 9,
   "id": "c91fdccb",
   "metadata": {},
   "outputs": [],
   "source": [
    "from csv import reader"
   ]
  },
  {
   "cell_type": "code",
   "execution_count": 10,
   "id": "a4e21275",
   "metadata": {},
   "outputs": [],
   "source": [
    "# the simple reader creates a list for each row, rather than a dictionary.\n",
    "data_rdr = reader(open('mn.csv', 'r', encoding='utf-8'))\n",
    "header_rdr = reader(open('mn_headers.csv', 'r', encoding='utf-8'))"
   ]
  },
  {
   "cell_type": "code",
   "execution_count": 11,
   "id": "f077c13b",
   "metadata": {},
   "outputs": [],
   "source": [
    "data_rows = [d for d in data_rdr]\n",
    "header_rows = [h for h in header_rdr]"
   ]
  },
  {
   "cell_type": "code",
   "execution_count": 12,
   "id": "c839ae1d",
   "metadata": {},
   "outputs": [
    {
     "name": "stdout",
     "output_type": "stream",
     "text": [
      "159\n",
      "210\n"
     ]
    }
   ],
   "source": [
    "print(len(data_rows[0]))\n",
    "print(len(header_rows))"
   ]
  },
  {
   "cell_type": "code",
   "execution_count": 13,
   "id": "47174223",
   "metadata": {},
   "outputs": [
    {
     "data": {
      "text/plain": [
       "['',\n",
       " 'HH1',\n",
       " 'HH2',\n",
       " 'LN',\n",
       " 'MWM1',\n",
       " 'MWM2',\n",
       " 'MWM4',\n",
       " 'MWM5',\n",
       " 'MWM6D',\n",
       " 'MWM6M',\n",
       " 'MWM6Y',\n",
       " 'MWM7',\n",
       " 'MWM8',\n",
       " 'MWM9',\n",
       " 'MWM10H',\n",
       " 'MWM10M',\n",
       " 'MWM11H',\n",
       " 'MWM11M',\n",
       " 'MWB1M',\n",
       " 'MWB1Y',\n",
       " 'MWB2',\n",
       " 'MWB3',\n",
       " 'MWB4',\n",
       " 'MWB5',\n",
       " 'MWB7',\n",
       " 'MMT2',\n",
       " 'MMT3',\n",
       " 'MMT4',\n",
       " 'MMT6',\n",
       " 'MMT7',\n",
       " 'MMT8',\n",
       " 'MMT9',\n",
       " 'MMT10',\n",
       " 'MMT11',\n",
       " 'MMT12',\n",
       " 'MMT13',\n",
       " 'MMT14',\n",
       " 'MCM1',\n",
       " 'MCM3',\n",
       " 'MCM4',\n",
       " 'MCM5A',\n",
       " 'MCM5B',\n",
       " 'MCM6',\n",
       " 'MCM7A',\n",
       " 'MCM7B',\n",
       " 'MCM8',\n",
       " 'MCM9A',\n",
       " 'MCM9B',\n",
       " 'MCM10',\n",
       " 'MCM11A',\n",
       " 'MCM11B',\n",
       " 'MCM12M',\n",
       " 'MCM12Y',\n",
       " 'MDV1A',\n",
       " 'MDV1B',\n",
       " 'MDV1C',\n",
       " 'MDV1D',\n",
       " 'MDV1E',\n",
       " 'MDV1F',\n",
       " 'MMA1',\n",
       " 'MMA3',\n",
       " 'MMA4',\n",
       " 'MMA5',\n",
       " 'MMA6',\n",
       " 'MMA7',\n",
       " 'MMA8M',\n",
       " 'MMA8Y',\n",
       " 'MMA9',\n",
       " 'MSB1',\n",
       " 'MSB2',\n",
       " 'MSB3U',\n",
       " 'MSB3N',\n",
       " 'MSB4',\n",
       " 'MSB5',\n",
       " 'MSB8',\n",
       " 'MSB9',\n",
       " 'MSB10',\n",
       " 'MSB13',\n",
       " 'MSB14',\n",
       " 'MSB15',\n",
       " 'MHA1',\n",
       " 'MHA2',\n",
       " 'MHA3',\n",
       " 'MHA4',\n",
       " 'MHA5',\n",
       " 'MHA6',\n",
       " 'MHA7',\n",
       " 'MHA8A',\n",
       " 'MHA8B',\n",
       " 'MHA8C',\n",
       " 'MHA9',\n",
       " 'MHA10',\n",
       " 'MHA11',\n",
       " 'MHA12',\n",
       " 'MHA24',\n",
       " 'MHA25',\n",
       " 'MHA26',\n",
       " 'MHA27',\n",
       " 'MMC1',\n",
       " 'MMC2',\n",
       " 'MMC3',\n",
       " 'MMC4',\n",
       " 'MTA1',\n",
       " 'MTA2',\n",
       " 'MTA3',\n",
       " 'MTA4',\n",
       " 'MTA5',\n",
       " 'MTA6',\n",
       " 'MTA7',\n",
       " 'MTA8A',\n",
       " 'MTA8B',\n",
       " 'MTA8C',\n",
       " 'MTA8D',\n",
       " 'MTA8E',\n",
       " 'MTA8X',\n",
       " 'MTA9',\n",
       " 'MTA10',\n",
       " 'MTA11',\n",
       " 'MTA12A',\n",
       " 'MTA12B',\n",
       " 'MTA12C',\n",
       " 'MTA12X',\n",
       " 'MTA13',\n",
       " 'MTA14',\n",
       " 'MTA15',\n",
       " 'MTA16',\n",
       " 'MTA17',\n",
       " 'TNLN',\n",
       " 'TN4',\n",
       " 'TN5',\n",
       " 'TN6',\n",
       " 'TN8',\n",
       " 'TN9',\n",
       " 'TN10',\n",
       " 'TN11',\n",
       " 'TN12_1',\n",
       " 'TN12_2',\n",
       " 'TN12_3',\n",
       " 'TN12_4',\n",
       " 'HH6',\n",
       " 'HH7',\n",
       " 'MWDOI',\n",
       " 'MWDOB',\n",
       " 'MWAGE',\n",
       " 'MWDOM',\n",
       " 'MWAGEM',\n",
       " 'MWDOBLC',\n",
       " 'MMSTATUS',\n",
       " 'MCEB',\n",
       " 'MCSURV',\n",
       " 'MCDEAD',\n",
       " 'mwelevel',\n",
       " 'mnweight',\n",
       " 'wscore',\n",
       " 'windex5',\n",
       " 'wscoreu',\n",
       " 'windex5u',\n",
       " 'wscorer',\n",
       " 'windex5r']"
      ]
     },
     "execution_count": 13,
     "metadata": {},
     "output_type": "execute_result"
    }
   ],
   "source": [
    "data_rows[0]"
   ]
  },
  {
   "cell_type": "code",
   "execution_count": 31,
   "id": "d9cf0419",
   "metadata": {},
   "outputs": [
    {
     "data": {
      "text/plain": [
       "[['Name', 'Label', 'Question'], ['HH1', 'Cluster number', '']]"
      ]
     },
     "execution_count": 31,
     "metadata": {},
     "output_type": "execute_result"
    }
   ],
   "source": [
    "header_rows[:2]"
   ]
  },
  {
   "cell_type": "code",
   "execution_count": 14,
   "id": "dd91ded3",
   "metadata": {},
   "outputs": [
    {
     "name": "stdout",
     "output_type": "stream",
     "text": [
      "150\n"
     ]
    }
   ],
   "source": [
    "bad_rows = []\n",
    "for h in header_rows:\n",
    "    if h[0] not in data_rows[0]:\n",
    "        bad_rows.append(h)\n",
    "        \n",
    "for h in bad_rows:\n",
    "    header_rows.remove(h)\n",
    "    \n",
    "print(len(header_rows))"
   ]
  },
  {
   "cell_type": "code",
   "execution_count": 15,
   "id": "c64eabef",
   "metadata": {},
   "outputs": [
    {
     "name": "stdout",
     "output_type": "stream",
     "text": [
      "\n",
      "MDV1F\n",
      "MTA8E\n",
      "mwelevel\n",
      "mnweight\n",
      "wscoreu\n",
      "windex5u\n",
      "wscorer\n",
      "windex5r\n"
     ]
    }
   ],
   "source": [
    "all_short_headers = [h[0] for h in header_rows]\n",
    "\n",
    "for header in data_rows[0]:\n",
    "    if header not in all_short_headers:\n",
    "        print(header)"
   ]
  },
  {
   "cell_type": "markdown",
   "id": "d43f9de3",
   "metadata": {},
   "source": [
    "### using mn_headers_updated.csv"
   ]
  },
  {
   "cell_type": "code",
   "execution_count": 19,
   "id": "dc21c590",
   "metadata": {},
   "outputs": [
    {
     "name": "stdout",
     "output_type": "stream",
     "text": [
      "159 152\n"
     ]
    }
   ],
   "source": [
    "data_rdr = reader(open('mn.csv', 'r', encoding='utf-8'))\n",
    "header_rdr = reader(open('mn_headers_updated.csv', 'r', encoding='utf-8'))\n",
    "\n",
    "data_rows = [d for d in data_rdr]\n",
    "header_rows = [h for h in header_rdr if h[0] in data_rows[0]]\n",
    "\n",
    "print(len(data_rows[0]), len(header_rows))"
   ]
  },
  {
   "cell_type": "code",
   "execution_count": 20,
   "id": "28061829",
   "metadata": {},
   "outputs": [],
   "source": [
    "all_short_headers = [h[0] for h in header_rows]\n",
    "skip_index = []\n",
    "\n",
    "for header in data_rows[0]:\n",
    "    if header not in all_short_headers:\n",
    "        index = data_rows[0].index(header)\n",
    "        skip_index.append(index)\n",
    "\n",
    "new_data = []\n",
    "\n",
    "for row in data_rows[1:]:\n",
    "    new_row = []\n",
    "    for i, d in enumerate(row):\n",
    "        if i not in skip_index:\n",
    "            new_row.append(d)\n",
    "    new_data.append(new_row)\n",
    "    \n",
    "zipped_data = []\n",
    "\n",
    "for drow in new_data:\n",
    "    zipped_data.append(zip(header_rows, drow))"
   ]
  },
  {
   "cell_type": "code",
   "execution_count": 21,
   "id": "38904ffa",
   "metadata": {},
   "outputs": [
    {
     "name": "stdout",
     "output_type": "stream",
     "text": [
      "[(['HH1', 'Cluster number', ''], '1'), (['HH2', 'Household number', ''], '17'), (['LN', 'Line number', ''], '1'), (['MWM1', 'Cluster number', ''], '1'), (['MWM2', 'Household number', ''], '17'), (['MWM4', \"Man's line number\", ''], '1'), (['MWM5', 'Interviewer number', ''], '14'), (['MWM6D', 'Day of interview', ''], '7'), (['MWM6M', 'Month of interview', ''], '4'), (['MWM6Y', 'Year of interview', ''], '2014'), (['MWM7', \"Result of man's interview\", ''], 'Completed'), (['MWM8', 'Field editor', ''], '2'), (['MWM9', 'Data entry clerk', ''], '20'), (['MWM10H', 'Start of interview - Hour', ''], '17'), (['MWM10M', 'Start of interview - Minutes', ''], '59'), (['MWM11H', 'End of interview - Hour', ''], '18'), (['MWM11M', 'End of interview - Minutes', ''], '7'), (['MWB1M', 'Month of birth of man', 'In what month and year were you born?'], '5'), (['MWB1Y', 'Year of birth of man', 'In what month and year were you born?'], '1984'), (['MWB2', 'Age of man', 'How old are you?'], '29'), (['MWB3', 'Ever attended school', 'Have you ever attended school or a preschool institution?'], 'Yes'), (['MWB4', 'Highest level of school attended', 'What is the highest education level you attended?'], 'Higher'), (['MWB5', 'Highest grade completed at that level', 'What is the highest grade/year you completed at that level?'], '31'), (['MWB7', 'Can read part of the sentence', 'Now I would like you to read this sentence to me.\\nShow the sentence on the card to the respondent. If the respondent cannot read the whole sentence, probe: Can you read part of the sentence to me?'], 'NA'), (['MMT2', 'Frequency of reading newspaper or magazine', 'How often do you read a newspaper or magazine: Almost every day, at least once a week, less than once a week or not at all?'], 'Almost every day'), (['MMT3', 'Frequency of listening to the radio', 'Do you listen to the radio almost every day, at least once a week, less than once a week or not at all?'], 'At least once a week'), (['MMT4', 'Frequency of watching TV', 'How often do you watch television: Would you say that you watch TV almost every day, at least once a week, less than once a week or not at all?'], 'Less than once a week'), (['MMT6', 'Ever used a computer', 'Have you ever used a computer?'], 'Yes'), (['MMT7', 'Computer usage in the last 12 months', 'In the last 12 months, have you used a computer from any location?'], 'Yes'), (['MMT8', 'Frequency of computer usage in the last month', 'During the last month, how often did you use a computer: almost every day, at least once a week, less than once a week or not at all?'], 'Almost every day'), (['MMT9', 'Ever used internet', 'Have you ever used the internet?'], 'Yes'), (['MMT10', 'Internet usage in the last 12 months', 'In the last 12 months, have you used the internet?'], 'Yes'), (['MMT11', 'Frequency of Internet usage in the past month', 'During the last month, how often did you use the internet: almost every day, at least once a week, less than once a week or not at all?'], 'Almost every day'), (['MMT12', 'Ever used a mobile or non-mobile phone', ''], 'Yes'), (['MMT13', 'Mobile or non-mobile phone usage in the last 12 months', ''], 'Yes'), (['MMT14', 'Frequency of mobile or non-mobile usage in the past month', ''], 'Almost every day'), (['MCM1', 'Ever fathered any children with any women', 'Now i would like to ask about all the children you have had in your lifetime. I am interested in all of the children that are biologically yours, even if they are not legally yours or do not have your last name.\\nHave you had any biological children with any woman?'], 'No'), (['MCM3', 'Age when first child was born', 'How old were you when your (first) child was born?'], 'NA'), (['MCM4', 'Any sons or daughters living with you', 'Do you have any biological sons or daughters who are now living with you?'], 'NA'), (['MCM5A', 'Sons living with you', 'How many sons live with you?'], 'NA'), (['MCM5B', 'Daughters living with you', 'How many daughters live with you?'], 'NA'), (['MCM6', 'Any sons or daughters not living with you', 'Do you have any biological sons or daughters who are alive but do not live with you?'], 'NA'), (['MCM7A', 'Sons living elsewhere', 'How many sons are alive but do not live with you?'], 'NA'), (['MCM7B', 'Daughters living elsewhere', 'How many daughters are alive but do not live with you?'], 'NA'), (['MCM8', 'Ever had child who later died', 'Have you had a biological son or daughter who was born alive but later died?'], 'No'), (['MCM9A', 'Boys dead', 'How many boys have died?'], 'NA'), (['MCM9B', 'Girls dead', 'How many girls have died?'], 'NA'), (['MCM10', 'Children ever born', ''], '0'), (['MCM11A', 'Same biological mother', 'Did all the biological children you have, have the same biological mother?'], 'NA'), (['MCM11B', 'Number of women respondent fathered children with', 'In all, how many women have you had biological children with?'], 'NA'), (['MCM12M', 'Month of last birth', 'Of these (total number in MCM10) biological children, when was the last one born (even if he or she has died)?'], 'NA'), (['MCM12Y', 'Year of last birth', 'Of these (total number in MCM10) biological children, when was the last one born (even if he or she has died)?'], 'NA'), (['MDV1A', 'If she goes out with out telling husband: wife beating justified', 'Sometimes a husband becomes annoyed or gets angry at things that his wife does. In your opinion, is a husband justified in hitting or beating his wife in the following situations: [A] If she goes out without telling him?'], 'No'), (['MDV1B', 'If she neglects the children: wife beating justified', 'Sometimes a husband becomes annoyed or gets angry at things that his wife does. In your opinion, is a husband justified in hitting or beating his wife in the following situations: [B] If she neglects the children?'], 'No'), (['MDV1C', 'If she argues with husband: wife beating justified', 'Sometimes a husband becomes annoyed or gets angry at things that his wife does. In your opinion, is a husband justified in hitting or beating his wife in the following situations: [C] If she argues with him?'], 'No'), (['MDV1D', 'If she refuses sex with husband: wife beating justified', 'Sometimes a husband becomes annoyed or gets angry at things that his wife does. In your opinion, is a husband justified in hitting or beating his wife in the following situations: [D] If she refuses to have sex with him?'], 'No'), (['MDV1E', 'If she burns the food: wife beating justified', 'Sometimes a husband becomes annoyed or gets angry at things that his wife does. In your opinion, is a husband justified in hitting or beating his wife in the following situations: [E] If she burns the food?'], 'No'), (['MDV1F', 'Is she commits infidelity: wife beating justified', 'Sometimes a husband becomes annoyed or gets angry at things that his wife does. In your opinion, is a husband justified in hitting or beating his wife in the following situations: [F] If she commits infedelity?'], 'No'), (['MMA1', 'Currently married or living with a man', 'Are you currently married or living together with a woman as if married?'], 'Yes, currently married'), (['MMA3', 'Haveing other wives or liveing with other women as if you are married', 'Do you have other wives or do you live with other women as if married?'], 'No (Only one)'), (['MMA4', 'How many other wives / partners living with you', 'How many other wives or live-in partners do you have?'], 'NA'), (['MMA5', 'Ever married or lived with a woman', 'Have you ever been married or lived together with a woman as if married?'], 'NA'), (['MMA6', 'Marital status', 'What is your marital status now: are you widowed, divorced or separated?'], 'NA'), (['MMA7', 'Married or lived with a woman once or more than once', 'Have you been married or lived with a woman only once or more than once?'], 'Only once'), (['MMA8M', 'Month of first union', 'In what month and year did you first marry or start living with a woman as if married?'], '9'), (['MMA8Y', 'Year of first union', 'In what month and year did you first marry or start living with a woman as if married?'], '2013'), (['MMA9', 'Age at first union', 'How old were you when you started living with your first wife/partner?'], 'NA'), (['MSB1', 'Age at first sexual intercourse', 'Now i would like to ask you some questions about sexual activity in order to get a better understanding of some important life issues.\\nThe information you provide will remain strictly confidential. How old were you when you had sexual intercourse for the very first time?'], '20'), (['MSB2', 'Condom used during first sexual intercourse', 'The first time you had sexual intercourse, was a condom used?'], 'Yes'), (['MSB3U', 'Time since last sexual intercourse (unit)', \"When was the last time you had sexual intercourse?\\nRecord 'years ago' only if last intercourse was one or more years ago. If 12 months or more the answer must be recorded in years.\"], 'Days ago'), (['MSB3N', 'Time since last sexual intercourse (number)', \"When was the last time you had sexual intercourse?\\nRecord 'years ago' only if last intercourse was one or more years ago. If 12 months or more the answer must be recorded in years.\"], '0'), (['MSB4', 'Condom used at last sexual intercourse', 'The last time you had sexual intercourse, was a condom used?'], 'No'), (['MSB5', 'Relationship to last sexual partner', 'What was your relationship to the person you last had sexual intercourse with?'], 'Wife'), (['MSB8', 'Sex with any other person in the last 12 month', 'Have you had sexual intercourse with any other person in the last 12 months?'], 'No'), (['MSB9', 'Condom used with prior sexual partner', 'The last time you had sexual intercourse with this other person, was a condom used?'], 'NA'), (['MSB10', 'Relationship to prior sexual partner', 'What was your relationship to this person?'], 'NA'), (['MSB13', 'Sex with any other man in the last 12 months', 'In the last 12 months, have you had sexual intercourse with any other person, other than these two persons?'], 'NA'), (['MSB14', 'Number of sex partners in last 12 months', 'In total, with how many different people have you had sexual intercourse in the last 12 months?'], 'NA'), (['MSB15', 'Number of sex partners in lifetime', 'In total, with how many different people have you had sexual intercourse in your lifetime?'], '5'), (['MHA1', 'Ever heard of AIDS', 'Now i would like to talk with you about something else.\\nHave you ever heard of the HIV virus or an illness called AIDS (or SIDA)?'], 'Yes'), (['MHA2', 'Can avoid AIDS virus by having one uninfected partner', 'Can people reduce their chance of getting the virus that causes AIDS by having just one uninfected sex partner who has no other sex partners?'], 'Yes'), (['MHA3', 'Can get AIDS virus through supernatural means', 'Can people get the virus that causes AIDS because of witchcraft or other supernatural means?'], 'No'), (['MHA4', 'Can avoid AIDS virus by using a condom correctly every time', 'Can people reduce their chance of getting the virus that causes AIDS by using a condom every time they have sex?'], 'Yes'), (['MHA5', 'Can get AIDS virus from mosquito bites', 'Can people get the virus that causes AIDS from mosquito bites?'], 'No'), (['MHA6', 'Can get AIDS virus by sharing food with a person who has AIDS', 'Can people get the virus that causes AIDS by sharing food with a person who has AIDS?'], 'No'), (['MHA7', 'Healthy-looking person may have AIDS virus', 'Is it possible for a healthy-looking person to have the virus that causes AIDS?'], 'Yes'), (['MHA8A', 'AIDS virus from mother to child during pregnancy', 'Can the virus that causes AIDS be transmitted from a mother to her baby: [A] During pregnancy?'], 'DK'), (['MHA8B', 'AIDS virus from mother to child during delivery', 'Can the virus that causes AIDS be transmitted from a mother to her baby: [B] During delivery?'], 'Yes'), (['MHA8C', 'AIDS virus from mother to child through breastfeeding', 'Can the virus that causes AIDS be transmitted from a mother to her baby: [C] By breastfeeding?'], 'DK'), (['MHA9', 'Should female teacher with AIDS virus be allowed to teach in school', 'In your opinion, if a female teacher has the virus that causes AIDS but is not sick, should she be allowed to continue teaching in school?'], 'Yes'), (['MHA10', 'Would buy fresh vegetables from shopkeeper with AIDS virus', 'Would you buy fresh vegetables from a shopkeeper or salesperson if you knew that this person had the virus that causes AIDS?'], 'Yes'), (['MHA11', 'If HH member became infected with AIDS virus, would want it to remain a secret', 'If a member of your family got infected with the virus that causes AIDS, would you want it to remain a secret?'], 'No'), (['MHA12', 'Willing to care for person with AIDS in household', 'If a member of your family became sick with AIDS, would you be willing to care for him or her in your own household?'], 'Yes'), (['MHA24', 'Ever been tested for AIDS virus', 'I don’t want to know the results, but have you ever been tested to see if you have the virus that causes AIDS?'], 'Yes'), (['MHA25', 'Most recent time of testing for AIDS virus', 'When was the most recent time you were tested?'], 'Less than 12 months ago'), (['MHA26', 'Received results of AIDS virus test', 'I don’t want to know the results, but did you get the results of this test?'], 'Yes'), (['MHA27', 'Know a place to get AIDS virus test', 'Do you know of a place where people can go to get tested for the virus that causes AIDS?'], 'NA'), (['MTA1', 'Ever tried cigarette smoking', 'Have you ever tried smoking cigarettes, even taking one or two puffs?'], 'No'), (['MTA2', 'Age when cigarette was smoked for the first time', 'How old were you when you smoked an entire cigarette for the first time?'], 'NA'), (['MTA3', 'Currently smoking cigarettes', 'Do you currently smoke cigarettes?'], 'NA'), (['MTA4', 'Number of cigarettes smoked in the last 24 hours', 'How many cigarettes did you smoke during the last month?'], 'NA'), (['MTA5', 'Number of days when cigarettes were smoked in past month', 'During the last month, on how many days did you smoke cigarettes?'], 'No'), (['MTA6', 'Ever tried any smoked tobacco products other than cigarettes', 'Have you ever tried any smoked tobacco products other than cigarettes, such as cigars (e.g. Cuban), a pipe or waterpipe (narghile/hookah)?'], 'NA'), (['MTA7', 'Used any smoked tobacco products during the last month', 'During the last month, did you use any smoked tobacco products?'], 'NA'), (['MTA8A', 'Type of smoked tobacco product: Cigars', 'What type of smoked tobacco product did you use or smoke during the last month?'], 'NA'), (['MTA8B', 'Type of smoked tobacco product: Water pipe', 'What type of smoked tobacco product did you use or smoke during the last month?'], 'NA'), (['MTA8C', 'Type of smoked tobacco product: Cigarillos', 'What type of smoked tobacco product did you use or smoke during the last month?'], 'No'), (['MTA8D', 'Type of smoked tobacco product: Pipe', 'What type of smoked tobacco product did you use or smoke during the last month?'], 'NA'), (['MTA8E', 'Type of smoked tomacco product: Rolled tobacco', ''], 'NA'), (['MTA8X', 'Type of smoked tobacco product: Other', 'What type of smoked tobacco product did you use or smoke during the last month?'], 'NA'), (['MTA9', 'Number of days when tobacco products where smoked in past month', 'On how many days did you use smoked tobacco products during the last month?'], 'NA'), (['MTA10', 'Ever tried any form of smokeless tobacco products', 'Have you ever tried any form of smokeless tobacco products, such as chewing tobacco, tobacco for sniffing (snuff) or dipping tobacco?'], 'NA'), (['MTA11', 'Used any smokeless tobacco products during the last month', 'Did you use any smokeless tobacco products during the last month?'], 'NA'), (['MTA12A', 'Type of smokeless tobacco product used: Chewing tobacco', 'What type of smokeless tobacco product did you use during the last month?'], 'NA'), (['MTA12B', 'Type of smokeless tobacco product used: Snuff', 'What type of smokeless tobacco product did you use during the last month?'], 'NA'), (['MTA12C', 'Type of smokeless tobacco product used: Dip', 'What type of smokeless tobacco product did you use during the last month?'], 'No'), (['MTA12X', 'Type of smokeless tobacco product used: Other', 'What type of smokeless tobacco product did you use during the last month?'], 'NA'), (['MTA13', 'Number of days when smokeless tobacco products where used in past month', 'On how many days did you use smokeless tobacco products during the last month?'], 'NA'), (['MTA14', 'Ever drunk alcohol', 'Now i would like to ask you some questions about drinking alcohol.\\nHave you ever drunk alcohol?'], 'NA'), (['MTA15', 'Age when alcohol was used for the first time', 'We count one drink of alcohol as one can or bottle of beer, one glass of wine, or one shot of strong drink.\\nHow old were you when you had your first drink of alcohol, not counting a few sips?'], 'NA'), (['MTA16', 'Number of days when at least one drink of alcohol was used in past month', 'During the last month, on how many days did you have at least one drink of alcohol?'], 'NA'), (['MTA17', 'Number of drinks usually consumed', 'In the last month, on those days that you drank alcohol, what is the number of drinks did you usually had?'], 'NA'), (['HH6', 'Area', ''], 'Yes'), (['HH7', 'Region', ''], '16'), (['MWDOI', 'Date of interview women (CMC)', ''], '0'), (['MWDOB', 'Date of birth of woman (CMC)', ''], 'NA'), (['MWAGE', 'Age', ''], 'NA'), (['MWDOM', 'Date of marriage (CMC)', ''], 'NA'), (['MWAGEM', 'Age at first marriage/union', ''], 'NA'), (['MWDOBLC', 'Date of birth of last child (CMC)', ''], 'NA'), (['MMSTATUS', 'Marital/Union status', ''], 'NA'), (['MCEB', 'Children ever born', ''], 'NA'), (['MCSURV', 'Children surviving', ''], 'NA'), (['MCDEAD', 'Children dead', ''], 'NA'), (['MMC1', 'Respondent is circumcised', ''], 'NA'), (['MMC2', 'Age at circumcision', ''], 'NA'), (['MMC3', 'Person performing circumcision', ''], 'NA'), (['MMC4', 'Place of circumcision', ''], 'NA'), (['TNLN', 'Net number', ''], 'Urban'), (['TN4', 'Mosquito net observed', ''], 'Bulawayo'), (['TN5', 'Brand/type of observed net', ''], '1372'), (['TN6', 'Months ago net obtained', 'How many months ago did your household get the mosquito net?'], '1013'), (['TN8', 'Net treated with an insecticide when obtained', 'When you got the net, was it already treated with an insecticide to kill or repel mosquitoes?'], '25-29'), (['TN9', 'Net soaked or dipped since obtained', 'Since you got the net, was it ever soaked or dipped in a liquid to kill or repel mosquitoes?'], '1365'), (['TN10', 'Months ago net soaked or dipped', 'How many months ago was the net last soaked or dipped?'], '29'), (['TN11', 'Persons slept under mosquito net last night', 'Did anyone sleep under this mosquito net last night?'], 'NA'), (['TN12_1', 'Person 1 who slept under net', 'Who slept under this mosquito net last night?'], 'Currently married/in union'), (['TN12_2', 'Person 2 who slept under net', 'Who slept under this mosquito net last night?'], '0'), (['TN12_3', 'Person 3 who slept under net', 'Who slept under this mosquito net last night?'], '0'), (['TN12_4', 'Person 4 who slept under net', 'Who slept under this mosquito net last night?'], '0'), (['wscore', 'Wealth index score', ''], '1.60367010204171'), (['windex5', 'Wealth index quintiles', ''], '5')]\n"
     ]
    }
   ],
   "source": [
    "print(list(zipped_data[0]))"
   ]
  },
  {
   "cell_type": "code",
   "execution_count": 22,
   "id": "ffda0609",
   "metadata": {},
   "outputs": [
    {
     "name": "stdout",
     "output_type": "stream",
     "text": [
      "[('HH1', 'HH1'), ('HH2', 'HH2'), ('LN', 'LN'), ('MWM1', 'MWM1'), ('MWM2', 'MWM2'), ('MWM4', 'MWM4'), ('MWM5', 'MWM5'), ('MWM6D', 'MWM6D'), ('MWM6M', 'MWM6M'), ('MWM6Y', 'MWM6Y'), ('MWM7', 'MWM7'), ('MWM8', 'MWM8'), ('MWM9', 'MWM9'), ('MWM10H', 'MWM10H'), ('MWM10M', 'MWM10M'), ('MWM11H', 'MWM11H'), ('MWM11M', 'MWM11M'), ('MWB1M', 'MWB1M'), ('MWB1Y', 'MWB1Y'), ('MWB2', 'MWB2'), ('MWB3', 'MWB3'), ('MWB4', 'MWB4'), ('MWB5', 'MWB5'), ('MWB7', 'MWB7'), ('MMT2', 'MMT2'), ('MMT3', 'MMT3'), ('MMT4', 'MMT4'), ('MMT6', 'MMT6'), ('MMT7', 'MMT7'), ('MMT8', 'MMT8'), ('MMT9', 'MMT9'), ('MMT10', 'MMT10'), ('MMT11', 'MMT11'), ('MMT12', 'MMT12'), ('MMT13', 'MMT13'), ('MMT14', 'MMT14'), ('MCM1', 'MCM1'), ('MCM3', 'MCM3'), ('MCM4', 'MCM4'), ('MCM5A', 'MCM5A'), ('MCM5B', 'MCM5B'), ('MCM6', 'MCM6'), ('MCM7A', 'MCM7A'), ('MCM7B', 'MCM7B'), ('MCM8', 'MCM8'), ('MCM9A', 'MCM9A'), ('MCM9B', 'MCM9B'), ('MCM10', 'MCM10'), ('MCM11A', 'MCM11A'), ('MCM11B', 'MCM11B'), ('MCM12M', 'MCM12M'), ('MCM12Y', 'MCM12Y'), ('MDV1A', 'MDV1A'), ('MDV1B', 'MDV1B'), ('MDV1C', 'MDV1C'), ('MDV1D', 'MDV1D'), ('MDV1E', 'MDV1E'), ('MDV1F', 'MDV1F'), ('MMA1', 'MMA1'), ('MMA3', 'MMA3'), ('MMA4', 'MMA4'), ('MMA5', 'MMA5'), ('MMA6', 'MMA6'), ('MMA7', 'MMA7'), ('MMA8M', 'MMA8M'), ('MMA8Y', 'MMA8Y'), ('MMA9', 'MMA9'), ('MSB1', 'MSB1'), ('MSB2', 'MSB2'), ('MSB3U', 'MSB3U'), ('MSB3N', 'MSB3N'), ('MSB4', 'MSB4'), ('MSB5', 'MSB5'), ('MSB8', 'MSB8'), ('MSB9', 'MSB9'), ('MSB10', 'MSB10'), ('MSB13', 'MSB13'), ('MSB14', 'MSB14'), ('MSB15', 'MSB15'), ('MHA1', 'MHA1'), ('MHA2', 'MHA2'), ('MHA3', 'MHA3'), ('MHA4', 'MHA4'), ('MHA5', 'MHA5'), ('MHA6', 'MHA6'), ('MHA7', 'MHA7'), ('MHA8A', 'MHA8A'), ('MHA8B', 'MHA8B'), ('MHA8C', 'MHA8C'), ('MHA9', 'MHA9'), ('MHA10', 'MHA10'), ('MHA11', 'MHA11'), ('MHA12', 'MHA12'), ('MHA24', 'MHA24'), ('MHA25', 'MHA25'), ('MHA26', 'MHA26'), ('MHA27', 'MHA27'), ('MMC1', 'MTA1'), ('MMC2', 'MTA2'), ('MMC3', 'MTA3'), ('MMC4', 'MTA4'), ('MTA1', 'MTA5'), ('MTA2', 'MTA6'), ('MTA3', 'MTA7'), ('MTA4', 'MTA8A'), ('MTA5', 'MTA8B'), ('MTA6', 'MTA8C'), ('MTA7', 'MTA8D'), ('MTA8A', 'MTA8E'), ('MTA8B', 'MTA8X'), ('MTA8C', 'MTA9'), ('MTA8D', 'MTA10'), ('MTA8E', 'MTA11'), ('MTA8X', 'MTA12A'), ('MTA9', 'MTA12B'), ('MTA10', 'MTA12C'), ('MTA11', 'MTA12X'), ('MTA12A', 'MTA13'), ('MTA12B', 'MTA14'), ('MTA12C', 'MTA15'), ('MTA12X', 'MTA16'), ('MTA13', 'MTA17'), ('MTA14', 'HH6'), ('MTA15', 'HH7'), ('MTA16', 'MWDOI'), ('MTA17', 'MWDOB'), ('TNLN', 'MWAGE'), ('TN4', 'MWDOM'), ('TN5', 'MWAGEM'), ('TN6', 'MWDOBLC'), ('TN8', 'MMSTATUS'), ('TN9', 'MCEB'), ('TN10', 'MCSURV'), ('TN11', 'MCDEAD'), ('TN12_1', 'MMC1'), ('TN12_2', 'MMC2'), ('TN12_3', 'MMC3'), ('TN12_4', 'MMC4'), ('HH6', 'TNLN'), ('HH7', 'TN4'), ('MWDOI', 'TN5'), ('MWDOB', 'TN6'), ('MWAGE', 'TN8'), ('MWDOM', 'TN9'), ('MWAGEM', 'TN10'), ('MWDOBLC', 'TN11'), ('MMSTATUS', 'TN12_1'), ('MCEB', 'TN12_2'), ('MCSURV', 'TN12_3'), ('MCDEAD', 'TN12_4'), ('wscore', 'wscore'), ('windex5', 'windex5')]\n"
     ]
    }
   ],
   "source": [
    "data_headers = []\n",
    "\n",
    "for i, header in enumerate(data_rows[0]):\n",
    "    if i not in skip_index:\n",
    "        data_headers.append(header)\n",
    "\n",
    "header_match = zip(data_headers, all_short_headers)\n",
    "print(list(header_match))"
   ]
  },
  {
   "cell_type": "markdown",
   "id": "0fbf8e7e",
   "metadata": {},
   "source": [
    "### Reordering our headers to match the dataset"
   ]
  },
  {
   "cell_type": "code",
   "execution_count": 25,
   "id": "d425a09f",
   "metadata": {},
   "outputs": [],
   "source": [
    "all_short_headers = [h[0] for h in header_rows]\n",
    "\n",
    "skip_index = []\n",
    "final_header_rows = []\n",
    "\n",
    "for header in data_rows[0]:\n",
    "    if header not in all_short_headers:\n",
    "        index = data_rows[0].index(header)\n",
    "        skip_index.append(index)\n",
    "    else:\n",
    "        for head in header_rows:\n",
    "            if head[0] == header:\n",
    "                final_header_rows.append(head)\n",
    "                break\n",
    "                \n",
    "new_data = []\n",
    "\n",
    "for row in data_rows[1:]:\n",
    "    new_row = []\n",
    "    \n",
    "    for i, d in enumerate(row):\n",
    "        if i not in skip_index:\n",
    "            new_row.append(d)\n",
    "    new_data.append(new_row)\n",
    "\n",
    "zipped_data = []\n",
    "for drow in new_data:\n",
    "    zipped_data.append(zip(final_header_rows, drow))"
   ]
  },
  {
   "cell_type": "code",
   "execution_count": 26,
   "id": "4d3b4dec",
   "metadata": {},
   "outputs": [
    {
     "name": "stdout",
     "output_type": "stream",
     "text": [
      "[(['HH1', 'Cluster number', ''], '1'), (['HH2', 'Household number', ''], '20'), (['LN', 'Line number', ''], '1'), (['MWM1', 'Cluster number', ''], '1'), (['MWM2', 'Household number', ''], '20'), (['MWM4', \"Man's line number\", ''], '1'), (['MWM5', 'Interviewer number', ''], '14'), (['MWM6D', 'Day of interview', ''], '7'), (['MWM6M', 'Month of interview', ''], '4'), (['MWM6Y', 'Year of interview', ''], '2014'), (['MWM7', \"Result of man's interview\", ''], 'Completed'), (['MWM8', 'Field editor', ''], '2'), (['MWM9', 'Data entry clerk', ''], '20'), (['MWM10H', 'Start of interview - Hour', ''], '17'), (['MWM10M', 'Start of interview - Minutes', ''], '32'), (['MWM11H', 'End of interview - Hour', ''], '17'), (['MWM11M', 'End of interview - Minutes', ''], '42'), (['MWB1M', 'Month of birth of man', 'In what month and year were you born?'], '5'), (['MWB1Y', 'Year of birth of man', 'In what month and year were you born?'], '1976'), (['MWB2', 'Age of man', 'How old are you?'], '37'), (['MWB3', 'Ever attended school', 'Have you ever attended school or a preschool institution?'], 'Yes'), (['MWB4', 'Highest level of school attended', 'What is the highest education level you attended?'], 'Higher'), (['MWB5', 'Highest grade completed at that level', 'What is the highest grade/year you completed at that level?'], '31'), (['MWB7', 'Can read part of the sentence', 'Now I would like you to read this sentence to me.\\nShow the sentence on the card to the respondent. If the respondent cannot read the whole sentence, probe: Can you read part of the sentence to me?'], 'NA'), (['MMT2', 'Frequency of reading newspaper or magazine', 'How often do you read a newspaper or magazine: Almost every day, at least once a week, less than once a week or not at all?'], 'At least once a week'), (['MMT3', 'Frequency of listening to the radio', 'Do you listen to the radio almost every day, at least once a week, less than once a week or not at all?'], 'Not at all'), (['MMT4', 'Frequency of watching TV', 'How often do you watch television: Would you say that you watch TV almost every day, at least once a week, less than once a week or not at all?'], 'Almost every day'), (['MMT6', 'Ever used a computer', 'Have you ever used a computer?'], 'Yes'), (['MMT7', 'Computer usage in the last 12 months', 'In the last 12 months, have you used a computer from any location?'], 'Yes'), (['MMT8', 'Frequency of computer usage in the last month', 'During the last month, how often did you use a computer: almost every day, at least once a week, less than once a week or not at all?'], 'Almost every day'), (['MMT9', 'Ever used internet', 'Have you ever used the internet?'], 'Yes'), (['MMT10', 'Internet usage in the last 12 months', 'In the last 12 months, have you used the internet?'], 'Yes'), (['MMT11', 'Frequency of Internet usage in the past month', 'During the last month, how often did you use the internet: almost every day, at least once a week, less than once a week or not at all?'], 'Almost every day'), (['MMT12', 'Ever used a mobile or non-mobile phone', ''], 'Yes'), (['MMT13', 'Mobile or non-mobile phone usage in the last 12 months', ''], 'Yes'), (['MMT14', 'Frequency of mobile or non-mobile usage in the past month', ''], 'Almost every day'), (['MCM1', 'Ever fathered any children with any women', 'Now i would like to ask about all the children you have had in your lifetime. I am interested in all of the children that are biologically yours, even if they are not legally yours or do not have your last name.\\nHave you had any biological children with any woman?'], 'No'), (['MCM3', 'Age when first child was born', 'How old were you when your (first) child was born?'], 'NA'), (['MCM4', 'Any sons or daughters living with you', 'Do you have any biological sons or daughters who are now living with you?'], 'NA'), (['MCM5A', 'Sons living with you', 'How many sons live with you?'], 'NA'), (['MCM5B', 'Daughters living with you', 'How many daughters live with you?'], 'NA'), (['MCM6', 'Any sons or daughters not living with you', 'Do you have any biological sons or daughters who are alive but do not live with you?'], 'NA'), (['MCM7A', 'Sons living elsewhere', 'How many sons are alive but do not live with you?'], 'NA'), (['MCM7B', 'Daughters living elsewhere', 'How many daughters are alive but do not live with you?'], 'NA'), (['MCM8', 'Ever had child who later died', 'Have you had a biological son or daughter who was born alive but later died?'], 'No'), (['MCM9A', 'Boys dead', 'How many boys have died?'], 'NA'), (['MCM9B', 'Girls dead', 'How many girls have died?'], 'NA'), (['MCM10', 'Children ever born', ''], '0'), (['MCM11A', 'Same biological mother', 'Did all the biological children you have, have the same biological mother?'], 'NA'), (['MCM11B', 'Number of women respondent fathered children with', 'In all, how many women have you had biological children with?'], 'NA'), (['MCM12M', 'Month of last birth', 'Of these (total number in MCM10) biological children, when was the last one born (even if he or she has died)?'], 'NA'), (['MCM12Y', 'Year of last birth', 'Of these (total number in MCM10) biological children, when was the last one born (even if he or she has died)?'], 'NA'), (['MDV1A', 'If she goes out with out telling husband: wife beating justified', 'Sometimes a husband becomes annoyed or gets angry at things that his wife does. In your opinion, is a husband justified in hitting or beating his wife in the following situations: [A] If she goes out without telling him?'], 'No'), (['MDV1B', 'If she neglects the children: wife beating justified', 'Sometimes a husband becomes annoyed or gets angry at things that his wife does. In your opinion, is a husband justified in hitting or beating his wife in the following situations: [B] If she neglects the children?'], 'No'), (['MDV1C', 'If she argues with husband: wife beating justified', 'Sometimes a husband becomes annoyed or gets angry at things that his wife does. In your opinion, is a husband justified in hitting or beating his wife in the following situations: [C] If she argues with him?'], 'No'), (['MDV1D', 'If she refuses sex with husband: wife beating justified', 'Sometimes a husband becomes annoyed or gets angry at things that his wife does. In your opinion, is a husband justified in hitting or beating his wife in the following situations: [D] If she refuses to have sex with him?'], 'No'), (['MDV1E', 'If she burns the food: wife beating justified', 'Sometimes a husband becomes annoyed or gets angry at things that his wife does. In your opinion, is a husband justified in hitting or beating his wife in the following situations: [E] If she burns the food?'], 'No'), (['MDV1F', 'Is she commits infidelity: wife beating justified', 'Sometimes a husband becomes annoyed or gets angry at things that his wife does. In your opinion, is a husband justified in hitting or beating his wife in the following situations: [F] If she commits infedelity?'], 'No'), (['MMA1', 'Currently married or living with a man', 'Are you currently married or living together with a woman as if married?'], 'Yes, currently married'), (['MMA3', 'Haveing other wives or liveing with other women as if you are married', 'Do you have other wives or do you live with other women as if married?'], 'No (Only one)'), (['MMA4', 'How many other wives / partners living with you', 'How many other wives or live-in partners do you have?'], 'NA'), (['MMA5', 'Ever married or lived with a woman', 'Have you ever been married or lived together with a woman as if married?'], 'NA'), (['MMA6', 'Marital status', 'What is your marital status now: are you widowed, divorced or separated?'], 'NA'), (['MMA7', 'Married or lived with a woman once or more than once', 'Have you been married or lived with a woman only once or more than once?'], 'Only once'), (['MMA8M', 'Month of first union', 'In what month and year did you first marry or start living with a woman as if married?'], '2'), (['MMA8Y', 'Year of first union', 'In what month and year did you first marry or start living with a woman as if married?'], '2014'), (['MMA9', 'Age at first union', 'How old were you when you started living with your first wife/partner?'], 'NA'), (['MSB1', 'Age at first sexual intercourse', 'Now i would like to ask you some questions about sexual activity in order to get a better understanding of some important life issues.\\nThe information you provide will remain strictly confidential. How old were you when you had sexual intercourse for the very first time?'], '37'), (['MSB2', 'Condom used during first sexual intercourse', 'The first time you had sexual intercourse, was a condom used?'], 'No'), (['MSB3U', 'Time since last sexual intercourse (unit)', \"When was the last time you had sexual intercourse?\\nRecord 'years ago' only if last intercourse was one or more years ago. If 12 months or more the answer must be recorded in years.\"], 'Days ago'), (['MSB3N', 'Time since last sexual intercourse (number)', \"When was the last time you had sexual intercourse?\\nRecord 'years ago' only if last intercourse was one or more years ago. If 12 months or more the answer must be recorded in years.\"], '0'), (['MSB4', 'Condom used at last sexual intercourse', 'The last time you had sexual intercourse, was a condom used?'], 'No'), (['MSB5', 'Relationship to last sexual partner', 'What was your relationship to the person you last had sexual intercourse with?'], 'Wife'), (['MSB8', 'Sex with any other person in the last 12 month', 'Have you had sexual intercourse with any other person in the last 12 months?'], 'No'), (['MSB9', 'Condom used with prior sexual partner', 'The last time you had sexual intercourse with this other person, was a condom used?'], 'NA'), (['MSB10', 'Relationship to prior sexual partner', 'What was your relationship to this person?'], 'NA'), (['MSB13', 'Sex with any other man in the last 12 months', 'In the last 12 months, have you had sexual intercourse with any other person, other than these two persons?'], 'NA'), (['MSB14', 'Number of sex partners in last 12 months', 'In total, with how many different people have you had sexual intercourse in the last 12 months?'], 'NA'), (['MSB15', 'Number of sex partners in lifetime', 'In total, with how many different people have you had sexual intercourse in your lifetime?'], '1'), (['MHA1', 'Ever heard of AIDS', 'Now i would like to talk with you about something else.\\nHave you ever heard of the HIV virus or an illness called AIDS (or SIDA)?'], 'Yes'), (['MHA2', 'Can avoid AIDS virus by having one uninfected partner', 'Can people reduce their chance of getting the virus that causes AIDS by having just one uninfected sex partner who has no other sex partners?'], 'Yes'), (['MHA3', 'Can get AIDS virus through supernatural means', 'Can people get the virus that causes AIDS because of witchcraft or other supernatural means?'], 'No'), (['MHA4', 'Can avoid AIDS virus by using a condom correctly every time', 'Can people reduce their chance of getting the virus that causes AIDS by using a condom every time they have sex?'], 'Yes'), (['MHA5', 'Can get AIDS virus from mosquito bites', 'Can people get the virus that causes AIDS from mosquito bites?'], 'No'), (['MHA6', 'Can get AIDS virus by sharing food with a person who has AIDS', 'Can people get the virus that causes AIDS by sharing food with a person who has AIDS?'], 'No'), (['MHA7', 'Healthy-looking person may have AIDS virus', 'Is it possible for a healthy-looking person to have the virus that causes AIDS?'], 'Yes'), (['MHA8A', 'AIDS virus from mother to child during pregnancy', 'Can the virus that causes AIDS be transmitted from a mother to her baby: [A] During pregnancy?'], 'No'), (['MHA8B', 'AIDS virus from mother to child during delivery', 'Can the virus that causes AIDS be transmitted from a mother to her baby: [B] During delivery?'], 'Yes'), (['MHA8C', 'AIDS virus from mother to child through breastfeeding', 'Can the virus that causes AIDS be transmitted from a mother to her baby: [C] By breastfeeding?'], 'Yes'), (['MHA9', 'Should female teacher with AIDS virus be allowed to teach in school', 'In your opinion, if a female teacher has the virus that causes AIDS but is not sick, should she be allowed to continue teaching in school?'], 'Yes'), (['MHA10', 'Would buy fresh vegetables from shopkeeper with AIDS virus', 'Would you buy fresh vegetables from a shopkeeper or salesperson if you knew that this person had the virus that causes AIDS?'], 'Yes'), (['MHA11', 'If HH member became infected with AIDS virus, would want it to remain a secret', 'If a member of your family got infected with the virus that causes AIDS, would you want it to remain a secret?'], 'Yes'), (['MHA12', 'Willing to care for person with AIDS in household', 'If a member of your family became sick with AIDS, would you be willing to care for him or her in your own household?'], 'No'), (['MHA24', 'Ever been tested for AIDS virus', 'I don’t want to know the results, but have you ever been tested to see if you have the virus that causes AIDS?'], 'Yes'), (['MHA25', 'Most recent time of testing for AIDS virus', 'When was the most recent time you were tested?'], 'Less than 12 months ago'), (['MHA26', 'Received results of AIDS virus test', 'I don’t want to know the results, but did you get the results of this test?'], 'Yes'), (['MHA27', 'Know a place to get AIDS virus test', 'Do you know of a place where people can go to get tested for the virus that causes AIDS?'], 'NA'), (['MMC1', 'Respondent is circumcised', ''], 'No'), (['MMC2', 'Age at circumcision', ''], 'NA'), (['MMC3', 'Person performing circumcision', ''], 'NA'), (['MMC4', 'Place of circumcision', ''], 'NA'), (['MTA1', 'Ever tried cigarette smoking', 'Have you ever tried smoking cigarettes, even taking one or two puffs?'], 'No'), (['MTA2', 'Age when cigarette was smoked for the first time', 'How old were you when you smoked an entire cigarette for the first time?'], 'NA'), (['MTA3', 'Currently smoking cigarettes', 'Do you currently smoke cigarettes?'], 'NA'), (['MTA4', 'Number of cigarettes smoked in the last 24 hours', 'How many cigarettes did you smoke during the last month?'], 'NA'), (['MTA5', 'Number of days when cigarettes were smoked in past month', 'During the last month, on how many days did you smoke cigarettes?'], 'NA'), (['MTA6', 'Ever tried any smoked tobacco products other than cigarettes', 'Have you ever tried any smoked tobacco products other than cigarettes, such as cigars (e.g. Cuban), a pipe or waterpipe (narghile/hookah)?'], 'No'), (['MTA7', 'Used any smoked tobacco products during the last month', 'During the last month, did you use any smoked tobacco products?'], 'NA'), (['MTA8A', 'Type of smoked tobacco product: Cigars', 'What type of smoked tobacco product did you use or smoke during the last month?'], 'NA'), (['MTA8B', 'Type of smoked tobacco product: Water pipe', 'What type of smoked tobacco product did you use or smoke during the last month?'], 'NA'), (['MTA8C', 'Type of smoked tobacco product: Cigarillos', 'What type of smoked tobacco product did you use or smoke during the last month?'], 'NA'), (['MTA8D', 'Type of smoked tobacco product: Pipe', 'What type of smoked tobacco product did you use or smoke during the last month?'], 'NA'), (['MTA8E', 'Type of smoked tomacco product: Rolled tobacco', ''], 'NA'), (['MTA8X', 'Type of smoked tobacco product: Other', 'What type of smoked tobacco product did you use or smoke during the last month?'], 'NA'), (['MTA9', 'Number of days when tobacco products where smoked in past month', 'On how many days did you use smoked tobacco products during the last month?'], 'NA'), (['MTA10', 'Ever tried any form of smokeless tobacco products', 'Have you ever tried any form of smokeless tobacco products, such as chewing tobacco, tobacco for sniffing (snuff) or dipping tobacco?'], 'No'), (['MTA11', 'Used any smokeless tobacco products during the last month', 'Did you use any smokeless tobacco products during the last month?'], 'NA'), (['MTA12A', 'Type of smokeless tobacco product used: Chewing tobacco', 'What type of smokeless tobacco product did you use during the last month?'], 'NA'), (['MTA12B', 'Type of smokeless tobacco product used: Snuff', 'What type of smokeless tobacco product did you use during the last month?'], 'NA'), (['MTA12C', 'Type of smokeless tobacco product used: Dip', 'What type of smokeless tobacco product did you use during the last month?'], 'NA'), (['MTA12X', 'Type of smokeless tobacco product used: Other', 'What type of smokeless tobacco product did you use during the last month?'], 'NA'), (['MTA13', 'Number of days when smokeless tobacco products where used in past month', 'On how many days did you use smokeless tobacco products during the last month?'], 'NA'), (['MTA14', 'Ever drunk alcohol', 'Now i would like to ask you some questions about drinking alcohol.\\nHave you ever drunk alcohol?'], 'No'), (['MTA15', 'Age when alcohol was used for the first time', 'We count one drink of alcohol as one can or bottle of beer, one glass of wine, or one shot of strong drink.\\nHow old were you when you had your first drink of alcohol, not counting a few sips?'], 'NA'), (['MTA16', 'Number of days when at least one drink of alcohol was used in past month', 'During the last month, on how many days did you have at least one drink of alcohol?'], 'NA'), (['MTA17', 'Number of drinks usually consumed', 'In the last month, on those days that you drank alcohol, what is the number of drinks did you usually had?'], 'NA'), (['TNLN', 'Net number', ''], 'NA'), (['TN4', 'Mosquito net observed', ''], 'NA'), (['TN5', 'Brand/type of observed net', ''], 'NA'), (['TN6', 'Months ago net obtained', 'How many months ago did your household get the mosquito net?'], 'NA'), (['TN8', 'Net treated with an insecticide when obtained', 'When you got the net, was it already treated with an insecticide to kill or repel mosquitoes?'], 'NA'), (['TN9', 'Net soaked or dipped since obtained', 'Since you got the net, was it ever soaked or dipped in a liquid to kill or repel mosquitoes?'], 'NA'), (['TN10', 'Months ago net soaked or dipped', 'How many months ago was the net last soaked or dipped?'], 'NA'), (['TN11', 'Persons slept under mosquito net last night', 'Did anyone sleep under this mosquito net last night?'], 'NA'), (['TN12_1', 'Person 1 who slept under net', 'Who slept under this mosquito net last night?'], 'NA'), (['TN12_2', 'Person 2 who slept under net', 'Who slept under this mosquito net last night?'], 'NA'), (['TN12_3', 'Person 3 who slept under net', 'Who slept under this mosquito net last night?'], 'NA'), (['TN12_4', 'Person 4 who slept under net', 'Who slept under this mosquito net last night?'], 'NA'), (['HH6', 'Area', ''], 'Urban'), (['HH7', 'Region', ''], 'Bulawayo'), (['MWDOI', 'Date of interview women (CMC)', ''], '1372'), (['MWDOB', 'Date of birth of woman (CMC)', ''], '917'), (['MWAGE', 'Age', ''], '35-39'), (['MWDOM', 'Date of marriage (CMC)', ''], '1370'), (['MWAGEM', 'Age at first marriage/union', ''], '37'), (['MWDOBLC', 'Date of birth of last child (CMC)', ''], 'NA'), (['MMSTATUS', 'Marital/Union status', ''], 'Currently married/in union'), (['MCEB', 'Children ever born', ''], '0'), (['MCSURV', 'Children surviving', ''], '0'), (['MCDEAD', 'Children dead', ''], '0'), (['wscore', 'Wealth index score', ''], '1.54327702631422'), (['windex5', 'Wealth index quintiles', ''], '5')]\n"
     ]
    }
   ],
   "source": [
    "print(list(zipped_data[1]))"
   ]
  },
  {
   "cell_type": "code",
   "execution_count": 29,
   "id": "914d26dd",
   "metadata": {},
   "outputs": [],
   "source": [
    "import pickle\n",
    "\n",
    "# Save the list to a file\n",
    "with open('zipped_data.pkl', 'wb') as file:\n",
    "    pickle.dump(zipped_data, file)"
   ]
  }
 ],
 "metadata": {
  "kernelspec": {
   "display_name": "data-wrangling",
   "language": "python",
   "name": "data-wrangling"
  },
  "language_info": {
   "codemirror_mode": {
    "name": "ipython",
    "version": 3
   },
   "file_extension": ".py",
   "mimetype": "text/x-python",
   "name": "python",
   "nbconvert_exporter": "python",
   "pygments_lexer": "ipython3",
   "version": "3.11.5"
  }
 },
 "nbformat": 4,
 "nbformat_minor": 5
}
