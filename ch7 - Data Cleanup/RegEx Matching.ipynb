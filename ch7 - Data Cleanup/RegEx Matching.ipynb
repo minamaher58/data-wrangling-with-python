{
 "cells": [
  {
   "cell_type": "code",
   "execution_count": 1,
   "id": "b9b338c2",
   "metadata": {},
   "outputs": [],
   "source": [
    "import re"
   ]
  },
  {
   "cell_type": "code",
   "execution_count": 2,
   "id": "fd2898bd",
   "metadata": {},
   "outputs": [
    {
     "data": {
      "text/plain": [
       "['Here', 'is', 'my', 'sentence']"
      ]
     },
     "execution_count": 2,
     "metadata": {},
     "output_type": "execute_result"
    }
   ],
   "source": [
    "word = '\\w+'\n",
    "sentence = 'Here is my sentence.'\n",
    "re.findall(word, sentence)"
   ]
  },
  {
   "cell_type": "code",
   "execution_count": 3,
   "id": "fa896c30",
   "metadata": {},
   "outputs": [
    {
     "data": {
      "text/plain": [
       "'Here'"
      ]
     },
     "execution_count": 3,
     "metadata": {},
     "output_type": "execute_result"
    }
   ],
   "source": [
    "# the search method allows us to search for a match throughout the string.\n",
    "search_result = re.search(word, sentence)\n",
    "search_result.group()"
   ]
  },
  {
   "cell_type": "code",
   "execution_count": 4,
   "id": "a771ebc6",
   "metadata": {},
   "outputs": [
    {
     "data": {
      "text/plain": [
       "'Here'"
      ]
     },
     "execution_count": 4,
     "metadata": {},
     "output_type": "execute_result"
    }
   ],
   "source": [
    "#the match method searaches only from the beginning of the string.\n",
    "match_result = re.match(word, sentence)\n",
    "match_result.group()"
   ]
  },
  {
   "cell_type": "code",
   "execution_count": 5,
   "id": "e70fee46",
   "metadata": {},
   "outputs": [
    {
     "data": {
      "text/plain": [
       "'2'"
      ]
     },
     "execution_count": 5,
     "metadata": {},
     "output_type": "execute_result"
    }
   ],
   "source": [
    "# another example for the difference between match method and search method\n",
    "number = '\\d+'\n",
    "capitalized_word = '[A-Z]\\w+'\n",
    "sentence = 'I have 2 pets: Bear and Bunny'\n",
    "\n",
    "search_number = re.search(number, sentence)\n",
    "search_number.group()"
   ]
  },
  {
   "cell_type": "code",
   "execution_count": 6,
   "id": "e47da314",
   "metadata": {},
   "outputs": [
    {
     "ename": "AttributeError",
     "evalue": "'NoneType' object has no attribute 'group'",
     "output_type": "error",
     "traceback": [
      "\u001b[1;31m---------------------------------------------------------------------------\u001b[0m",
      "\u001b[1;31mAttributeError\u001b[0m                            Traceback (most recent call last)",
      "Cell \u001b[1;32mIn[6], line 2\u001b[0m\n\u001b[0;32m      1\u001b[0m match_number \u001b[38;5;241m=\u001b[39m re\u001b[38;5;241m.\u001b[39mmatch(number, sentence)\n\u001b[1;32m----> 2\u001b[0m match_number\u001b[38;5;241m.\u001b[39mgroup()\n",
      "\u001b[1;31mAttributeError\u001b[0m: 'NoneType' object has no attribute 'group'"
     ]
    }
   ],
   "source": [
    "match_number = re.match(number, sentence)\n",
    "match_number.group()"
   ]
  },
  {
   "cell_type": "code",
   "execution_count": 7,
   "id": "d99162c6",
   "metadata": {},
   "outputs": [
    {
     "data": {
      "text/plain": [
       "'Bear'"
      ]
     },
     "execution_count": 7,
     "metadata": {},
     "output_type": "execute_result"
    }
   ],
   "source": [
    "search_capital = re.search(capitalized_word, sentence)\n",
    "search_capital.group()"
   ]
  },
  {
   "cell_type": "code",
   "execution_count": 8,
   "id": "031a3438",
   "metadata": {
    "scrolled": true
   },
   "outputs": [
    {
     "ename": "AttributeError",
     "evalue": "'NoneType' object has no attribute 'group'",
     "output_type": "error",
     "traceback": [
      "\u001b[1;31m---------------------------------------------------------------------------\u001b[0m",
      "\u001b[1;31mAttributeError\u001b[0m                            Traceback (most recent call last)",
      "Cell \u001b[1;32mIn[8], line 2\u001b[0m\n\u001b[0;32m      1\u001b[0m match_capital \u001b[38;5;241m=\u001b[39m re\u001b[38;5;241m.\u001b[39mmatch(capitalized_word, sentence)\n\u001b[1;32m----> 2\u001b[0m match_capital\u001b[38;5;241m.\u001b[39mgroup()\n",
      "\u001b[1;31mAttributeError\u001b[0m: 'NoneType' object has no attribute 'group'"
     ]
    }
   ],
   "source": [
    "match_capital = re.match(capitalized_word, sentence)\n",
    "match_capital.group()"
   ]
  },
  {
   "cell_type": "code",
   "execution_count": 9,
   "id": "629e1a45",
   "metadata": {},
   "outputs": [
    {
     "data": {
      "text/plain": [
       "'Barack Obama'"
      ]
     },
     "execution_count": 9,
     "metadata": {},
     "output_type": "execute_result"
    }
   ],
   "source": [
    "# with regex we can find more than one pattern.\n",
    "name_regex = '([A-Z]\\w+) ([A-Z]\\w+)'\n",
    "names = 'Barack Obama, Ronald Reagan, Nancy Drew'\n",
    "\n",
    "name_match = re.match(name_regex, names)\n",
    "name_match.group()"
   ]
  },
  {
   "cell_type": "code",
   "execution_count": 10,
   "id": "2902aca0",
   "metadata": {},
   "outputs": [
    {
     "data": {
      "text/plain": [
       "('Barack', 'Obama')"
      ]
     },
     "execution_count": 10,
     "metadata": {},
     "output_type": "execute_result"
    }
   ],
   "source": [
    "name_match.groups()\n"
   ]
  },
  {
   "cell_type": "code",
   "execution_count": 11,
   "id": "89af127d",
   "metadata": {
    "scrolled": true
   },
   "outputs": [
    {
     "name": "stdout",
     "output_type": "stream",
     "text": [
      "Meet Barack!\n",
      "Meet Ronald!\n",
      "Meet Nancy!\n"
     ]
    }
   ],
   "source": [
    "name_regex = '(?P<first_name>[A-Z]\\w+) (?P<last_name>[A-Z]\\w+)'\n",
    "\n",
    "for name in re.finditer(name_regex, names):\n",
    "    print('Meet {}!'.format(name.group('first_name')))"
   ]
  },
  {
   "cell_type": "markdown",
   "id": "44533de5",
   "metadata": {},
   "source": [
    "### What to do with duplicate Records"
   ]
  },
  {
   "cell_type": "code",
   "execution_count": 13,
   "id": "421a9043",
   "metadata": {},
   "outputs": [
    {
     "name": "stdout",
     "output_type": "stream",
     "text": [
      "6920\n"
     ]
    }
   ],
   "source": [
    "from csv import DictReader\n",
    "\n",
    "mn_data_rdr = DictReader(open('mn.csv', 'r', encoding='utf-8'))\n",
    "mn_data = [d for d in mn_data_rdr]\n",
    "\n",
    "def combine_data_dict(data_rows):\n",
    "    data_dict = {}\n",
    "    for row in data_rows:\n",
    "        key = '%s-%s' % (row.get('HH1'), row.get('HH2'))\n",
    "        if key in data_dict.keys():\n",
    "            data_dict[key].append(row)\n",
    "        else:\n",
    "            data_dict[key] = [row]\n",
    "    return data_dict\n",
    "\n",
    "mn_dict = combine_data_dict(mn_data)\n",
    "print(len(mn_dict))"
   ]
  },
  {
   "cell_type": "code",
   "execution_count": 14,
   "id": "a97c285d",
   "metadata": {},
   "outputs": [
    {
     "name": "stdout",
     "output_type": "stream",
     "text": [
      "9008\n"
     ]
    }
   ],
   "source": [
    "print(len(mn_data))"
   ]
  },
  {
   "cell_type": "code",
   "execution_count": 15,
   "id": "5af833a1",
   "metadata": {},
   "outputs": [],
   "source": [
    "# we found approximately 7000 unique households, meaning a little over 2000 men who were interviewed shared a household.\n",
    "# the average number of men per house-hold for this interview was 1.3."
   ]
  }
 ],
 "metadata": {
  "kernelspec": {
   "display_name": "data-wrangling",
   "language": "python",
   "name": "data-wrangling"
  },
  "language_info": {
   "codemirror_mode": {
    "name": "ipython",
    "version": 3
   },
   "file_extension": ".py",
   "mimetype": "text/x-python",
   "name": "python",
   "nbconvert_exporter": "python",
   "pygments_lexer": "ipython3",
   "version": "3.11.5"
  }
 },
 "nbformat": 4,
 "nbformat_minor": 5
}
